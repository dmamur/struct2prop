{
  "cells": [
    {
      "cell_type": "markdown",
      "metadata": {
        "id": "view-in-github",
        "colab_type": "text"
      },
      "source": [
        "<a href=\"https://colab.research.google.com/github/dmamur/struct2prop/blob/main/embed_phdos_colab.ipynb\" target=\"_parent\"><img src=\"https://colab.research.google.com/assets/colab-badge.svg\" alt=\"Open In Colab\"/></a>"
      ]
    },
    {
      "cell_type": "code",
      "execution_count": null,
      "id": "a7b1fb1b",
      "metadata": {
        "id": "a7b1fb1b",
        "scrolled": true
      },
      "outputs": [],
      "source": [
        "import pickle,re, glob,os,random \n",
        "import numpy as np\n",
        "import pandas as pd\n",
        "import tensorflow as tf\n",
        "import matplotlib.pyplot as plt\n",
        "from tensorflow import keras\n",
        "from keras.models import Sequential, Model\n",
        "from keras.layers import Embedding,Dense,Dropout,Input,Concatenate,Flatten,Bidirectional,LSTM,Reshape\n",
        "from keras.utils import np_utils\n",
        "from keras.utils.vis_utils import plot_model\n",
        "import keras.backend as K \n",
        "from collections import defaultdict\n",
        "\n",
        "loss_fn = keras.losses.SparseCategoricalCrossentropy(\n",
        "    reduction=tf.keras.losses.Reduction.NONE\n",
        ")\n",
        "loss_tracker = tf.keras.metrics.Mean(name=\"loss\")\n",
        "\n",
        "class MaskedLanguageModel(tf.keras.Model):\n",
        "    def train_step(self, inputs):\n",
        "        if len(inputs) == 3:\n",
        "            features, labels, sample_weight = inputs\n",
        "        else:\n",
        "            features, labels = inputs\n",
        "            sample_weight = None\n",
        "\n",
        "        with tf.GradientTape() as tape:\n",
        "            predictions = self(features, training=True)\n",
        "            loss = loss_fn(labels, predictions, sample_weight=sample_weight)\n",
        "\n",
        "        # Compute gradients\n",
        "        trainable_vars = self.trainable_variables\n",
        "        gradients = tape.gradient(loss, trainable_vars)\n",
        "\n",
        "        # Update weights\n",
        "        self.optimizer.apply_gradients(zip(gradients, trainable_vars))\n",
        "\n",
        "        # Compute our own metrics\n",
        "        loss_tracker.update_state(loss, sample_weight=sample_weight)\n",
        "\n",
        "        # Return a dict mapping metric names to current value\n",
        "        return {\"loss\": loss_tracker.result()}\n",
        "\n",
        "    @property\n",
        "    def metrics(self):\n",
        "        # We list our `Metric` objects here so that `reset_states()` can be\n",
        "        # called automatically at the start of each epoch\n",
        "        # or at the start of `evaluate()`.\n",
        "        # If you don't implement this property, you have to call\n",
        "        # `reset_states()` yourself at the time of your choosing.\n",
        "        return [loss_tracker]\n",
        "\n",
        "def loadData(fname,printkeys='y'):\n",
        "    # for reading also binary mode is important\n",
        "    dbfile = open(fname, 'rb')     \n",
        "    db = pickle.load(dbfile)\n",
        "    if printkeys=='y':\n",
        "        for keys in db:\n",
        "            print(keys)\n",
        "    return db\n",
        "\n"
      ]
    },
    {
      "cell_type": "code",
      "source": [
        "!git clone https://github.com/dmamur/struct2prop.git \n",
        "!git clone https://github.com/ninarina12/phononDoS_tutorial.git\n",
        "%cd phononDoS_tutorial"
      ],
      "metadata": {
        "colab": {
          "base_uri": "https://localhost:8080/"
        },
        "id": "zgmyMBD2uJtw",
        "outputId": "7dac5699-976b-4ab4-f742-bfdd49dc8dd4"
      },
      "id": "zgmyMBD2uJtw",
      "execution_count": null,
      "outputs": [
        {
          "output_type": "stream",
          "name": "stdout",
          "text": [
            "Cloning into 'struct2prop'...\n",
            "remote: Enumerating objects: 54, done.\u001b[K\n",
            "remote: Counting objects: 100% (54/54), done.\u001b[K\n",
            "remote: Compressing objects: 100% (50/50), done.\u001b[K\n",
            "remote: Total 54 (delta 16), reused 0 (delta 0), pack-reused 0\u001b[K\n",
            "Unpacking objects: 100% (54/54), 3.03 MiB | 5.25 MiB/s, done.\n",
            "Cloning into 'phononDoS_tutorial'...\n",
            "remote: Enumerating objects: 299, done.\u001b[K\n",
            "remote: Counting objects: 100% (5/5), done.\u001b[K\n",
            "remote: Compressing objects: 100% (5/5), done.\u001b[K\n",
            "remote: Total 299 (delta 1), reused 3 (delta 0), pack-reused 294\u001b[K\n",
            "Receiving objects: 100% (299/299), 83.16 MiB | 12.10 MiB/s, done.\n",
            "Resolving deltas: 100% (154/154), done.\n",
            "/content/phononDoS_tutorial\n"
          ]
        }
      ]
    },
    {
      "cell_type": "code",
      "execution_count": null,
      "id": "2c15c928",
      "metadata": {
        "id": "2c15c928"
      },
      "outputs": [],
      "source": [
        "class Config:\n",
        "    MAX_LEN = 128\n",
        "    BATCH_SIZE = 1\n",
        "    LR = 0.001\n",
        "    VOCAB_SIZE = 128\n",
        "    EMBED_DIM = 128\n",
        "    MNAME = 'embed_aunps_'\n",
        "config = Config()\n",
        "path=\"/content/struct2prop/models\"\n",
        "mname=path+config.MNAME+'E_'+str(config.EMBED_DIM)\n",
        "tf.random.set_seed(42)"
      ]
    },
    {
      "cell_type": "code",
      "source": [
        "!pip install ase"
      ],
      "metadata": {
        "colab": {
          "base_uri": "https://localhost:8080/"
        },
        "id": "YnU1NZY4GvMr",
        "outputId": "20b43f97-0daa-4e98-872c-2acb578d9d27"
      },
      "id": "YnU1NZY4GvMr",
      "execution_count": null,
      "outputs": [
        {
          "output_type": "stream",
          "name": "stdout",
          "text": [
            "Looking in indexes: https://pypi.org/simple, https://us-python.pkg.dev/colab-wheels/public/simple/\n",
            "Collecting ase\n",
            "  Downloading ase-3.22.1-py3-none-any.whl (2.2 MB)\n",
            "\u001b[2K     \u001b[90m━━━━━━━━━━━━━━━━━━━━━━━━━━━━━━━━━━━━━━━━\u001b[0m \u001b[32m2.2/2.2 MB\u001b[0m \u001b[31m21.0 MB/s\u001b[0m eta \u001b[36m0:00:00\u001b[0m\n",
            "\u001b[?25hRequirement already satisfied: scipy>=1.1.0 in /usr/local/lib/python3.9/dist-packages (from ase) (1.10.1)\n",
            "Requirement already satisfied: numpy>=1.15.0 in /usr/local/lib/python3.9/dist-packages (from ase) (1.22.4)\n",
            "Requirement already satisfied: matplotlib>=3.1.0 in /usr/local/lib/python3.9/dist-packages (from ase) (3.7.1)\n",
            "Requirement already satisfied: contourpy>=1.0.1 in /usr/local/lib/python3.9/dist-packages (from matplotlib>=3.1.0->ase) (1.0.7)\n",
            "Requirement already satisfied: pyparsing>=2.3.1 in /usr/local/lib/python3.9/dist-packages (from matplotlib>=3.1.0->ase) (3.0.9)\n",
            "Requirement already satisfied: packaging>=20.0 in /usr/local/lib/python3.9/dist-packages (from matplotlib>=3.1.0->ase) (23.0)\n",
            "Requirement already satisfied: cycler>=0.10 in /usr/local/lib/python3.9/dist-packages (from matplotlib>=3.1.0->ase) (0.11.0)\n",
            "Requirement already satisfied: importlib-resources>=3.2.0 in /usr/local/lib/python3.9/dist-packages (from matplotlib>=3.1.0->ase) (5.12.0)\n",
            "Requirement already satisfied: fonttools>=4.22.0 in /usr/local/lib/python3.9/dist-packages (from matplotlib>=3.1.0->ase) (4.39.3)\n",
            "Requirement already satisfied: python-dateutil>=2.7 in /usr/local/lib/python3.9/dist-packages (from matplotlib>=3.1.0->ase) (2.8.2)\n",
            "Requirement already satisfied: pillow>=6.2.0 in /usr/local/lib/python3.9/dist-packages (from matplotlib>=3.1.0->ase) (8.4.0)\n",
            "Requirement already satisfied: kiwisolver>=1.0.1 in /usr/local/lib/python3.9/dist-packages (from matplotlib>=3.1.0->ase) (1.4.4)\n",
            "Requirement already satisfied: zipp>=3.1.0 in /usr/local/lib/python3.9/dist-packages (from importlib-resources>=3.2.0->matplotlib>=3.1.0->ase) (3.15.0)\n",
            "Requirement already satisfied: six>=1.5 in /usr/local/lib/python3.9/dist-packages (from python-dateutil>=2.7->matplotlib>=3.1.0->ase) (1.16.0)\n",
            "Installing collected packages: ase\n",
            "Successfully installed ase-3.22.1\n"
          ]
        }
      ]
    },
    {
      "cell_type": "markdown",
      "id": "86baf7df",
      "metadata": {
        "id": "86baf7df"
      },
      "source": [
        "# Load data from CIF"
      ]
    },
    {
      "cell_type": "code",
      "execution_count": null,
      "id": "5fa12f0c",
      "metadata": {
        "id": "5fa12f0c"
      },
      "outputs": [],
      "source": [
        "from ase.io import read\n",
        "from ase import Atoms\n",
        "from scipy.ndimage import gaussian_filter1d\n",
        "from ase.neighborlist import neighbor_list\n",
        "def getpdf(atoms,x,v):\n",
        "    i, d = neighbor_list('id', atoms, 10.0, self_interaction=False)\n",
        "    pdfatoms=[]\n",
        "    for k,l in enumerate(atoms):\n",
        "        y = np.zeros(100)\n",
        "        dist = np.round(d[i==k]*10)\n",
        "        a,b=np.unique(dist, return_counts=True)\n",
        "        np.put(y,a.astype(int)-1,b)\n",
        "        pdfatoms.append(gaussian_filter1d(y/v,1))\n",
        "    return np.asarray(pdfatoms)"
      ]
    },
    {
      "cell_type": "code",
      "source": [
        "# load data\n",
        "df = pd.read_csv('data/data.csv')\n",
        "df.head()"
      ],
      "metadata": {
        "colab": {
          "base_uri": "https://localhost:8080/",
          "height": 250
        },
        "id": "sY7ptR6Nur53",
        "outputId": "a8edca16-7362-40b2-dfdf-621c4e3f085c"
      },
      "id": "sY7ptR6Nur53",
      "execution_count": null,
      "outputs": [
        {
          "output_type": "execute_result",
          "data": {
            "text/plain": [
              "        mp_id                                          structure  \\\n",
              "0     mp-1000  {'numbers': [56, 52], 'positions': [[0.0, 0.0,...   \n",
              "1  mp-1002124  {'numbers': [72, 6], 'positions': [[0.0, 0.0, ...   \n",
              "2  mp-1002164  {'numbers': [32, 6], 'positions': [[0.0, 0.0, ...   \n",
              "3    mp-10044  {'numbers': [5, 33], 'positions': [[4.44089209...   \n",
              "4  mp-1008223  {'numbers': [20, 34], 'positions': [[0.0, 0.0,...   \n",
              "\n",
              "                                              phfreq  \\\n",
              "0  [0.0, 20.0, 40.0, 60.0, 80.0, 100.0, 120.0, 14...   \n",
              "1  [0.0, 20.0, 40.0, 60.0, 80.0, 100.0, 120.0, 14...   \n",
              "2  [0.0, 20.0, 40.0, 60.0, 80.0, 100.0, 120.0, 14...   \n",
              "3  [0.0, 20.0, 40.0, 60.0, 80.0, 100.0, 120.0, 14...   \n",
              "4  [0.0, 20.0, 40.0, 60.0, 80.0, 100.0, 120.0, 14...   \n",
              "\n",
              "                                               phdos  \\\n",
              "0  [0.0, 0.1603814665137704, 0.366293016390463, 0...   \n",
              "1  [0.02337731725373556, 0.030910686260937723, 0....   \n",
              "2  [0.0, 0.0017221473876927959, 0.005981246148731...   \n",
              "3  [0.0, 0.002277293012378372, 0.0078646582782471...   \n",
              "4  [0.0, 0.258870972416879, 0.5505201512544314, 0...   \n",
              "\n",
              "                                                pdos  \n",
              "0  {'Ba': [0.0, 0.17004785173719497, 0.4321591874...  \n",
              "1  {'Hf': [0.026541048236378005, 0.03587084551615...  \n",
              "2  {'Ge': [0.0, 0.00316167053214679, 0.0109190651...  \n",
              "3  {'B': [0.0, 0.00029269193672558846, 0.00105324...  \n",
              "4  {'Ca': [0.0, 0.11150000312651394, 0.2215562000...  "
            ],
            "text/html": [
              "\n",
              "  <div id=\"df-f7a3085d-265b-4d87-9c19-5f1807d3822b\">\n",
              "    <div class=\"colab-df-container\">\n",
              "      <div>\n",
              "<style scoped>\n",
              "    .dataframe tbody tr th:only-of-type {\n",
              "        vertical-align: middle;\n",
              "    }\n",
              "\n",
              "    .dataframe tbody tr th {\n",
              "        vertical-align: top;\n",
              "    }\n",
              "\n",
              "    .dataframe thead th {\n",
              "        text-align: right;\n",
              "    }\n",
              "</style>\n",
              "<table border=\"1\" class=\"dataframe\">\n",
              "  <thead>\n",
              "    <tr style=\"text-align: right;\">\n",
              "      <th></th>\n",
              "      <th>mp_id</th>\n",
              "      <th>structure</th>\n",
              "      <th>phfreq</th>\n",
              "      <th>phdos</th>\n",
              "      <th>pdos</th>\n",
              "    </tr>\n",
              "  </thead>\n",
              "  <tbody>\n",
              "    <tr>\n",
              "      <th>0</th>\n",
              "      <td>mp-1000</td>\n",
              "      <td>{'numbers': [56, 52], 'positions': [[0.0, 0.0,...</td>\n",
              "      <td>[0.0, 20.0, 40.0, 60.0, 80.0, 100.0, 120.0, 14...</td>\n",
              "      <td>[0.0, 0.1603814665137704, 0.366293016390463, 0...</td>\n",
              "      <td>{'Ba': [0.0, 0.17004785173719497, 0.4321591874...</td>\n",
              "    </tr>\n",
              "    <tr>\n",
              "      <th>1</th>\n",
              "      <td>mp-1002124</td>\n",
              "      <td>{'numbers': [72, 6], 'positions': [[0.0, 0.0, ...</td>\n",
              "      <td>[0.0, 20.0, 40.0, 60.0, 80.0, 100.0, 120.0, 14...</td>\n",
              "      <td>[0.02337731725373556, 0.030910686260937723, 0....</td>\n",
              "      <td>{'Hf': [0.026541048236378005, 0.03587084551615...</td>\n",
              "    </tr>\n",
              "    <tr>\n",
              "      <th>2</th>\n",
              "      <td>mp-1002164</td>\n",
              "      <td>{'numbers': [32, 6], 'positions': [[0.0, 0.0, ...</td>\n",
              "      <td>[0.0, 20.0, 40.0, 60.0, 80.0, 100.0, 120.0, 14...</td>\n",
              "      <td>[0.0, 0.0017221473876927959, 0.005981246148731...</td>\n",
              "      <td>{'Ge': [0.0, 0.00316167053214679, 0.0109190651...</td>\n",
              "    </tr>\n",
              "    <tr>\n",
              "      <th>3</th>\n",
              "      <td>mp-10044</td>\n",
              "      <td>{'numbers': [5, 33], 'positions': [[4.44089209...</td>\n",
              "      <td>[0.0, 20.0, 40.0, 60.0, 80.0, 100.0, 120.0, 14...</td>\n",
              "      <td>[0.0, 0.002277293012378372, 0.0078646582782471...</td>\n",
              "      <td>{'B': [0.0, 0.00029269193672558846, 0.00105324...</td>\n",
              "    </tr>\n",
              "    <tr>\n",
              "      <th>4</th>\n",
              "      <td>mp-1008223</td>\n",
              "      <td>{'numbers': [20, 34], 'positions': [[0.0, 0.0,...</td>\n",
              "      <td>[0.0, 20.0, 40.0, 60.0, 80.0, 100.0, 120.0, 14...</td>\n",
              "      <td>[0.0, 0.258870972416879, 0.5505201512544314, 0...</td>\n",
              "      <td>{'Ca': [0.0, 0.11150000312651394, 0.2215562000...</td>\n",
              "    </tr>\n",
              "  </tbody>\n",
              "</table>\n",
              "</div>\n",
              "      <button class=\"colab-df-convert\" onclick=\"convertToInteractive('df-f7a3085d-265b-4d87-9c19-5f1807d3822b')\"\n",
              "              title=\"Convert this dataframe to an interactive table.\"\n",
              "              style=\"display:none;\">\n",
              "        \n",
              "  <svg xmlns=\"http://www.w3.org/2000/svg\" height=\"24px\"viewBox=\"0 0 24 24\"\n",
              "       width=\"24px\">\n",
              "    <path d=\"M0 0h24v24H0V0z\" fill=\"none\"/>\n",
              "    <path d=\"M18.56 5.44l.94 2.06.94-2.06 2.06-.94-2.06-.94-.94-2.06-.94 2.06-2.06.94zm-11 1L8.5 8.5l.94-2.06 2.06-.94-2.06-.94L8.5 2.5l-.94 2.06-2.06.94zm10 10l.94 2.06.94-2.06 2.06-.94-2.06-.94-.94-2.06-.94 2.06-2.06.94z\"/><path d=\"M17.41 7.96l-1.37-1.37c-.4-.4-.92-.59-1.43-.59-.52 0-1.04.2-1.43.59L10.3 9.45l-7.72 7.72c-.78.78-.78 2.05 0 2.83L4 21.41c.39.39.9.59 1.41.59.51 0 1.02-.2 1.41-.59l7.78-7.78 2.81-2.81c.8-.78.8-2.07 0-2.86zM5.41 20L4 18.59l7.72-7.72 1.47 1.35L5.41 20z\"/>\n",
              "  </svg>\n",
              "      </button>\n",
              "      \n",
              "  <style>\n",
              "    .colab-df-container {\n",
              "      display:flex;\n",
              "      flex-wrap:wrap;\n",
              "      gap: 12px;\n",
              "    }\n",
              "\n",
              "    .colab-df-convert {\n",
              "      background-color: #E8F0FE;\n",
              "      border: none;\n",
              "      border-radius: 50%;\n",
              "      cursor: pointer;\n",
              "      display: none;\n",
              "      fill: #1967D2;\n",
              "      height: 32px;\n",
              "      padding: 0 0 0 0;\n",
              "      width: 32px;\n",
              "    }\n",
              "\n",
              "    .colab-df-convert:hover {\n",
              "      background-color: #E2EBFA;\n",
              "      box-shadow: 0px 1px 2px rgba(60, 64, 67, 0.3), 0px 1px 3px 1px rgba(60, 64, 67, 0.15);\n",
              "      fill: #174EA6;\n",
              "    }\n",
              "\n",
              "    [theme=dark] .colab-df-convert {\n",
              "      background-color: #3B4455;\n",
              "      fill: #D2E3FC;\n",
              "    }\n",
              "\n",
              "    [theme=dark] .colab-df-convert:hover {\n",
              "      background-color: #434B5C;\n",
              "      box-shadow: 0px 1px 3px 1px rgba(0, 0, 0, 0.15);\n",
              "      filter: drop-shadow(0px 1px 2px rgba(0, 0, 0, 0.3));\n",
              "      fill: #FFFFFF;\n",
              "    }\n",
              "  </style>\n",
              "\n",
              "      <script>\n",
              "        const buttonEl =\n",
              "          document.querySelector('#df-f7a3085d-265b-4d87-9c19-5f1807d3822b button.colab-df-convert');\n",
              "        buttonEl.style.display =\n",
              "          google.colab.kernel.accessAllowed ? 'block' : 'none';\n",
              "\n",
              "        async function convertToInteractive(key) {\n",
              "          const element = document.querySelector('#df-f7a3085d-265b-4d87-9c19-5f1807d3822b');\n",
              "          const dataTable =\n",
              "            await google.colab.kernel.invokeFunction('convertToInteractive',\n",
              "                                                     [key], {});\n",
              "          if (!dataTable) return;\n",
              "\n",
              "          const docLinkHtml = 'Like what you see? Visit the ' +\n",
              "            '<a target=\"_blank\" href=https://colab.research.google.com/notebooks/data_table.ipynb>data table notebook</a>'\n",
              "            + ' to learn more about interactive tables.';\n",
              "          element.innerHTML = '';\n",
              "          dataTable['output_type'] = 'display_data';\n",
              "          await google.colab.output.renderOutput(dataTable, element);\n",
              "          const docLink = document.createElement('div');\n",
              "          docLink.innerHTML = docLinkHtml;\n",
              "          element.appendChild(docLink);\n",
              "        }\n",
              "      </script>\n",
              "    </div>\n",
              "  </div>\n",
              "  "
            ]
          },
          "metadata": {},
          "execution_count": 6
        }
      ]
    },
    {
      "cell_type": "code",
      "source": [
        "df['phdos'] = df['phdos'].apply(eval).apply(np.array)\n",
        "df['phfreq'] = df['phfreq'].apply(eval).apply(np.array)"
      ],
      "metadata": {
        "id": "vX8t1pcQ2WKt"
      },
      "id": "vX8t1pcQ2WKt",
      "execution_count": null,
      "outputs": []
    },
    {
      "cell_type": "code",
      "source": [
        "r = np.arange(0,10,0.1)\n",
        "v = np.concatenate([[1],4*np.pi/3*(r[1:]**3 - r[:-1]**3)])\n",
        "types,formula,ids,pdf,phdos = [],[],[],[],[]\n",
        "for index, row in df.iterrows():\n",
        "  atoms=Atoms.fromdict(eval(row['structure']))\n",
        "  formula.append(atoms.get_chemical_formula())\n",
        "  types.append(atoms.get_chemical_symbols())\n",
        "  pdf.append(getpdf(atoms,r,v))\n",
        "ids=df['mp_id'].to_list()"
      ],
      "metadata": {
        "id": "wIBJ_gowtkvv"
      },
      "id": "wIBJ_gowtkvv",
      "execution_count": null,
      "outputs": []
    },
    {
      "cell_type": "code",
      "execution_count": null,
      "id": "7e8954ed",
      "metadata": {
        "id": "7e8954ed",
        "colab": {
          "base_uri": "https://localhost:8080/"
        },
        "outputId": "2c9899c7-502f-4735-d0f6-bf9db0b94694"
      },
      "outputs": [
        {
          "output_type": "stream",
          "name": "stdout",
          "text": [
            "94\n"
          ]
        }
      ],
      "source": [
        "# Load data for masked language model\n",
        "with open('/content/struct2prop/data/el2id.pkl', 'rb') as f:\n",
        "    el2id = pickle.load(f)\n",
        "element2id = el2id['el2id']\n",
        "config.VOCAB_SIZE = len(element2id)\n",
        "print(config.VOCAB_SIZE)"
      ]
    },
    {
      "cell_type": "code",
      "execution_count": null,
      "id": "ba8465c2",
      "metadata": {
        "id": "ba8465c2"
      },
      "outputs": [],
      "source": [
        "typesNumerical=[]\n",
        "for i in types:\n",
        "    typesNumerical.append([element2id[j] for j in i])\n",
        "\n",
        "x1 = tf.keras.preprocessing.sequence.pad_sequences(pdf,dtype='float32',padding= 'post',maxlen=config.MAX_LEN )\n",
        "x1[np.isnan(x1)]=0\n",
        "x3 = tf.keras.preprocessing.sequence.pad_sequences(typesNumerical,dtype='int32',padding= 'post',maxlen=config.MAX_LEN)"
      ]
    },
    {
      "cell_type": "code",
      "source": [
        "y  = tf.keras.preprocessing.sequence.pad_sequences(df['phdos'].to_numpy(),dtype='float32',padding= 'post')\n",
        "p = np.random.RandomState(seed=73).permutation(y.shape[0])\n",
        "n = len(p)\n",
        "trainidx = p[:int(n*0.8)]\n",
        "validx = p[int(n*0.8):int(n*0.9)]\n",
        "testidx = p[int(n*0.9):]\n",
        "\n",
        "x1v, x3v,ytrainv   =  x1[validx],  x3[validx],  y[validx]\n",
        "x1t,  x3t, ytrain =  x1[trainidx],x3[trainidx],y[trainidx]"
      ],
      "metadata": {
        "id": "nRaXAT213_uB"
      },
      "id": "nRaXAT213_uB",
      "execution_count": null,
      "outputs": []
    },
    {
      "cell_type": "markdown",
      "id": "9W_HmiqsDXJf",
      "metadata": {
        "id": "9W_HmiqsDXJf"
      },
      "source": [
        "# Predict PhDOS\n",
        "I shall use x_train2 as y_train but after replacing 20% of atoms with 0"
      ]
    },
    {
      "cell_type": "code",
      "execution_count": null,
      "id": "8e79c14a",
      "metadata": {
        "id": "8e79c14a",
        "colab": {
          "base_uri": "https://localhost:8080/"
        },
        "outputId": "51367182-bc37-4477-86b7-a93a26c5f7ee"
      },
      "outputs": [
        {
          "output_type": "stream",
          "name": "stdout",
          "text": [
            "x1\n",
            "types\n",
            "x1_blstm\n",
            "element_embdgs\n",
            "concatenate\n"
          ]
        }
      ],
      "source": [
        "inputA = Input(shape=x1t.shape[1:],name='x1')\n",
        "inputC = Input((config.MAX_LEN), dtype=tf.int32,name='types')\n",
        "outNeuronNum = y.shape[1]\n",
        "inputD = Input(shape=outNeuronNum,)\n",
        "\n",
        "x = Bidirectional(LSTM(8,name='x1_lstm',return_sequences=True),name='x1_blstm')(inputA)\n",
        "x = Model(inputs=inputA, outputs=x)\n",
        "\n",
        "z =  Embedding(config.VOCAB_SIZE, config.EMBED_DIM, mask_zero=True,name=\"element_embdgs\")(inputC)\n",
        "z = Model(inputs=inputC, outputs=z)\n",
        "\n",
        "combined = Concatenate()([x.output,z.output])\n",
        "\n",
        "l = LSTM(256)(combined)\n",
        "\n",
        "e = Dense(outNeuronNum, activation=\"relu\",use_bias=True,name='out_edos')(l)\n",
        "model = Model(inputs=[x.input, z.input], outputs=[e])\n",
        "\n",
        "from tensorflow.keras.models import load_model\n",
        "pretrained_model = load_model('/content/struct2prop/models/embed_pdf_E_128.h5',custom_objects={\"MaskedLanguageModel\": MaskedLanguageModel})\n",
        "for layer in pretrained_model.layers:\n",
        "    try:\n",
        "        # selecting layer by name\n",
        "        model.get_layer(layer.name).set_weights(layer.get_weights())\n",
        "        model.get_layer(layer.name).trainable=False\n",
        "        print(layer.name)\n",
        "    except:\n",
        "        pass\n",
        "\n",
        "mname = mname+'_phDOS'\n"
      ]
    },
    {
      "cell_type": "code",
      "execution_count": null,
      "id": "b95d888d",
      "metadata": {
        "scrolled": true,
        "colab": {
          "base_uri": "https://localhost:8080/",
          "height": 533
        },
        "id": "b95d888d",
        "outputId": "a369d02e-ecf1-4e48-b754-d7f09aa9f72c"
      },
      "outputs": [
        {
          "output_type": "execute_result",
          "data": {
            "image/png": "[encoded data removed]",
            "text/plain": [
              "<IPython.core.display.Image object>"
            ]
          },
          "metadata": {},
          "execution_count": 13
        }
      ],
      "source": [
        "plot_model(model, show_shapes=True, show_layer_names=True,to_file=mname+\".png\")"
      ]
    },
    {
      "cell_type": "code",
      "execution_count": null,
      "id": "200d2033",
      "metadata": {
        "colab": {
          "base_uri": "https://localhost:8080/"
        },
        "id": "200d2033",
        "outputId": "4e93bc8a-e79b-40bc-967e-0a66823135ee"
      },
      "outputs": [
        {
          "output_type": "stream",
          "name": "stdout",
          "text": [
            "Model: \"model_2\"\n",
            "__________________________________________________________________________________________________\n",
            " Layer (type)                   Output Shape         Param #     Connected to                     \n",
            "==================================================================================================\n",
            " x1 (InputLayer)                [(None, 128, 100)]   0           []                               \n",
            "                                                                                                  \n",
            " types (InputLayer)             [(None, 128)]        0           []                               \n",
            "                                                                                                  \n",
            " x1_blstm (Bidirectional)       (None, 128, 16)      6976        ['x1[0][0]']                     \n",
            "                                                                                                  \n",
            " element_embdgs (Embedding)     (None, 128, 128)     12032       ['types[0][0]']                  \n",
            "                                                                                                  \n",
            " concatenate (Concatenate)      (None, 128, 144)     0           ['x1_blstm[0][0]',               \n",
            "                                                                  'element_embdgs[0][0]']         \n",
            "                                                                                                  \n",
            " lstm (LSTM)                    (None, 256)          410624      ['concatenate[0][0]']            \n",
            "                                                                                                  \n",
            " out_edos (Dense)               (None, 51)           13107       ['lstm[0][0]']                   \n",
            "                                                                                                  \n",
            "==================================================================================================\n",
            "Total params: 442,739\n",
            "Trainable params: 423,731\n",
            "Non-trainable params: 19,008\n",
            "__________________________________________________________________________________________________\n"
          ]
        }
      ],
      "source": [
        "model.summary()"
      ]
    },
    {
      "cell_type": "code",
      "execution_count": null,
      "id": "dc5dfdd1",
      "metadata": {
        "id": "dc5dfdd1"
      },
      "outputs": [],
      "source": [
        "model.compile(loss ='mae',\n",
        "              optimizer= keras.optimizers.Adam(learning_rate=config.LR),\n",
        "              metrics='mse')"
      ]
    },
    {
      "cell_type": "code",
      "execution_count": null,
      "id": "eeab9e7a",
      "metadata": {
        "id": "eeab9e7a",
        "colab": {
          "base_uri": "https://localhost:8080/"
        },
        "outputId": "0cb2d649-b991-45ac-b99b-4d587247d8d5"
      },
      "outputs": [
        {
          "output_type": "stream",
          "name": "stdout",
          "text": [
            "Epoch 1/25\n",
            "39/39 [==============================] - 19s 497ms/step - loss: 0.0472 - mse: 0.0103 - val_loss: 0.0755 - val_mse: 0.0221 - lr: 0.0010\n",
            "Epoch 2/25\n",
            "39/39 [==============================] - 21s 542ms/step - loss: 0.0463 - mse: 0.0099 - val_loss: 0.0748 - val_mse: 0.0218 - lr: 0.0010\n",
            "Epoch 3/25\n",
            "39/39 [==============================] - 20s 513ms/step - loss: 0.0441 - mse: 0.0093 - val_loss: 0.0749 - val_mse: 0.0219 - lr: 9.2000e-04\n",
            "Epoch 4/25\n",
            "39/39 [==============================] - 21s 539ms/step - loss: 0.0413 - mse: 0.0087 - val_loss: 0.0745 - val_mse: 0.0219 - lr: 9.2000e-04\n",
            "Epoch 5/25\n",
            "39/39 [==============================] - 20s 509ms/step - loss: 0.0436 - mse: 0.0091 - val_loss: 0.0735 - val_mse: 0.0214 - lr: 9.2000e-04\n",
            "Epoch 6/25\n",
            "39/39 [==============================] - 21s 539ms/step - loss: 0.0420 - mse: 0.0087 - val_loss: 0.0743 - val_mse: 0.0215 - lr: 8.4640e-04\n",
            "Epoch 7/25\n",
            "39/39 [==============================] - 19s 496ms/step - loss: 0.0401 - mse: 0.0083 - val_loss: 0.0741 - val_mse: 0.0215 - lr: 8.4640e-04\n",
            "Epoch 8/25\n",
            "39/39 [==============================] - 21s 545ms/step - loss: 0.0400 - mse: 0.0083 - val_loss: 0.0737 - val_mse: 0.0211 - lr: 8.4640e-04\n",
            "Epoch 9/25\n",
            "39/39 [==============================] - 20s 511ms/step - loss: 0.0392 - mse: 0.0081 - val_loss: 0.0736 - val_mse: 0.0214 - lr: 7.7869e-04\n",
            "Epoch 10/25\n",
            "39/39 [==============================] - 22s 573ms/step - loss: 0.0381 - mse: 0.0078 - val_loss: 0.0739 - val_mse: 0.0211 - lr: 7.7869e-04\n",
            "Epoch 11/25\n",
            "39/39 [==============================] - 19s 500ms/step - loss: 0.0385 - mse: 0.0079 - val_loss: 0.0736 - val_mse: 0.0212 - lr: 7.7869e-04\n",
            "Epoch 12/25\n",
            "39/39 [==============================] - 21s 544ms/step - loss: 0.0370 - mse: 0.0075 - val_loss: 0.0737 - val_mse: 0.0213 - lr: 7.1639e-04\n",
            "Epoch 13/25\n",
            "39/39 [==============================] - 20s 509ms/step - loss: 0.0387 - mse: 0.0079 - val_loss: 0.0733 - val_mse: 0.0211 - lr: 7.1639e-04\n",
            "Epoch 14/25\n",
            "39/39 [==============================] - 21s 535ms/step - loss: 0.0370 - mse: 0.0075 - val_loss: 0.0743 - val_mse: 0.0215 - lr: 7.1639e-04\n",
            "Epoch 15/25\n",
            "39/39 [==============================] - 20s 498ms/step - loss: 0.0366 - mse: 0.0074 - val_loss: 0.0730 - val_mse: 0.0210 - lr: 6.5908e-04\n",
            "Epoch 16/25\n",
            "39/39 [==============================] - 20s 518ms/step - loss: 0.0358 - mse: 0.0072 - val_loss: 0.0736 - val_mse: 0.0211 - lr: 6.5908e-04\n",
            "Epoch 17/25\n",
            "39/39 [==============================] - 21s 525ms/step - loss: 0.0356 - mse: 0.0072 - val_loss: 0.0737 - val_mse: 0.0213 - lr: 6.5908e-04\n",
            "Epoch 18/25\n",
            "39/39 [==============================] - 20s 510ms/step - loss: 0.0364 - mse: 0.0074 - val_loss: 0.0733 - val_mse: 0.0211 - lr: 6.0636e-04\n",
            "Epoch 19/25\n",
            "39/39 [==============================] - 21s 523ms/step - loss: 0.0370 - mse: 0.0075 - val_loss: 0.0740 - val_mse: 0.0214 - lr: 6.0636e-04\n",
            "Epoch 20/25\n",
            "39/39 [==============================] - 19s 495ms/step - loss: 0.0359 - mse: 0.0073 - val_loss: 0.0739 - val_mse: 0.0213 - lr: 6.0636e-04\n",
            "Epoch 21/25\n",
            "39/39 [==============================] - 21s 549ms/step - loss: 0.0350 - mse: 0.0070 - val_loss: 0.0731 - val_mse: 0.0211 - lr: 5.5785e-04\n",
            "Epoch 22/25\n",
            "39/39 [==============================] - 20s 513ms/step - loss: 0.0350 - mse: 0.0071 - val_loss: 0.0739 - val_mse: 0.0214 - lr: 5.5785e-04\n",
            "Epoch 23/25\n",
            "39/39 [==============================] - 21s 542ms/step - loss: 0.0348 - mse: 0.0070 - val_loss: 0.0722 - val_mse: 0.0208 - lr: 5.5785e-04\n",
            "Epoch 24/25\n",
            "39/39 [==============================] - 19s 497ms/step - loss: 0.0331 - mse: 0.0066 - val_loss: 0.0735 - val_mse: 0.0212 - lr: 5.1322e-04\n",
            "Epoch 25/25\n",
            "39/39 [==============================] - 21s 540ms/step - loss: 0.0330 - mse: 0.0066 - val_loss: 0.0734 - val_mse: 0.0212 - lr: 5.1322e-04\n"
          ]
        }
      ],
      "source": [
        "def scheduler(epoch):\n",
        "    initial_lrate = config.LR\n",
        "    drop = 0.92\n",
        "    epochs_drop = 3\n",
        "    lr = initial_lrate * np.power(drop, np.floor((1+epoch)/epochs_drop))\n",
        "    if lr<0.0001:\n",
        "        lr = 0.0001\n",
        "    return lr\n",
        "\n",
        "epochs=25*config.BATCH_SIZE\n",
        "csv_logger = tf.keras.callbacks.CSVLogger(mname+\"_log.csv\", append=True)\n",
        "earlyStopping= tf.keras.callbacks.EarlyStopping(monitor='loss', patience=50, min_delta=0.01)\n",
        "checkpoint = tf.keras.callbacks.ModelCheckpoint(mname+\".h5\",verbose=2,monitor='val_loss', mode='min',save_freq=5000)\n",
        "callbacks_list = [checkpoint,csv_logger,earlyStopping,tf.keras.callbacks.LearningRateScheduler(scheduler)]\n",
        "\n",
        "hist = model.fit(x=[x1t,x3t],y = [ytrain],validation_data = ([x1v, x3v],[ytrainv]),\n",
        "                 initial_epoch = 0, epochs = epochs,batch_size = 32,callbacks = callbacks_list, verbose=1)\n"
      ]
    },
    {
      "cell_type": "code",
      "source": [
        "preds = model.predict([x1,x3],batch_size = 32)\n",
        "\n",
        "dbresults={}\n",
        "dbresults['x4'] = df['phfreq'].to_numpy()\n",
        "dbresults['y'] = y\n",
        "dbresults['preds'] = preds\n",
        "dbresults['train_idx'] = trainidx\n",
        "dbresults['validate_idx'] = validx \n",
        "dbresults['test_idx'] = testidx\n",
        "dbresults['formula'] = formula\n",
        "dbresults['ids'] = ids\n",
        "\n",
        "with open(mname+'_results.pkl', 'wb') as f:\n",
        "    pickle.dump(dbresults, f)\n"
      ],
      "metadata": {
        "colab": {
          "base_uri": "https://localhost:8080/"
        },
        "id": "BBTzMoSDBtg_",
        "outputId": "8e873c31-5dc1-436a-aff1-440128469caf"
      },
      "id": "BBTzMoSDBtg_",
      "execution_count": null,
      "outputs": [
        {
          "output_type": "stream",
          "name": "stdout",
          "text": [
            "48/48 [==============================] - 9s 190ms/step\n"
          ]
        }
      ]
    },
    {
      "cell_type": "code",
      "source": [
        "from sklearn.metrics import mean_squared_error,mean_absolute_error,median_absolute_error\n",
        "ytest    = dbresults['y'][testidx]\n",
        "x4t      = dbresults['x4'][testidx]\n",
        "predtest = dbresults['preds'][testidx]\n",
        "mset = np.asarray([mean_squared_error(i,j) for i,j in zip(ytest,predtest)])\n",
        "maet = np.asarray([mean_absolute_error(i,j) for i,j in zip(ytest,predtest)])\n",
        "mseTt=np.mean(mset)\n",
        "maeTt=np.mean(maet)\n",
        "print('MSE_test: ',mseTt,'MAE_test: ',maeTt)\n",
        "#formula = [dbresults['formula'][i] for i in testidx]\n",
        "#ids = [dbresults['ids'][i] for i in testidx]\n",
        "ind=np.random.randint(len(ytest))\n",
        "p = np.random.permutation(np.where(mset>0.)[0])\n",
        "ind=p[0]#np.random.randint(len(ytrain))\n",
        "y_true = ytest[ind]\n",
        "y_pred = predtest[ind]\n",
        "plt.plot(x4t[ind],y_true,label='original')\n",
        "plt.plot(x4t[ind],gaussian_filter1d(y_pred,1),label='predicted')\n",
        "#plt.plot(x4t[ind],gaussian_filter1d(y_true,1))\n",
        "print('mean_squared_error: ',mean_squared_error(y_true,y_pred))\n",
        "print('mean_absolute_error: ',mean_absolute_error(y_true,y_pred))\n",
        "#plt.title(formula[ind].translate(sub), fontsize=16)\n",
        "plt.legend();"
      ],
      "metadata": {
        "colab": {
          "base_uri": "https://localhost:8080/",
          "height": 482
        },
        "id": "hJyfoolJ3dhO",
        "outputId": "67432faa-9d27-4e48-fa6c-d94a6f7016f2"
      },
      "id": "hJyfoolJ3dhO",
      "execution_count": null,
      "outputs": [
        {
          "output_type": "stream",
          "name": "stdout",
          "text": [
            "MSE_test:  0.024808267 MAE_test:  0.08161792\n",
            "mean_squared_error:  0.013236399\n",
            "mean_absolute_error:  0.06786049\n"
          ]
        },
        {
          "output_type": "display_data",
          "data": {
            "text/plain": [
              "<Figure size 640x480 with 1 Axes>"
            ],
            "image/png": "[encoded data removed]"
          },
          "metadata": {}
        }
      ]
    },
    {
      "cell_type": "code",
      "source": [],
      "metadata": {
        "id": "NdPPqcdYcjNJ"
      },
      "id": "NdPPqcdYcjNJ",
      "execution_count": null,
      "outputs": []
    }
  ],
  "metadata": {
    "accelerator": "GPU",
    "colab": {
      "provenance": [],
      "include_colab_link": true
    },
    "gpuClass": "standard",
    "kernelspec": {
      "display_name": "Python 3 (ipykernel)",
      "language": "python",
      "name": "python3"
    },
    "language_info": {
      "codemirror_mode": {
        "name": "ipython",
        "version": 3
      },
      "file_extension": ".py",
      "mimetype": "text/x-python",
      "name": "python",
      "nbconvert_exporter": "python",
      "pygments_lexer": "ipython3",
      "version": "3.8.10"
    }
  },
  "nbformat": 4,
  "nbformat_minor": 5
}