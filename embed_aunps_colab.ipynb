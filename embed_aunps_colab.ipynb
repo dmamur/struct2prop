{
  "cells": [
    {
      "cell_type": "markdown",
      "metadata": {
        "id": "view-in-github",
        "colab_type": "text"
      },
      "source": [
        "<a href=\"https://colab.research.google.com/github/dmamur/struct2prop/blob/main/embed_aunps_colab.ipynb\" target=\"_parent\"><img src=\"https://colab.research.google.com/assets/colab-badge.svg\" alt=\"Open In Colab\"/></a>"
      ]
    },
    {
      "cell_type": "code",
      "execution_count": 1,
      "metadata": {
        "id": "a7b1fb1b",
        "scrolled": true
      },
      "outputs": [],
      "source": [
        "import pickle,re, glob,os,random \n",
        "import numpy as np\n",
        "import pandas as pd\n",
        "import tensorflow as tf\n",
        "import matplotlib.pyplot as plt\n",
        "from tensorflow import keras\n",
        "from keras.models import Sequential, Model\n",
        "from keras.layers import Embedding,Dense,Dropout,Input,Concatenate,Flatten,Bidirectional,LSTM,Reshape\n",
        "from keras.utils import np_utils\n",
        "from keras.utils.vis_utils import plot_model\n",
        "import keras.backend as K \n",
        "from collections import defaultdict\n",
        "\n",
        "loss_fn = keras.losses.SparseCategoricalCrossentropy(\n",
        "    reduction=tf.keras.losses.Reduction.NONE\n",
        ")\n",
        "loss_tracker = tf.keras.metrics.Mean(name=\"loss\")\n",
        "\n",
        "class MaskedLanguageModel(tf.keras.Model):\n",
        "    def train_step(self, inputs):\n",
        "        if len(inputs) == 3:\n",
        "            features, labels, sample_weight = inputs\n",
        "        else:\n",
        "            features, labels = inputs\n",
        "            sample_weight = None\n",
        "\n",
        "        with tf.GradientTape() as tape:\n",
        "            predictions = self(features, training=True)\n",
        "            loss = loss_fn(labels, predictions, sample_weight=sample_weight)\n",
        "\n",
        "        # Compute gradients\n",
        "        trainable_vars = self.trainable_variables\n",
        "        gradients = tape.gradient(loss, trainable_vars)\n",
        "\n",
        "        # Update weights\n",
        "        self.optimizer.apply_gradients(zip(gradients, trainable_vars))\n",
        "\n",
        "        # Compute our own metrics\n",
        "        loss_tracker.update_state(loss, sample_weight=sample_weight)\n",
        "\n",
        "        # Return a dict mapping metric names to current value\n",
        "        return {\"loss\": loss_tracker.result()}\n",
        "\n",
        "    @property\n",
        "    def metrics(self):\n",
        "        # We list our `Metric` objects here so that `reset_states()` can be\n",
        "        # called automatically at the start of each epoch\n",
        "        # or at the start of `evaluate()`.\n",
        "        # If you don't implement this property, you have to call\n",
        "        # `reset_states()` yourself at the time of your choosing.\n",
        "        return [loss_tracker]\n",
        "\n",
        "def loadData(fname,printkeys='y'):\n",
        "    # for reading also binary mode is important\n",
        "    dbfile = open(fname, 'rb')     \n",
        "    db = pickle.load(dbfile)\n",
        "    if printkeys=='y':\n",
        "        for keys in db:\n",
        "            print(keys)\n",
        "    return db\n",
        "\n"
      ],
      "id": "a7b1fb1b"
    },
    {
      "cell_type": "code",
      "execution_count": 2,
      "metadata": {
        "colab": {
          "base_uri": "https://localhost:8080/"
        },
        "id": "sdl0bwht5JJA",
        "outputId": "5a847820-61f9-4f81-b622-e6cb471d4a9b"
      },
      "outputs": [
        {
          "output_type": "stream",
          "name": "stdout",
          "text": [
            "Cloning into 'struct2prop'...\n",
            "remote: Enumerating objects: 80, done.\u001b[K\n",
            "remote: Counting objects: 100% (10/10), done.\u001b[K\n",
            "remote: Compressing objects: 100% (7/7), done.\u001b[K\n",
            "remote: Total 80 (delta 3), reused 2 (delta 2), pack-reused 70\u001b[K\n",
            "Unpacking objects: 100% (80/80), 7.37 MiB | 9.72 MiB/s, done.\n"
          ]
        }
      ],
      "source": [
        "!git clone https://github.com/dmamur/struct2prop.git "
      ],
      "id": "sdl0bwht5JJA"
    },
    {
      "cell_type": "code",
      "execution_count": 4,
      "metadata": {
        "id": "2c15c928"
      },
      "outputs": [],
      "source": [
        "class Config:\n",
        "    MAX_LEN = 1280\n",
        "    BATCH_SIZE = 1\n",
        "    LR = 0.001\n",
        "    VOCAB_SIZE = 128\n",
        "    EMBED_DIM = 128\n",
        "    MNAME = 'embed_aunps_'\n",
        "config = Config()\n",
        "path=\"/content/struct2prop/models\"\n",
        "mname=path+config.MNAME+'E_'+str(config.EMBED_DIM)\n",
        "tf.random.set_seed(42)"
      ],
      "id": "2c15c928"
    },
    {
      "cell_type": "code",
      "execution_count": 5,
      "metadata": {
        "colab": {
          "base_uri": "https://localhost:8080/",
          "height": 36
        },
        "id": "878a06e0",
        "outputId": "6ba07edf-82a7-4f58-d86d-b25bbef5e32a"
      },
      "outputs": [
        {
          "output_type": "execute_result",
          "data": {
            "text/plain": [
              "'/content/struct2prop/modelsembed_aunps_E_128'"
            ],
            "application/vnd.google.colaboratory.intrinsic+json": {
              "type": "string"
            }
          },
          "metadata": {},
          "execution_count": 5
        }
      ],
      "source": [
        "mname"
      ],
      "id": "878a06e0"
    },
    {
      "cell_type": "code",
      "execution_count": 6,
      "metadata": {
        "colab": {
          "base_uri": "https://localhost:8080/"
        },
        "id": "YnU1NZY4GvMr",
        "outputId": "536ff216-0432-44b2-b8aa-bad72fa91725"
      },
      "outputs": [
        {
          "output_type": "stream",
          "name": "stdout",
          "text": [
            "Looking in indexes: https://pypi.org/simple, https://us-python.pkg.dev/colab-wheels/public/simple/\n",
            "Collecting ase\n",
            "  Downloading ase-3.22.1-py3-none-any.whl (2.2 MB)\n",
            "\u001b[2K     \u001b[90m━━━━━━━━━━━━━━━━━━━━━━━━━━━━━━━━━━━━━━━━\u001b[0m \u001b[32m2.2/2.2 MB\u001b[0m \u001b[31m27.3 MB/s\u001b[0m eta \u001b[36m0:00:00\u001b[0m\n",
            "\u001b[?25hRequirement already satisfied: numpy>=1.15.0 in /usr/local/lib/python3.10/dist-packages (from ase) (1.22.4)\n",
            "Requirement already satisfied: scipy>=1.1.0 in /usr/local/lib/python3.10/dist-packages (from ase) (1.10.1)\n",
            "Requirement already satisfied: matplotlib>=3.1.0 in /usr/local/lib/python3.10/dist-packages (from ase) (3.7.1)\n",
            "Requirement already satisfied: packaging>=20.0 in /usr/local/lib/python3.10/dist-packages (from matplotlib>=3.1.0->ase) (23.1)\n",
            "Requirement already satisfied: python-dateutil>=2.7 in /usr/local/lib/python3.10/dist-packages (from matplotlib>=3.1.0->ase) (2.8.2)\n",
            "Requirement already satisfied: pillow>=6.2.0 in /usr/local/lib/python3.10/dist-packages (from matplotlib>=3.1.0->ase) (8.4.0)\n",
            "Requirement already satisfied: kiwisolver>=1.0.1 in /usr/local/lib/python3.10/dist-packages (from matplotlib>=3.1.0->ase) (1.4.4)\n",
            "Requirement already satisfied: fonttools>=4.22.0 in /usr/local/lib/python3.10/dist-packages (from matplotlib>=3.1.0->ase) (4.39.3)\n",
            "Requirement already satisfied: cycler>=0.10 in /usr/local/lib/python3.10/dist-packages (from matplotlib>=3.1.0->ase) (0.11.0)\n",
            "Requirement already satisfied: pyparsing>=2.3.1 in /usr/local/lib/python3.10/dist-packages (from matplotlib>=3.1.0->ase) (3.0.9)\n",
            "Requirement already satisfied: contourpy>=1.0.1 in /usr/local/lib/python3.10/dist-packages (from matplotlib>=3.1.0->ase) (1.0.7)\n",
            "Requirement already satisfied: six>=1.5 in /usr/local/lib/python3.10/dist-packages (from python-dateutil>=2.7->matplotlib>=3.1.0->ase) (1.16.0)\n",
            "Installing collected packages: ase\n",
            "Successfully installed ase-3.22.1\n"
          ]
        }
      ],
      "source": [
        "!pip install ase"
      ],
      "id": "YnU1NZY4GvMr"
    },
    {
      "cell_type": "markdown",
      "metadata": {
        "id": "86baf7df"
      },
      "source": [
        "# Load data from xyz"
      ],
      "id": "86baf7df"
    },
    {
      "cell_type": "code",
      "execution_count": 7,
      "metadata": {
        "id": "5fa12f0c"
      },
      "outputs": [],
      "source": [
        "from ase.io import read\n",
        "from scipy.ndimage import gaussian_filter1d\n",
        "from ase.neighborlist import neighbor_list\n",
        "def getpdf(atoms,x,v):\n",
        "    i, d = neighbor_list('id', atoms, 10.0, self_interaction=False)\n",
        "    pdfatoms=[]\n",
        "    for k,l in enumerate(atoms):\n",
        "        y = np.zeros(100)\n",
        "        dist = np.round(d[i==k]*10)\n",
        "        a,b=np.unique(dist, return_counts=True)\n",
        "        np.put(y,a.astype(int)-1,b)\n",
        "        pdfatoms.append(gaussian_filter1d(y/v,1))\n",
        "    return np.asarray(pdfatoms)"
      ],
      "id": "5fa12f0c"
    },
    {
      "cell_type": "code",
      "execution_count": 8,
      "metadata": {
        "id": "DULMRHn366pW"
      },
      "outputs": [],
      "source": [
        "atomsNPs = read('/content/struct2prop/data/aunps_coords.xyz',format='extxyz',index=':')"
      ],
      "id": "DULMRHn366pW"
    },
    {
      "cell_type": "code",
      "execution_count": 10,
      "metadata": {
        "id": "uwZr1dI77Ct0"
      },
      "outputs": [],
      "source": [
        "count=1\n",
        "r = np.arange(0,10,0.1)\n",
        "v = np.concatenate([[1],4*np.pi/3*(r[1:]**3 - r[:-1]**3)])\n",
        "types,formula,ids,pdf = [],[],[],[]\n",
        "for atoms in atomsNPs:\n",
        "    atoms.positions = atoms.positions - atoms.get_center_of_mass() + (np.max(atoms.get_all_distances())+13)/2\n",
        "    #atoms.cell = [np.max(atoms.get_all_distances())+13,np.max(atoms.get_all_distances())+13,np.max(atoms.get_all_distances())+13]\n",
        "    formula.append(atoms.get_chemical_formula())\n",
        "    types.append(atoms.get_chemical_symbols())\n",
        "    ids.append('NP-'+str(count))\n",
        "    pdf.append(getpdf(atoms,r,v))\n",
        "    count+=1"
      ],
      "id": "uwZr1dI77Ct0"
    },
    {
      "cell_type": "code",
      "execution_count": 11,
      "metadata": {
        "colab": {
          "base_uri": "https://localhost:8080/"
        },
        "id": "7e8954ed",
        "outputId": "410e04ba-5e3f-4a35-88f1-d19a6e4c2e55"
      },
      "outputs": [
        {
          "output_type": "execute_result",
          "data": {
            "text/plain": [
              "94"
            ]
          },
          "metadata": {},
          "execution_count": 11
        }
      ],
      "source": [
        "# Load data for masked language model\n",
        "with open('/content/struct2prop/data/el2id.pkl', 'rb') as f:\n",
        "    el2id = pickle.load(f)\n",
        "element2id = el2id['el2id']\n",
        "config.VOCAB_SIZE = len(element2id)\n",
        "config.VOCAB_SIZE"
      ],
      "id": "7e8954ed"
    },
    {
      "cell_type": "code",
      "execution_count": 12,
      "metadata": {
        "id": "ba8465c2"
      },
      "outputs": [],
      "source": [
        "typesNumerical=[]\n",
        "for i in types:\n",
        "    typesNumerical.append([element2id[j] for j in i])\n",
        "\n",
        "x1 = tf.keras.preprocessing.sequence.pad_sequences(pdf,dtype='float32',padding= 'post',maxlen=config.MAX_LEN )\n",
        "x1[np.isnan(x1)]=0\n",
        "x3 = tf.keras.preprocessing.sequence.pad_sequences(typesNumerical,dtype='int32',padding= 'post',maxlen=config.MAX_LEN)"
      ],
      "id": "ba8465c2"
    },
    {
      "cell_type": "code",
      "execution_count": 13,
      "metadata": {
        "id": "AgAEpX6YcJsi"
      },
      "outputs": [],
      "source": [
        "with open('/content/struct2prop/data/aunps_data.pkl', 'rb') as f:\n",
        "    dbedos = pickle.load(f)\n",
        "\n",
        "y  = tf.keras.preprocessing.sequence.pad_sequences(dbedos['y'],dtype='float64',padding= 'post')\n",
        "p = np.random.RandomState(seed=73).permutation(y.shape[0])\n",
        "n = len(p)\n",
        "trainidx = p[:int(n*0.8)]\n",
        "validx = p[int(n*0.8):int(n*0.9)]\n",
        "testidx = p[int(n*0.9):]\n",
        "\n",
        "x1v, x3v,ytrainv   =  x1[validx],  x3[validx],  y[validx]\n",
        "x1t,  x3t, ytrain =  x1[trainidx],x3[trainidx],y[trainidx]\n",
        "y2, y2v,y2s = dbedos['eFermi'][trainidx],dbedos['eFermi'][validx],dbedos['eFermi']"
      ],
      "id": "AgAEpX6YcJsi"
    },
    {
      "cell_type": "markdown",
      "metadata": {
        "id": "9W_HmiqsDXJf"
      },
      "source": [
        "# Model"
      ],
      "id": "9W_HmiqsDXJf"
    },
    {
      "cell_type": "code",
      "execution_count": 33,
      "metadata": {
        "colab": {
          "base_uri": "https://localhost:8080/"
        },
        "id": "8e79c14a",
        "outputId": "40a4102b-dc01-436f-f2c8-5a54c97f8cec"
      },
      "outputs": [
        {
          "output_type": "stream",
          "name": "stdout",
          "text": [
            "x1\n",
            "types\n",
            "x1_blstm\n",
            "element_embdgs\n"
          ]
        }
      ],
      "source": [
        "inputA = Input(shape=x1.shape[1:],name='x1')\n",
        "inputC = Input((config.MAX_LEN), dtype=tf.int32,name='types')\n",
        "outNeuronNum = ytrain.shape[1]\n",
        "inputD = Input(shape=outNeuronNum,)\n",
        "\n",
        "x = Bidirectional(LSTM(8,name='x1_lstm',return_sequences=True),name='x1_blstm')(inputA)\n",
        "x = Model(inputs=inputA, outputs=x)\n",
        "\n",
        "z =  Embedding(config.VOCAB_SIZE, config.EMBED_DIM, mask_zero=True,name=\"element_embdgs\")(inputC)\n",
        "z = Model(inputs=inputC, outputs=z)\n",
        "\n",
        "combined = Concatenate()([x.output,z.output])\n",
        "\n",
        "l = LSTM(128)(combined)\n",
        "\n",
        "e = Dense(outNeuronNum, activation=\"relu\",use_bias=True,name='out_edos')(l)\n",
        "f = Dense(1, activation=\"linear\",use_bias=True,name='out_ef')(l)\n",
        "model = Model(inputs=[x.input, z.input], outputs=[e,f])\n",
        "\n",
        "from tensorflow.keras.models import load_model\n",
        "pretrained_model = load_model('/content/struct2prop/models/embed_pdf_E_128.h5',custom_objects={\"MaskedLanguageModel\": MaskedLanguageModel})\n",
        "for layer in pretrained_model.layers:\n",
        "    try:\n",
        "        # selecting layer by name\n",
        "        model.get_layer(layer.name).set_weights(layer.get_weights())\n",
        "        model.get_layer(layer.name).trainable=False\n",
        "        print(layer.name)\n",
        "    except:\n",
        "        pass\n",
        "\n",
        "mname = mname+'_eDOS'\n"
      ],
      "id": "8e79c14a"
    },
    {
      "cell_type": "code",
      "execution_count": 34,
      "metadata": {
        "colab": {
          "base_uri": "https://localhost:8080/",
          "height": 533
        },
        "id": "b95d888d",
        "outputId": "e88fcef9-a734-4ba6-fb0a-8dd695f26514",
        "scrolled": true
      },
      "outputs": [
        {
          "output_type": "execute_result",
          "data": {
            "image/png": "[encoded data removed]",
            "text/plain": [
              "<IPython.core.display.Image object>"
            ]
          },
          "metadata": {},
          "execution_count": 34
        }
      ],
      "source": [
        "plot_model(model, show_shapes=True, show_layer_names=True,to_file=mname+\".png\")"
      ],
      "id": "b95d888d"
    },
    {
      "cell_type": "code",
      "execution_count": 35,
      "metadata": {
        "colab": {
          "base_uri": "https://localhost:8080/"
        },
        "id": "200d2033",
        "outputId": "333f12b9-2d03-49dd-c43b-e6be0503c942"
      },
      "outputs": [
        {
          "output_type": "stream",
          "name": "stdout",
          "text": [
            "Model: \"model_5\"\n",
            "__________________________________________________________________________________________________\n",
            " Layer (type)                   Output Shape         Param #     Connected to                     \n",
            "==================================================================================================\n",
            " x1 (InputLayer)                [(None, 1280, 100)]  0           []                               \n",
            "                                                                                                  \n",
            " types (InputLayer)             [(None, 1280)]       0           []                               \n",
            "                                                                                                  \n",
            " x1_blstm (Bidirectional)       (None, 1280, 16)     6976        ['x1[0][0]']                     \n",
            "                                                                                                  \n",
            " element_embdgs (Embedding)     (None, 1280, 128)    12032       ['types[0][0]']                  \n",
            "                                                                                                  \n",
            " concatenate_1 (Concatenate)    (None, 1280, 144)    0           ['x1_blstm[0][0]',               \n",
            "                                                                  'element_embdgs[0][0]']         \n",
            "                                                                                                  \n",
            " lstm_1 (LSTM)                  (None, 128)          139776      ['concatenate_1[0][0]']          \n",
            "                                                                                                  \n",
            " out_edos (Dense)               (None, 300)          38700       ['lstm_1[0][0]']                 \n",
            "                                                                                                  \n",
            " out_ef (Dense)                 (None, 1)            129         ['lstm_1[0][0]']                 \n",
            "                                                                                                  \n",
            "==================================================================================================\n",
            "Total params: 197,613\n",
            "Trainable params: 178,605\n",
            "Non-trainable params: 19,008\n",
            "__________________________________________________________________________________________________\n"
          ]
        }
      ],
      "source": [
        "model.summary()"
      ],
      "id": "200d2033"
    },
    {
      "cell_type": "code",
      "execution_count": 36,
      "metadata": {
        "id": "dc5dfdd1"
      },
      "outputs": [],
      "source": [
        "model.compile(loss ='mae',\n",
        "              optimizer= keras.optimizers.Adam(learning_rate=config.LR),\n",
        "              metrics='mse')"
      ],
      "id": "dc5dfdd1"
    },
    {
      "cell_type": "code",
      "execution_count": null,
      "metadata": {
        "colab": {
          "base_uri": "https://localhost:8080/"
        },
        "id": "eeab9e7a",
        "outputId": "d949f1e1-458b-44eb-fa84-7d680568b101"
      },
      "outputs": [
        {
          "output_type": "stream",
          "name": "stdout",
          "text": [
            "Epoch 1/10\n",
            "708/708 [==============================] - 29s 42ms/step - loss: 12.6990 - out_edos_loss: 12.5850 - out_ef_loss: 0.1141 - out_edos_mse: 3168.5332 - out_ef_mse: 0.0239 - val_loss: 11.5135 - val_out_edos_loss: 11.4200 - val_out_ef_loss: 0.0935 - val_out_edos_mse: 3302.9424 - val_out_ef_mse: 0.0163 - lr: 0.0010\n",
            "Epoch 2/10\n",
            "708/708 [==============================] - 32s 45ms/step - loss: 12.2413 - out_edos_loss: 12.1336 - out_ef_loss: 0.1077 - out_edos_mse: 2974.1758 - out_ef_mse: 0.0213 - val_loss: 11.2429 - val_out_edos_loss: 11.1503 - val_out_ef_loss: 0.0925 - val_out_edos_mse: 3205.2188 - val_out_ef_mse: 0.0139 - lr: 0.0010\n",
            "Epoch 3/10\n",
            "708/708 [==============================] - 37s 53ms/step - loss: 11.8651 - out_edos_loss: 11.7530 - out_ef_loss: 0.1121 - out_edos_mse: 2780.9312 - out_ef_mse: 0.0225 - val_loss: 10.8732 - val_out_edos_loss: 10.7820 - val_out_ef_loss: 0.0912 - val_out_edos_mse: 2946.3694 - val_out_ef_mse: 0.0133 - lr: 0.0010\n",
            "Epoch 4/10\n",
            "708/708 [==============================] - 46s 65ms/step - loss: 11.5101 - out_edos_loss: 11.4058 - out_ef_loss: 0.1043 - out_edos_mse: 2643.8469 - out_ef_mse: 0.0213 - val_loss: 10.6790 - val_out_edos_loss: 10.5831 - val_out_ef_loss: 0.0959 - val_out_edos_mse: 2830.6545 - val_out_ef_mse: 0.0168 - lr: 0.0010\n",
            "Epoch 5/10\n",
            "630/708 [=========================>....] - ETA: 2s - loss: 10.8066 - out_edos_loss: 10.7033 - out_ef_loss: 0.1033 - out_edos_mse: 2358.6194 - out_ef_mse: 0.0210"
          ]
        }
      ],
      "source": [
        "def scheduler(epoch):\n",
        "    initial_lrate = config.LR\n",
        "    drop = 0.92\n",
        "    epochs_drop = 5\n",
        "    lr = initial_lrate * np.power(drop, np.floor((1+epoch)/epochs_drop))\n",
        "    if lr<0.0001:\n",
        "        lr = 0.0001\n",
        "    return lr\n",
        "\n",
        "epochs=10*config.BATCH_SIZE\n",
        "initEp=0\n",
        "csv_logger = tf.keras.callbacks.CSVLogger(mname+\"_log.csv\", append=True)\n",
        "earlyStopping= tf.keras.callbacks.EarlyStopping(monitor='loss', patience=50, min_delta=0.01)\n",
        "checkpoint = tf.keras.callbacks.ModelCheckpoint(mname+\".h5\",verbose=2,monitor='val_loss', mode='min',save_freq=5000)\n",
        "callbacks_list = [checkpoint,csv_logger,earlyStopping,tf.keras.callbacks.LearningRateScheduler(scheduler)]\n",
        "for _ in range(5):\n",
        "  hist = model.fit(x=[x1t,x3t],y = [ytrain,y2],validation_data = ([x1v, x3v],[ytrainv,y2v]),\n",
        "                   initial_epoch = initEp, epochs = epochs,batch_size = config.BATCH_SIZE,callbacks = callbacks_list, verbose=1)\n",
        "  initEp=initEp+epochs\n",
        "\n",
        "model.save(mname+\".h5\")"
      ],
      "id": "eeab9e7a"
    },
    {
      "cell_type": "code",
      "execution_count": 20,
      "metadata": {
        "id": "tOD3G1MydgQK",
        "outputId": "0e0c75a3-17b9-4ca9-fcee-666c36f7b088",
        "colab": {
          "base_uri": "https://localhost:8080/"
        }
      },
      "outputs": [
        {
          "output_type": "stream",
          "name": "stdout",
          "text": [
            "4/4 [==============================] - 1s 118ms/step\n"
          ]
        }
      ],
      "source": [
        "preds = model.predict([x1,x3],batch_size = 256)"
      ],
      "id": "tOD3G1MydgQK"
    },
    {
      "cell_type": "code",
      "execution_count": 28,
      "metadata": {
        "id": "-hpwJOEldhhP"
      },
      "outputs": [],
      "source": [
        "dbresults={}\n",
        "dbresults['x4'] = dbedos['x4']\n",
        "dbresults['y'] = dbedos['y']\n",
        "dbresults['preds'] = preds[0]\n",
        "dbresults['train_idx'] = trainidx\n",
        "dbresults['validate_idx'] = validx \n",
        "dbresults['test_idx'] = testidx\n",
        "dbresults['formula'] = dbedos['formula']\n",
        "dbresults['ids'] = dbedos['ids']"
      ],
      "id": "-hpwJOEldhhP"
    },
    {
      "cell_type": "code",
      "execution_count": 29,
      "metadata": {
        "id": "Lqu47dYFdm5C",
        "outputId": "1d40fb97-26cc-438f-935b-84dfba4c10c7",
        "colab": {
          "base_uri": "https://localhost:8080/"
        }
      },
      "outputs": [
        {
          "output_type": "stream",
          "name": "stdout",
          "text": [
            "26939.019532116297 60.48411120655358\n"
          ]
        }
      ],
      "source": [
        "from sklearn.metrics import mean_squared_error,mean_absolute_error,median_absolute_error\n",
        "ytest    = dbresults['y'][testidx]\n",
        "x4test      = dbresults['x4']\n",
        "predtest = dbresults['preds'][testidx]\n",
        "msev = np.asarray([mean_squared_error(i,j) for i,j in zip(ytest,predtest)])\n",
        "maev = np.asarray([mean_absolute_error(i,j) for i,j in zip(ytest,predtest)])\n",
        "mseV=np.mean(msev)\n",
        "maeV=np.mean(maev)\n",
        "print(mseV,maeV)"
      ],
      "id": "Lqu47dYFdm5C"
    },
    {
      "cell_type": "code",
      "execution_count": 31,
      "metadata": {
        "id": "Hl6wdkaBeupH",
        "outputId": "fd1a5458-b6eb-4482-bff0-bd957649f684",
        "colab": {
          "base_uri": "https://localhost:8080/",
          "height": 489
        }
      },
      "outputs": [
        {
          "output_type": "stream",
          "name": "stdout",
          "text": [
            "mean_squared_error:  405.21238115150067\n",
            "mean_absolute_error:  9.494369235283152\n"
          ]
        },
        {
          "output_type": "display_data",
          "data": {
            "text/plain": [
              "<Figure size 640x480 with 1 Axes>"
            ],
            "image/png": "[encoded data removed]"
          },
          "metadata": {}
        }
      ],
      "source": [
        "p = np.random.permutation(np.where(msev>0)[0])\n",
        "ind=np.random.randint(len(msev))\n",
        "ft=[formula[i] for i in testidx]\n",
        "y_true = ytest[ind]\n",
        "y_pred = predtest[ind]\n",
        "plt.plot(x4test,y_true,'royalblue',label='original',alpha=0.8)\n",
        "plt.plot(x4test,y_pred,'orange',label='predicted')\n",
        "plt.title(ft[ind], fontsize=16)\n",
        "print('mean_squared_error: ',mean_squared_error(y_true,y_pred))\n",
        "print('mean_absolute_error: ',mean_absolute_error(y_true,y_pred))\n",
        "plt.legend();"
      ],
      "id": "Hl6wdkaBeupH"
    },
    {
      "cell_type": "code",
      "execution_count": null,
      "metadata": {
        "id": "Q9qxu5qRe7e9"
      },
      "outputs": [],
      "source": [],
      "id": "Q9qxu5qRe7e9"
    }
  ],
  "metadata": {
    "accelerator": "GPU",
    "colab": {
      "provenance": [],
      "include_colab_link": true
    },
    "gpuClass": "standard",
    "kernelspec": {
      "display_name": "Python 3 (ipykernel)",
      "language": "python",
      "name": "python3"
    },
    "language_info": {
      "codemirror_mode": {
        "name": "ipython",
        "version": 3
      },
      "file_extension": ".py",
      "mimetype": "text/x-python",
      "name": "python",
      "nbconvert_exporter": "python",
      "pygments_lexer": "ipython3",
      "version": "3.8.10"
    }
  },
  "nbformat": 4,
  "nbformat_minor": 5
}