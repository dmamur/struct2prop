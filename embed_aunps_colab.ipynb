{
  "cells": [
    {
      "cell_type": "code",
      "execution_count": null,
      "metadata": {
        "id": "a7b1fb1b",
        "scrolled": true
      },
      "outputs": [],
      "source": [
        "import pickle,re, glob,os,random \n",
        "import numpy as np\n",
        "import pandas as pd\n",
        "import tensorflow as tf\n",
        "import matplotlib.pyplot as plt\n",
        "from tensorflow import keras\n",
        "from keras.models import Sequential, Model\n",
        "from keras.layers import Embedding,Dense,Dropout,Input,Concatenate,Flatten,Bidirectional,LSTM,Reshape\n",
        "from keras.utils import np_utils\n",
        "from keras.utils.vis_utils import plot_model\n",
        "import keras.backend as K \n",
        "from collections import defaultdict\n",
        "\n",
        "loss_fn = keras.losses.SparseCategoricalCrossentropy(\n",
        "    reduction=tf.keras.losses.Reduction.NONE\n",
        ")\n",
        "loss_tracker = tf.keras.metrics.Mean(name=\"loss\")\n",
        "\n",
        "class MaskedLanguageModel(tf.keras.Model):\n",
        "    def train_step(self, inputs):\n",
        "        if len(inputs) == 3:\n",
        "            features, labels, sample_weight = inputs\n",
        "        else:\n",
        "            features, labels = inputs\n",
        "            sample_weight = None\n",
        "\n",
        "        with tf.GradientTape() as tape:\n",
        "            predictions = self(features, training=True)\n",
        "            loss = loss_fn(labels, predictions, sample_weight=sample_weight)\n",
        "\n",
        "        # Compute gradients\n",
        "        trainable_vars = self.trainable_variables\n",
        "        gradients = tape.gradient(loss, trainable_vars)\n",
        "\n",
        "        # Update weights\n",
        "        self.optimizer.apply_gradients(zip(gradients, trainable_vars))\n",
        "\n",
        "        # Compute our own metrics\n",
        "        loss_tracker.update_state(loss, sample_weight=sample_weight)\n",
        "\n",
        "        # Return a dict mapping metric names to current value\n",
        "        return {\"loss\": loss_tracker.result()}\n",
        "\n",
        "    @property\n",
        "    def metrics(self):\n",
        "        # We list our `Metric` objects here so that `reset_states()` can be\n",
        "        # called automatically at the start of each epoch\n",
        "        # or at the start of `evaluate()`.\n",
        "        # If you don't implement this property, you have to call\n",
        "        # `reset_states()` yourself at the time of your choosing.\n",
        "        return [loss_tracker]\n",
        "\n",
        "def loadData(fname,printkeys='y'):\n",
        "    # for reading also binary mode is important\n",
        "    dbfile = open(fname, 'rb')     \n",
        "    db = pickle.load(dbfile)\n",
        "    if printkeys=='y':\n",
        "        for keys in db:\n",
        "            print(keys)\n",
        "    return db\n",
        "\n"
      ],
      "id": "a7b1fb1b"
    },
    {
      "cell_type": "code",
      "execution_count": null,
      "metadata": {
        "colab": {
          "base_uri": "https://localhost:8080/"
        },
        "id": "sdl0bwht5JJA",
        "outputId": "7ad2c493-896a-4773-eb9b-e96534e18132"
      },
      "outputs": [
        {
          "name": "stdout",
          "output_type": "stream",
          "text": [
            "Cloning into 'struct2prop'...\n",
            "remote: Enumerating objects: 65, done.\u001b[K\n",
            "remote: Counting objects: 100% (65/65), done.\u001b[K\n",
            "remote: Compressing objects: 100% (61/61), done.\u001b[K\n",
            "remote: Total 65 (delta 20), reused 0 (delta 0), pack-reused 0\u001b[K\n",
            "Unpacking objects: 100% (65/65), 7.01 MiB | 2.10 MiB/s, done.\n"
          ]
        }
      ],
      "source": [
        "!git clone https://github.com/dmamur/struct2prop.git "
      ],
      "id": "sdl0bwht5JJA"
    },
    {
      "cell_type": "code",
      "execution_count": null,
      "metadata": {
        "id": "2c15c928"
      },
      "outputs": [],
      "source": [
        "class Config:\n",
        "    MAX_LEN = 128\n",
        "    BATCH_SIZE = 1\n",
        "    LR = 0.001\n",
        "    VOCAB_SIZE = 128\n",
        "    EMBED_DIM = 128\n",
        "    MNAME = 'embed_aunps_'\n",
        "config = Config()\n",
        "path=\"/content/struct2prop/models\"\n",
        "mname=path+config.MNAME+'E_'+str(config.EMBED_DIM)\n",
        "tf.random.set_seed(42)"
      ],
      "id": "2c15c928"
    },
    {
      "cell_type": "code",
      "execution_count": null,
      "metadata": {
        "colab": {
          "base_uri": "https://localhost:8080/",
          "height": 36
        },
        "id": "878a06e0",
        "outputId": "84a8ae68-d480-4318-d7fe-2ebde2fafd00"
      },
      "outputs": [
        {
          "data": {
            "application/vnd.google.colaboratory.intrinsic+json": {
              "type": "string"
            },
            "text/plain": [
              "'/content/struct2prop/modelsembed_aunps_E_128'"
            ]
          },
          "execution_count": 4,
          "metadata": {},
          "output_type": "execute_result"
        }
      ],
      "source": [
        "mname"
      ],
      "id": "878a06e0"
    },
    {
      "cell_type": "code",
      "execution_count": null,
      "metadata": {
        "colab": {
          "base_uri": "https://localhost:8080/"
        },
        "id": "YnU1NZY4GvMr",
        "outputId": "c6bae544-966d-40e6-99e5-4cd397931834"
      },
      "outputs": [
        {
          "name": "stdout",
          "output_type": "stream",
          "text": [
            "Looking in indexes: https://pypi.org/simple, https://us-python.pkg.dev/colab-wheels/public/simple/\n",
            "Collecting ase\n",
            "  Downloading ase-3.22.1-py3-none-any.whl (2.2 MB)\n",
            "\u001b[2K     \u001b[90m━━━━━━━━━━━━━━━━━━━━━━━━━━━━━━━━━━━━━━━━\u001b[0m \u001b[32m2.2/2.2 MB\u001b[0m \u001b[31m6.7 MB/s\u001b[0m eta \u001b[36m0:00:00\u001b[0m\n",
            "\u001b[?25hRequirement already satisfied: numpy>=1.15.0 in /usr/local/lib/python3.9/dist-packages (from ase) (1.22.4)\n",
            "Requirement already satisfied: matplotlib>=3.1.0 in /usr/local/lib/python3.9/dist-packages (from ase) (3.7.1)\n",
            "Requirement already satisfied: scipy>=1.1.0 in /usr/local/lib/python3.9/dist-packages (from ase) (1.10.1)\n",
            "Requirement already satisfied: pyparsing>=2.3.1 in /usr/local/lib/python3.9/dist-packages (from matplotlib>=3.1.0->ase) (3.0.9)\n",
            "Requirement already satisfied: importlib-resources>=3.2.0 in /usr/local/lib/python3.9/dist-packages (from matplotlib>=3.1.0->ase) (5.12.0)\n",
            "Requirement already satisfied: contourpy>=1.0.1 in /usr/local/lib/python3.9/dist-packages (from matplotlib>=3.1.0->ase) (1.0.7)\n",
            "Requirement already satisfied: packaging>=20.0 in /usr/local/lib/python3.9/dist-packages (from matplotlib>=3.1.0->ase) (23.0)\n",
            "Requirement already satisfied: python-dateutil>=2.7 in /usr/local/lib/python3.9/dist-packages (from matplotlib>=3.1.0->ase) (2.8.2)\n",
            "Requirement already satisfied: cycler>=0.10 in /usr/local/lib/python3.9/dist-packages (from matplotlib>=3.1.0->ase) (0.11.0)\n",
            "Requirement already satisfied: kiwisolver>=1.0.1 in /usr/local/lib/python3.9/dist-packages (from matplotlib>=3.1.0->ase) (1.4.4)\n",
            "Requirement already satisfied: pillow>=6.2.0 in /usr/local/lib/python3.9/dist-packages (from matplotlib>=3.1.0->ase) (8.4.0)\n",
            "Requirement already satisfied: fonttools>=4.22.0 in /usr/local/lib/python3.9/dist-packages (from matplotlib>=3.1.0->ase) (4.39.3)\n",
            "Requirement already satisfied: zipp>=3.1.0 in /usr/local/lib/python3.9/dist-packages (from importlib-resources>=3.2.0->matplotlib>=3.1.0->ase) (3.15.0)\n",
            "Requirement already satisfied: six>=1.5 in /usr/local/lib/python3.9/dist-packages (from python-dateutil>=2.7->matplotlib>=3.1.0->ase) (1.16.0)\n",
            "Installing collected packages: ase\n",
            "Successfully installed ase-3.22.1\n"
          ]
        }
      ],
      "source": [
        "!pip install ase"
      ],
      "id": "YnU1NZY4GvMr"
    },
    {
      "cell_type": "markdown",
      "metadata": {
        "id": "86baf7df"
      },
      "source": [
        "# Load data from xyz"
      ],
      "id": "86baf7df"
    },
    {
      "cell_type": "code",
      "execution_count": null,
      "metadata": {
        "id": "5fa12f0c"
      },
      "outputs": [],
      "source": [
        "from ase.io import read\n",
        "from scipy.ndimage import gaussian_filter1d\n",
        "from ase.neighborlist import neighbor_list\n",
        "def getpdf(atoms,x,v):\n",
        "    i, d = neighbor_list('id', atoms, 10.0, self_interaction=False)\n",
        "    pdfatoms=[]\n",
        "    for k,l in enumerate(atoms):\n",
        "        y = np.zeros(100)\n",
        "        dist = np.round(d[i==k]*10)\n",
        "        a,b=np.unique(dist, return_counts=True)\n",
        "        np.put(y,a.astype(int)-1,b)\n",
        "        pdfatoms.append(gaussian_filter1d(y/v,1))\n",
        "    return np.asarray(pdfatoms)"
      ],
      "id": "5fa12f0c"
    },
    {
      "cell_type": "code",
      "execution_count": null,
      "metadata": {
        "id": "DULMRHn366pW"
      },
      "outputs": [],
      "source": [
        "atomsNPs = read('/content/struct2prop/data/aunps_coords.xyz',format='extxyz',index=':')"
      ],
      "id": "DULMRHn366pW"
    },
    {
      "cell_type": "code",
      "execution_count": null,
      "metadata": {
        "id": "uwZr1dI77Ct0"
      },
      "outputs": [],
      "source": [
        "count=1\n",
        "r = np.arange(0,10,0.1)\n",
        "v = np.concatenate([[1],4*np.pi/3*(r[1:]**3 - r[:-1]**3)])\n",
        "types,formula,ids,pdf = [],[],[],[]\n",
        "for atoms in atomsNPs:\n",
        "    atoms.positions = atoms.positions - atoms.get_center_of_mass() + (np.max(atoms.get_all_distances())+13)/2\n",
        "    #atoms.cell = [np.max(atoms.get_all_distances())+13,np.max(atoms.get_all_distances())+13,np.max(atoms.get_all_distances())+13]\n",
        "    formula.append(atoms.get_chemical_formula())\n",
        "    types.append(atoms.get_chemical_symbols())\n",
        "    ids.append('NP-'+str(count))\n",
        "    pdf.append(getpdf(atoms,r,v))\n",
        "    count+=1"
      ],
      "id": "uwZr1dI77Ct0"
    },
    {
      "cell_type": "code",
      "execution_count": null,
      "metadata": {
        "colab": {
          "base_uri": "https://localhost:8080/"
        },
        "id": "7e8954ed",
        "outputId": "4f7cb4c7-1e0c-4ec8-afd8-f3661b65cece"
      },
      "outputs": [
        {
          "data": {
            "text/plain": [
              "94"
            ]
          },
          "execution_count": 9,
          "metadata": {},
          "output_type": "execute_result"
        }
      ],
      "source": [
        "# Load data for masked language model\n",
        "with open('/content/struct2prop/data/el2id.pkl', 'rb') as f:\n",
        "    el2id = pickle.load(f)\n",
        "element2id = el2id['el2id']\n",
        "config.VOCAB_SIZE = len(element2id)\n",
        "config.VOCAB_SIZE"
      ],
      "id": "7e8954ed"
    },
    {
      "cell_type": "code",
      "execution_count": null,
      "metadata": {
        "id": "ba8465c2"
      },
      "outputs": [],
      "source": [
        "typesNumerical=[]\n",
        "for i in types:\n",
        "    typesNumerical.append([element2id[j] for j in i])\n",
        "\n",
        "x1 = tf.keras.preprocessing.sequence.pad_sequences(pdf,dtype='float32',padding= 'post',maxlen=config.MAX_LEN )\n",
        "x1[np.isnan(x1)]=0\n",
        "x3 = tf.keras.preprocessing.sequence.pad_sequences(typesNumerical,dtype='int32',padding= 'post',maxlen=config.MAX_LEN)"
      ],
      "id": "ba8465c2"
    },
    {
      "cell_type": "code",
      "execution_count": null,
      "metadata": {
        "id": "AgAEpX6YcJsi"
      },
      "outputs": [],
      "source": [
        "with open('/content/struct2prop/data/aunps_data.pkl', 'rb') as f:\n",
        "    dbedos = pickle.load(f)\n",
        "\n",
        "y  = tf.keras.preprocessing.sequence.pad_sequences(dbedos['y'],dtype='float64',padding= 'post')\n",
        "p = np.random.RandomState(seed=73).permutation(y.shape[0])\n",
        "n = len(p)\n",
        "trainidx = p[:int(n*0.8)]\n",
        "validx = p[int(n*0.8):int(n*0.9)]\n",
        "testidx = p[int(n*0.9):]\n",
        "\n",
        "x1v, x3v,ytrainv   =  x1[validx],  x3[validx],  y[validx]\n",
        "x1t,  x3t, ytrain =  x1[trainidx],x3[trainidx],y[trainidx]\n",
        "y2, y2v,y2s = dbedos['eFermi'][trainidx],dbedos['eFermi'][validx],dbedos['eFermi']"
      ],
      "id": "AgAEpX6YcJsi"
    },
    {
      "cell_type": "markdown",
      "metadata": {
        "id": "9W_HmiqsDXJf"
      },
      "source": [
        "# Model"
      ],
      "id": "9W_HmiqsDXJf"
    },
    {
      "cell_type": "code",
      "execution_count": null,
      "metadata": {
        "colab": {
          "base_uri": "https://localhost:8080/"
        },
        "id": "8e79c14a",
        "outputId": "ef4e8411-ea4f-49ff-d84f-029fd13fa791"
      },
      "outputs": [
        {
          "name": "stdout",
          "output_type": "stream",
          "text": [
            "x1\n",
            "types\n",
            "x1_blstm\n",
            "element_embdgs\n"
          ]
        }
      ],
      "source": [
        "inputA = Input(shape=x1.shape[1:],name='x1')\n",
        "inputC = Input((config.MAX_LEN), dtype=tf.int32,name='types')\n",
        "outNeuronNum = ytrain.shape[1]\n",
        "inputD = Input(shape=outNeuronNum,)\n",
        "\n",
        "x = Bidirectional(LSTM(8,name='x1_lstm',return_sequences=True),name='x1_blstm')(inputA)\n",
        "x = Model(inputs=inputA, outputs=x)\n",
        "\n",
        "z =  Embedding(config.VOCAB_SIZE, config.EMBED_DIM, mask_zero=True,name=\"element_embdgs\")(inputC)\n",
        "z = Model(inputs=inputC, outputs=z)\n",
        "\n",
        "combined = Concatenate()([x.output,z.output])\n",
        "\n",
        "l = LSTM(256)(combined)\n",
        "\n",
        "e = Dense(outNeuronNum, activation=\"relu\",use_bias=True,name='out_edos')(l)\n",
        "f = Dense(1, activation=\"linear\",use_bias=True,name='out_ef')(l)\n",
        "model = Model(inputs=[x.input, z.input], outputs=[e,f])\n",
        "\n",
        "from tensorflow.keras.models import load_model\n",
        "pretrained_model = load_model('/content/struct2prop/models/embed_pdf_E_128.h5',custom_objects={\"MaskedLanguageModel\": MaskedLanguageModel})\n",
        "for layer in pretrained_model.layers:\n",
        "    try:\n",
        "        # selecting layer by name\n",
        "        model.get_layer(layer.name).set_weights(layer.get_weights())\n",
        "        model.get_layer(layer.name).trainable=False\n",
        "        print(layer.name)\n",
        "    except:\n",
        "        pass\n",
        "\n",
        "mname = mname+'_eDOS'\n"
      ],
      "id": "8e79c14a"
    },
    {
      "cell_type": "code",
      "execution_count": null,
      "metadata": {
        "colab": {
          "base_uri": "https://localhost:8080/",
          "height": 533
        },
        "id": "b95d888d",
        "outputId": "8e2e63eb-9bb0-4a40-8d70-99f16b713156",
        "scrolled": true
      },
      "outputs": [
        {
          "data": {
            "image/png": "[encoded data removed]",
            "text/plain": [
              "<IPython.core.display.Image object>"
            ]
          },
          "execution_count": 19,
          "metadata": {},
          "output_type": "execute_result"
        }
      ],
      "source": [
        "plot_model(model, show_shapes=True, show_layer_names=True,to_file=mname+\".png\")"
      ],
      "id": "b95d888d"
    },
    {
      "cell_type": "code",
      "execution_count": null,
      "metadata": {
        "colab": {
          "base_uri": "https://localhost:8080/"
        },
        "id": "200d2033",
        "outputId": "5f08b679-a2ed-40d2-fe24-fe934dacc9b7"
      },
      "outputs": [
        {
          "name": "stdout",
          "output_type": "stream",
          "text": [
            "Model: \"model_4\"\n",
            "__________________________________________________________________________________________________\n",
            " Layer (type)                   Output Shape         Param #     Connected to                     \n",
            "==================================================================================================\n",
            " x1 (InputLayer)                [(None, 128, 100)]   0           []                               \n",
            "                                                                                                  \n",
            " types (InputLayer)             [(None, 128)]        0           []                               \n",
            "                                                                                                  \n",
            " x1_blstm (Bidirectional)       (None, 128, 16)      6976        ['x1[0][0]']                     \n",
            "                                                                                                  \n",
            " element_embdgs (Embedding)     (None, 128, 128)     12032       ['types[0][0]']                  \n",
            "                                                                                                  \n",
            " concatenate_1 (Concatenate)    (None, 128, 144)     0           ['x1_blstm[0][0]',               \n",
            "                                                                  'element_embdgs[0][0]']         \n",
            "                                                                                                  \n",
            " lstm (LSTM)                    (None, 256)          410624      ['concatenate_1[0][0]']          \n",
            "                                                                                                  \n",
            " out_edos (Dense)               (None, 300)          77100       ['lstm[0][0]']                   \n",
            "                                                                                                  \n",
            " out_ef (Dense)                 (None, 1)            257         ['lstm[0][0]']                   \n",
            "                                                                                                  \n",
            "==================================================================================================\n",
            "Total params: 506,989\n",
            "Trainable params: 487,981\n",
            "Non-trainable params: 19,008\n",
            "__________________________________________________________________________________________________\n"
          ]
        }
      ],
      "source": [
        "model.summary()"
      ],
      "id": "200d2033"
    },
    {
      "cell_type": "code",
      "execution_count": null,
      "metadata": {
        "id": "dc5dfdd1"
      },
      "outputs": [],
      "source": [
        "model.compile(loss ='mae',\n",
        "              optimizer= keras.optimizers.Adam(learning_rate=config.LR),\n",
        "              metrics='mse')"
      ],
      "id": "dc5dfdd1"
    },
    {
      "cell_type": "code",
      "execution_count": null,
      "metadata": {
        "colab": {
          "background_save": true,
          "base_uri": "https://localhost:8080/"
        },
        "id": "eeab9e7a",
        "outputId": "40405a31-b443-45ba-fc44-50ff98d72c85"
      },
      "outputs": [
        {
          "name": "stdout",
          "output_type": "stream",
          "text": [
            "Epoch 1/120\n",
            "708/708 [==============================] - 122s 163ms/step - loss: 48.5237 - out_edos_loss: 48.3344 - out_ef_loss: 0.1894 - out_edos_mse: 18075.1250 - out_ef_mse: 0.0955 - val_loss: 42.0553 - val_out_edos_loss: 41.8790 - val_out_ef_loss: 0.1762 - val_out_edos_mse: 15187.1465 - val_out_ef_mse: 0.0406 - lr: 0.0010\n",
            "Epoch 2/120\n",
            "708/708 [==============================] - 113s 159ms/step - loss: 49.4653 - out_edos_loss: 49.3272 - out_ef_loss: 0.1381 - out_edos_mse: 18246.2812 - out_ef_mse: 0.0390 - val_loss: 60.2731 - val_out_edos_loss: 60.1514 - val_out_ef_loss: 0.1217 - val_out_edos_mse: 22887.4922 - val_out_ef_mse: 0.0202 - lr: 0.0010\n",
            "Epoch 3/120\n",
            "708/708 [==============================] - 114s 160ms/step - loss: 60.5399 - out_edos_loss: 60.4384 - out_ef_loss: 0.1015 - out_edos_mse: 23282.3281 - out_ef_mse: 0.0201 - val_loss: 60.2216 - val_out_edos_loss: 60.1489 - val_out_ef_loss: 0.0726 - val_out_edos_mse: 22887.4082 - val_out_ef_mse: 0.0111 - lr: 0.0010\n",
            "Epoch 4/120\n",
            "708/708 [==============================] - 113s 160ms/step - loss: 60.5002 - out_edos_loss: 60.4027 - out_ef_loss: 0.0975 - out_edos_mse: 23280.4980 - out_ef_mse: 0.0187 - val_loss: 60.0311 - val_out_edos_loss: 59.9536 - val_out_ef_loss: 0.0775 - val_out_edos_mse: 22877.7148 - val_out_ef_mse: 0.0108 - lr: 0.0010\n",
            "Epoch 5/120\n",
            "708/708 [==============================] - 113s 159ms/step - loss: 60.3266 - out_edos_loss: 60.2291 - out_ef_loss: 0.0975 - out_edos_mse: 23270.9609 - out_ef_mse: 0.0188 - val_loss: 59.9979 - val_out_edos_loss: 59.9254 - val_out_ef_loss: 0.0725 - val_out_edos_mse: 22875.9121 - val_out_ef_mse: 0.0108 - lr: 9.2000e-04\n",
            "Epoch 6/120\n",
            "708/708 [==============================] - 114s 162ms/step - loss: 60.2970 - out_edos_loss: 60.2007 - out_ef_loss: 0.0963 - out_edos_mse: 23269.9277 - out_ef_mse: 0.0188 - val_loss: 59.9564 - val_out_edos_loss: 59.8741 - val_out_ef_loss: 0.0823 - val_out_edos_mse: 22874.6621 - val_out_ef_mse: 0.0149 - lr: 9.2000e-04\n",
            "Epoch 7/120\n",
            "708/708 [==============================] - 114s 162ms/step - loss: 60.2820 - out_edos_loss: 60.1824 - out_ef_loss: 0.0997 - out_edos_mse: 23269.4102 - out_ef_mse: 0.0206 - val_loss: 60.0321 - val_out_edos_loss: 59.8845 - val_out_ef_loss: 0.1476 - val_out_edos_mse: 22874.7012 - val_out_ef_mse: 0.0283 - lr: 9.2000e-04\n",
            "Epoch 8/120\n",
            " 43/708 [>.............................] - ETA: 1:27 - loss: 63.5795 - out_edos_loss: 63.4506 - out_ef_loss: 0.1290 - out_edos_mse: 28967.1445 - out_ef_mse: 0.0298\n",
            "Epoch 8: saving model to /content/struct2prop/modelsembed_aunps_E_128_eDOS.h5\n",
            "708/708 [==============================] - 113s 159ms/step - loss: 60.2560 - out_edos_loss: 60.1617 - out_ef_loss: 0.0943 - out_edos_mse: 23268.9102 - out_ef_mse: 0.0183 - val_loss: 59.9206 - val_out_edos_loss: 59.8310 - val_out_ef_loss: 0.0896 - val_out_edos_mse: 22872.9395 - val_out_ef_mse: 0.0146 - lr: 9.2000e-04\n",
            "Epoch 9/120\n",
            "708/708 [==============================] - 116s 164ms/step - loss: 60.2125 - out_edos_loss: 60.1150 - out_ef_loss: 0.0975 - out_edos_mse: 23266.5508 - out_ef_mse: 0.0186 - val_loss: 59.8611 - val_out_edos_loss: 59.7844 - val_out_ef_loss: 0.0768 - val_out_edos_mse: 22855.3379 - val_out_ef_mse: 0.0118 - lr: 9.2000e-04\n",
            "Epoch 10/120\n",
            "708/708 [==============================] - 114s 161ms/step - loss: 49.6350 - out_edos_loss: 49.5064 - out_ef_loss: 0.1286 - out_edos_mse: 18288.6250 - out_ef_mse: 0.0333 - val_loss: 33.9515 - val_out_edos_loss: 33.6191 - val_out_ef_loss: 0.3324 - val_out_edos_mse: 10665.3125 - val_out_ef_mse: 0.1226 - lr: 8.4640e-04\n",
            "Epoch 11/120\n",
            "708/708 [==============================] - 114s 162ms/step - loss: 31.7710 - out_edos_loss: 31.6002 - out_ef_loss: 0.1708 - out_edos_mse: 9367.7627 - out_ef_mse: 0.0690 - val_loss: 27.6642 - val_out_edos_loss: 27.5502 - val_out_ef_loss: 0.1140 - val_out_edos_mse: 8013.8081 - val_out_ef_mse: 0.0173 - lr: 8.4640e-04\n",
            "Epoch 12/120\n",
            "708/708 [==============================] - 112s 158ms/step - loss: 31.4250 - out_edos_loss: 31.2731 - out_ef_loss: 0.1519 - out_edos_mse: 9689.3320 - out_ef_mse: 0.0472 - val_loss: 29.1248 - val_out_edos_loss: 28.9919 - val_out_ef_loss: 0.1329 - val_out_edos_mse: 9197.3193 - val_out_ef_mse: 0.0265 - lr: 8.4640e-04\n",
            "Epoch 13/120\n",
            "708/708 [==============================] - 113s 160ms/step - loss: 26.4612 - out_edos_loss: 26.3248 - out_ef_loss: 0.1365 - out_edos_mse: 7316.3320 - out_ef_mse: 0.0380 - val_loss: 24.9077 - val_out_edos_loss: 24.7903 - val_out_ef_loss: 0.1173 - val_out_edos_mse: 7099.3623 - val_out_ef_mse: 0.0213 - lr: 8.4640e-04\n",
            "Epoch 14/120\n",
            "708/708 [==============================] - 112s 159ms/step - loss: 27.2722 - out_edos_loss: 27.1409 - out_ef_loss: 0.1313 - out_edos_mse: 7708.8784 - out_ef_mse: 0.0341 - val_loss: 25.0946 - val_out_edos_loss: 25.0072 - val_out_ef_loss: 0.0874 - val_out_edos_mse: 6782.9614 - val_out_ef_mse: 0.0229 - lr: 8.4640e-04\n",
            "Epoch 15/120\n",
            " 87/708 [==>...........................] - ETA: 1:36 - loss: 21.4577 - out_edos_loss: 21.3230 - out_ef_loss: 0.1348 - out_edos_mse: 3941.0730 - out_ef_mse: 0.0393\n",
            "Epoch 15: saving model to /content/struct2prop/modelsembed_aunps_E_128_eDOS.h5\n",
            "708/708 [==============================] - 114s 161ms/step - loss: 25.0573 - out_edos_loss: 24.9292 - out_ef_loss: 0.1281 - out_edos_mse: 6831.7705 - out_ef_mse: 0.0323 - val_loss: 27.0563 - val_out_edos_loss: 26.8204 - val_out_ef_loss: 0.2358 - val_out_edos_mse: 8395.8379 - val_out_ef_mse: 0.0694 - lr: 7.7869e-04\n",
            "Epoch 16/120\n",
            "708/708 [==============================] - 113s 159ms/step - loss: 24.5326 - out_edos_loss: 24.3878 - out_ef_loss: 0.1448 - out_edos_mse: 6393.0605 - out_ef_mse: 0.0370 - val_loss: 22.6217 - val_out_edos_loss: 22.5149 - val_out_ef_loss: 0.1068 - val_out_edos_mse: 6081.2842 - val_out_ef_mse: 0.0179 - lr: 7.7869e-04\n",
            "Epoch 17/120\n",
            "708/708 [==============================] - 115s 162ms/step - loss: 23.0819 - out_edos_loss: 22.9623 - out_ef_loss: 0.1195 - out_edos_mse: 5854.6367 - out_ef_mse: 0.0255 - val_loss: 24.1384 - val_out_edos_loss: 24.0412 - val_out_ef_loss: 0.0972 - val_out_edos_mse: 6764.0137 - val_out_ef_mse: 0.0158 - lr: 7.7869e-04\n",
            "Epoch 18/120\n",
            "708/708 [==============================] - 115s 163ms/step - loss: 22.4031 - out_edos_loss: 22.2787 - out_ef_loss: 0.1244 - out_edos_mse: 5630.7876 - out_ef_mse: 0.0277 - val_loss: 20.2879 - val_out_edos_loss: 20.0866 - val_out_ef_loss: 0.2013 - val_out_edos_mse: 5220.8833 - val_out_ef_mse: 0.0484 - lr: 7.7869e-04\n",
            "Epoch 19/120\n",
            "708/708 [==============================] - 114s 160ms/step - loss: 22.7250 - out_edos_loss: 22.6058 - out_ef_loss: 0.1191 - out_edos_mse: 5455.3745 - out_ef_mse: 0.0257 - val_loss: 25.3033 - val_out_edos_loss: 25.2167 - val_out_ef_loss: 0.0866 - val_out_edos_mse: 6304.3076 - val_out_ef_mse: 0.0128 - lr: 7.7869e-04\n",
            "Epoch 20/120\n",
            "708/708 [==============================] - 114s 161ms/step - loss: 23.0184 - out_edos_loss: 22.9042 - out_ef_loss: 0.1142 - out_edos_mse: 5724.6016 - out_ef_mse: 0.0243 - val_loss: 18.6149 - val_out_edos_loss: 18.2602 - val_out_ef_loss: 0.3547 - val_out_edos_mse: 4996.7720 - val_out_ef_mse: 0.1609 - lr: 7.1639e-04\n",
            "Epoch 21/120\n",
            "708/708 [==============================] - 115s 162ms/step - loss: 22.1726 - out_edos_loss: 22.0275 - out_ef_loss: 0.1451 - out_edos_mse: 5568.7744 - out_ef_mse: 0.0395 - val_loss: 17.2653 - val_out_edos_loss: 17.1483 - val_out_ef_loss: 0.1171 - val_out_edos_mse: 4504.0576 - val_out_ef_mse: 0.0190 - lr: 7.1639e-04\n",
            "Epoch 22/120\n",
            "131/708 [====>.........................] - ETA: 1:32 - loss: 18.3855 - out_edos_loss: 18.2434 - out_ef_loss: 0.1421 - out_edos_mse: 3311.8660 - out_ef_mse: 0.0329\n",
            "Epoch 22: saving model to /content/struct2prop/modelsembed_aunps_E_128_eDOS.h5\n",
            "708/708 [==============================] - 115s 162ms/step - loss: 20.6956 - out_edos_loss: 20.5654 - out_ef_loss: 0.1301 - out_edos_mse: 4843.0796 - out_ef_mse: 0.0297 - val_loss: 17.3176 - val_out_edos_loss: 17.0742 - val_out_ef_loss: 0.2434 - val_out_edos_mse: 4121.3779 - val_out_ef_mse: 0.0714 - lr: 7.1639e-04\n",
            "Epoch 23/120\n",
            "708/708 [==============================] - 113s 159ms/step - loss: 19.5435 - out_edos_loss: 19.4238 - out_ef_loss: 0.1197 - out_edos_mse: 4473.0264 - out_ef_mse: 0.0256 - val_loss: 18.0203 - val_out_edos_loss: 17.9233 - val_out_ef_loss: 0.0970 - val_out_edos_mse: 4214.2861 - val_out_ef_mse: 0.0142 - lr: 7.1639e-04\n",
            "Epoch 24/120\n",
            "708/708 [==============================] - 114s 161ms/step - loss: 19.8230 - out_edos_loss: 19.7039 - out_ef_loss: 0.1191 - out_edos_mse: 4370.4658 - out_ef_mse: 0.0255 - val_loss: 16.2531 - val_out_edos_loss: 16.0771 - val_out_ef_loss: 0.1760 - val_out_edos_mse: 3779.6155 - val_out_ef_mse: 0.0411 - lr: 7.1639e-04\n",
            "Epoch 25/120\n",
            "708/708 [==============================] - 113s 159ms/step - loss: 18.2804 - out_edos_loss: 18.1565 - out_ef_loss: 0.1239 - out_edos_mse: 3918.6948 - out_ef_mse: 0.0274 - val_loss: 15.2584 - val_out_edos_loss: 15.1558 - val_out_ef_loss: 0.1025 - val_out_edos_mse: 3661.5459 - val_out_ef_mse: 0.0153 - lr: 6.5908e-04\n",
            "Epoch 26/120\n",
            "708/708 [==============================] - 109s 154ms/step - loss: 19.7574 - out_edos_loss: 19.6366 - out_ef_loss: 0.1208 - out_edos_mse: 4616.1226 - out_ef_mse: 0.0249 - val_loss: 20.2200 - val_out_edos_loss: 20.1295 - val_out_ef_loss: 0.0905 - val_out_edos_mse: 5822.0620 - val_out_ef_mse: 0.0155 - lr: 6.5908e-04\n",
            "Epoch 27/120\n",
            "708/708 [==============================] - 107s 151ms/step - loss: 20.6279 - out_edos_loss: 20.5113 - out_ef_loss: 0.1166 - out_edos_mse: 5106.8872 - out_ef_mse: 0.0247 - val_loss: 16.7297 - val_out_edos_loss: 16.6426 - val_out_ef_loss: 0.0871 - val_out_edos_mse: 4620.5327 - val_out_ef_mse: 0.0146 - lr: 6.5908e-04\n",
            "Epoch 28/120\n",
            "708/708 [==============================] - 108s 152ms/step - loss: 22.0237 - out_edos_loss: 21.9031 - out_ef_loss: 0.1206 - out_edos_mse: 5567.1064 - out_ef_mse: 0.0261 - val_loss: 17.1142 - val_out_edos_loss: 17.0268 - val_out_ef_loss: 0.0874 - val_out_edos_mse: 4537.6035 - val_out_ef_mse: 0.0134 - lr: 6.5908e-04\n",
            "Epoch 29/120\n",
            "175/708 [======>.......................] - ETA: 1:17 - loss: 20.6602 - out_edos_loss: 20.5356 - out_ef_loss: 0.1246 - out_edos_mse: 4327.0737 - out_ef_mse: 0.0273\n",
            "Epoch 29: saving model to /content/struct2prop/modelsembed_aunps_E_128_eDOS.h5\n",
            "708/708 [==============================] - 107s 151ms/step - loss: 19.6840 - out_edos_loss: 19.5709 - out_ef_loss: 0.1130 - out_edos_mse: 4470.2290 - out_ef_mse: 0.0237 - val_loss: 16.3197 - val_out_edos_loss: 16.2316 - val_out_ef_loss: 0.0882 - val_out_edos_mse: 3818.7744 - val_out_ef_mse: 0.0119 - lr: 6.5908e-04\n",
            "Epoch 30/120\n",
            "708/708 [==============================] - 109s 154ms/step - loss: 18.0345 - out_edos_loss: 17.9223 - out_ef_loss: 0.1122 - out_edos_mse: 3913.2681 - out_ef_mse: 0.0230 - val_loss: 15.2074 - val_out_edos_loss: 15.0997 - val_out_ef_loss: 0.1076 - val_out_edos_mse: 3658.1047 - val_out_ef_mse: 0.0172 - lr: 6.0636e-04\n",
            "Epoch 31/120\n",
            "708/708 [==============================] - 111s 157ms/step - loss: 17.9773 - out_edos_loss: 17.8698 - out_ef_loss: 0.1076 - out_edos_mse: 3775.9470 - out_ef_mse: 0.0216 - val_loss: 14.1128 - val_out_edos_loss: 14.0226 - val_out_ef_loss: 0.0902 - val_out_edos_mse: 3298.4900 - val_out_ef_mse: 0.0133 - lr: 6.0636e-04\n",
            "Epoch 32/120\n",
            "708/708 [==============================] - 108s 153ms/step - loss: 17.6955 - out_edos_loss: 17.5943 - out_ef_loss: 0.1012 - out_edos_mse: 3678.3083 - out_ef_mse: 0.0196 - val_loss: 13.7484 - val_out_edos_loss: 13.6777 - val_out_ef_loss: 0.0706 - val_out_edos_mse: 3192.6204 - val_out_ef_mse: 0.0091 - lr: 6.0636e-04\n",
            "Epoch 33/120\n",
            "708/708 [==============================] - 109s 155ms/step - loss: 17.1425 - out_edos_loss: 17.0361 - out_ef_loss: 0.1064 - out_edos_mse: 3476.1458 - out_ef_mse: 0.0204 - val_loss: 16.1451 - val_out_edos_loss: 16.0017 - val_out_ef_loss: 0.1434 - val_out_edos_mse: 3326.5515 - val_out_ef_mse: 0.0303 - lr: 6.0636e-04\n",
            "Epoch 34/120\n",
            "708/708 [==============================] - 111s 156ms/step - loss: 16.7788 - out_edos_loss: 16.6769 - out_ef_loss: 0.1019 - out_edos_mse: 3363.0024 - out_ef_mse: 0.0196 - val_loss: 13.4033 - val_out_edos_loss: 13.3126 - val_out_ef_loss: 0.0907 - val_out_edos_mse: 3000.5039 - val_out_ef_mse: 0.0122 - lr: 6.0636e-04\n",
            "Epoch 35/120\n",
            "708/708 [==============================] - 107s 152ms/step - loss: 16.6068 - out_edos_loss: 16.5047 - out_ef_loss: 0.1021 - out_edos_mse: 3284.5767 - out_ef_mse: 0.0194 - val_loss: 13.4798 - val_out_edos_loss: 13.3299 - val_out_ef_loss: 0.1499 - val_out_edos_mse: 2959.0535 - val_out_ef_mse: 0.0290 - lr: 5.5785e-04\n",
            "Epoch 36/120\n",
            "219/708 [========>.....................] - ETA: 1:13 - loss: 14.5874 - out_edos_loss: 14.4748 - out_ef_loss: 0.1126 - out_edos_mse: 2215.7993 - out_ef_mse: 0.0234\n",
            "Epoch 36: saving model to /content/struct2prop/modelsembed_aunps_E_128_eDOS.h5\n",
            "708/708 [==============================] - 110s 155ms/step - loss: 16.3952 - out_edos_loss: 16.2921 - out_ef_loss: 0.1031 - out_edos_mse: 3211.8569 - out_ef_mse: 0.0203 - val_loss: 12.9709 - val_out_edos_loss: 12.8802 - val_out_ef_loss: 0.0907 - val_out_edos_mse: 2801.5701 - val_out_ef_mse: 0.0135 - lr: 5.5785e-04\n",
            "Epoch 37/120\n",
            "708/708 [==============================] - 110s 155ms/step - loss: 15.5039 - out_edos_loss: 15.4043 - out_ef_loss: 0.0996 - out_edos_mse: 3015.1392 - out_ef_mse: 0.0192 - val_loss: 15.6179 - val_out_edos_loss: 15.5116 - val_out_ef_loss: 0.1063 - val_out_edos_mse: 3064.7842 - val_out_ef_mse: 0.0158 - lr: 5.5785e-04\n",
            "Epoch 38/120\n",
            "708/708 [==============================] - 110s 155ms/step - loss: 15.5856 - out_edos_loss: 15.4807 - out_ef_loss: 0.1049 - out_edos_mse: 2989.6790 - out_ef_mse: 0.0202 - val_loss: 13.8717 - val_out_edos_loss: 13.7790 - val_out_ef_loss: 0.0927 - val_out_edos_mse: 2909.2439 - val_out_ef_mse: 0.0128 - lr: 5.5785e-04\n",
            "Epoch 39/120\n",
            "708/708 [==============================] - 108s 152ms/step - loss: 15.4886 - out_edos_loss: 15.3890 - out_ef_loss: 0.0996 - out_edos_mse: 2966.0452 - out_ef_mse: 0.0195 - val_loss: 12.9920 - val_out_edos_loss: 12.9073 - val_out_ef_loss: 0.0847 - val_out_edos_mse: 2735.7896 - val_out_ef_mse: 0.0107 - lr: 5.5785e-04\n",
            "Epoch 40/120\n",
            "708/708 [==============================] - 108s 153ms/step - loss: 15.3413 - out_edos_loss: 15.2420 - out_ef_loss: 0.0993 - out_edos_mse: 2895.9229 - out_ef_mse: 0.0188 - val_loss: 14.7552 - val_out_edos_loss: 14.6768 - val_out_ef_loss: 0.0784 - val_out_edos_mse: 2861.0295 - val_out_ef_mse: 0.0111 - lr: 5.1322e-04\n",
            "Epoch 41/120\n",
            "708/708 [==============================] - 111s 157ms/step - loss: 15.2414 - out_edos_loss: 15.1405 - out_ef_loss: 0.1008 - out_edos_mse: 2853.7935 - out_ef_mse: 0.0198 - val_loss: 13.1288 - val_out_edos_loss: 13.0497 - val_out_ef_loss: 0.0790 - val_out_edos_mse: 2622.6755 - val_out_ef_mse: 0.0111 - lr: 5.1322e-04\n",
            "Epoch 42/120\n",
            "708/708 [==============================] - 109s 154ms/step - loss: 14.8557 - out_edos_loss: 14.7597 - out_ef_loss: 0.0961 - out_edos_mse: 2764.1882 - out_ef_mse: 0.0178 - val_loss: 13.1396 - val_out_edos_loss: 13.0385 - val_out_ef_loss: 0.1012 - val_out_edos_mse: 2592.7974 - val_out_ef_mse: 0.0150 - lr: 5.1322e-04\n",
            "Epoch 43/120\n",
            "263/708 [==========>...................] - ETA: 1:05 - loss: 15.9117 - out_edos_loss: 15.8171 - out_ef_loss: 0.0946 - out_edos_mse: 3116.1101 - out_ef_mse: 0.0154\n",
            "Epoch 43: saving model to /content/struct2prop/modelsembed_aunps_E_128_eDOS.h5\n",
            "708/708 [==============================] - 107s 151ms/step - loss: 14.7151 - out_edos_loss: 14.6171 - out_ef_loss: 0.0981 - out_edos_mse: 2669.2124 - out_ef_mse: 0.0184 - val_loss: 13.3441 - val_out_edos_loss: 13.2085 - val_out_ef_loss: 0.1356 - val_out_edos_mse: 2734.6245 - val_out_ef_mse: 0.0250 - lr: 5.1322e-04\n",
            "Epoch 44/120\n",
            "708/708 [==============================] - 109s 154ms/step - loss: 14.6846 - out_edos_loss: 14.5858 - out_ef_loss: 0.0988 - out_edos_mse: 2691.3276 - out_ef_mse: 0.0190 - val_loss: 12.7919 - val_out_edos_loss: 12.7216 - val_out_ef_loss: 0.0703 - val_out_edos_mse: 2606.3618 - val_out_ef_mse: 0.0092 - lr: 5.1322e-04\n",
            "Epoch 45/120\n",
            "708/708 [==============================] - 107s 152ms/step - loss: 15.0683 - out_edos_loss: 14.9667 - out_ef_loss: 0.1016 - out_edos_mse: 2713.1431 - out_ef_mse: 0.0201 - val_loss: 15.1207 - val_out_edos_loss: 15.0069 - val_out_ef_loss: 0.1138 - val_out_edos_mse: 2727.1396 - val_out_ef_mse: 0.0171 - lr: 4.7216e-04\n",
            "Epoch 46/120\n",
            "708/708 [==============================] - 109s 154ms/step - loss: 14.8474 - out_edos_loss: 14.7520 - out_ef_loss: 0.0955 - out_edos_mse: 2668.6738 - out_ef_mse: 0.0178 - val_loss: 13.1234 - val_out_edos_loss: 13.0547 - val_out_ef_loss: 0.0688 - val_out_edos_mse: 2461.1265 - val_out_ef_mse: 0.0085 - lr: 4.7216e-04\n",
            "Epoch 47/120\n",
            "708/708 [==============================] - 111s 156ms/step - loss: 14.4899 - out_edos_loss: 14.3955 - out_ef_loss: 0.0943 - out_edos_mse: 2530.4009 - out_ef_mse: 0.0185 - val_loss: 12.6862 - val_out_edos_loss: 12.5994 - val_out_ef_loss: 0.0869 - val_out_edos_mse: 2393.7622 - val_out_ef_mse: 0.0137 - lr: 4.7216e-04\n",
            "Epoch 48/120\n",
            "708/708 [==============================] - 108s 153ms/step - loss: 14.2006 - out_edos_loss: 14.1062 - out_ef_loss: 0.0943 - out_edos_mse: 2437.8875 - out_ef_mse: 0.0177 - val_loss: 11.6401 - val_out_edos_loss: 11.5536 - val_out_ef_loss: 0.0865 - val_out_edos_mse: 2281.5940 - val_out_ef_mse: 0.0126 - lr: 4.7216e-04\n",
            "Epoch 49/120\n",
            "302/708 [===========>..................] - ETA: 1:01 - loss: 13.3057 - out_edos_loss: 13.2073 - out_ef_loss: 0.0984 - out_edos_mse: 2023.3000 - out_ef_mse: 0.0195"
          ]
        }
      ],
      "source": [
        "def scheduler(epoch):\n",
        "    initial_lrate = config.LR\n",
        "    drop = 0.92\n",
        "    epochs_drop = 5\n",
        "    lr = initial_lrate * np.power(drop, np.floor((1+epoch)/epochs_drop))\n",
        "    if lr<0.0001:\n",
        "        lr = 0.0001\n",
        "    return lr\n",
        "\n",
        "epochs=120*config.BATCH_SIZE\n",
        "csv_logger = tf.keras.callbacks.CSVLogger(mname+\"_log.csv\", append=True)\n",
        "earlyStopping= tf.keras.callbacks.EarlyStopping(monitor='loss', patience=50, min_delta=0.01)\n",
        "checkpoint = tf.keras.callbacks.ModelCheckpoint(mname+\".h5\",verbose=2,monitor='val_loss', mode='min',save_freq=5000)\n",
        "callbacks_list = [checkpoint,csv_logger,earlyStopping,tf.keras.callbacks.LearningRateScheduler(scheduler)]\n",
        "\n",
        "hist = model.fit(x=[x1t,x3t],y = [ytrain,y2],validation_data = ([x1v, x3v],[ytrainv,y2v]),\n",
        "                 initial_epoch = 0, epochs = epochs,batch_size = config.BATCH_SIZE,callbacks = callbacks_list, verbose=1)\n",
        "\n",
        "model.save(mname+\".h5\")"
      ],
      "id": "eeab9e7a"
    },
    {
      "cell_type": "code",
      "execution_count": null,
      "metadata": {
        "id": "tOD3G1MydgQK"
      },
      "outputs": [],
      "source": [
        "preds = model.predict([x1,x3],batch_size = 256)"
      ],
      "id": "tOD3G1MydgQK"
    },
    {
      "cell_type": "code",
      "execution_count": null,
      "metadata": {
        "id": "-hpwJOEldhhP"
      },
      "outputs": [],
      "source": [
        "dbresults={}\n",
        "dbresults['x4'] = dbedos['x4']\n",
        "dbresults['y'] = dbedos['y']\n",
        "dbresults['preds'] = preds\n",
        "dbresults['train_idx'] = trainidx\n",
        "dbresults['validate_idx'] = validx \n",
        "dbresults['test_idx'] = testidx\n",
        "dbresults['formula'] = dbedos['formula']\n",
        "dbresults['ids'] = dbedos['ids']"
      ],
      "id": "-hpwJOEldhhP"
    },
    {
      "cell_type": "code",
      "execution_count": null,
      "metadata": {
        "id": "Lqu47dYFdm5C"
      },
      "outputs": [],
      "source": [
        "from sklearn.metrics import mean_squared_error,mean_absolute_error,median_absolute_error\n",
        "ytest    = dbresults['y'][testidx]\n",
        "x4test      = dbresults['x4']\n",
        "predtest = dbresults['preds'][testidx]\n",
        "msev = np.asarray([mean_squared_error(i,j) for i,j in zip(ytest,predtest)])\n",
        "maev = np.asarray([mean_absolute_error(i,j) for i,j in zip(ytest,predtest)])\n",
        "mseV=np.mean(msev)\n",
        "maeV=np.mean(maev)\n",
        "print(mseV,maeV)"
      ],
      "id": "Lqu47dYFdm5C"
    },
    {
      "cell_type": "code",
      "execution_count": null,
      "metadata": {
        "id": "Hl6wdkaBeupH"
      },
      "outputs": [],
      "source": [
        "p = np.random.permutation(np.where(msev>0)[0])\n",
        "ind=np.random.randint(len(msev))\n",
        "ft=[formula[i] for i in testidx]\n",
        "y_true = ytest[ind]\n",
        "y_pred = predtest[ind]\n",
        "plt.plot(x4test[ind],y_true,'royalblue',label='original',alpha=0.8)\n",
        "plt.plot(x4test[ind],y_pred,'orange',label='predicted')\n",
        "plt.title(ft[ind], fontsize=16)\n",
        "print('mean_squared_error: ',mean_squared_error(y_true,y_pred))\n",
        "print('mean_absolute_error: ',mean_absolute_error(y_true,y_pred))\n",
        "plt.legend();"
      ],
      "id": "Hl6wdkaBeupH"
    },
    {
      "cell_type": "code",
      "execution_count": null,
      "metadata": {
        "id": "Q9qxu5qRe7e9"
      },
      "outputs": [],
      "source": [],
      "id": "Q9qxu5qRe7e9"
    }
  ],
  "metadata": {
    "accelerator": "GPU",
    "colab": {
      "provenance": []
    },
    "gpuClass": "standard",
    "kernelspec": {
      "display_name": "Python 3 (ipykernel)",
      "language": "python",
      "name": "python3"
    },
    "language_info": {
      "codemirror_mode": {
        "name": "ipython",
        "version": 3
      },
      "file_extension": ".py",
      "mimetype": "text/x-python",
      "name": "python",
      "nbconvert_exporter": "python",
      "pygments_lexer": "ipython3",
      "version": "3.8.10"
    }
  },
  "nbformat": 4,
  "nbformat_minor": 5
}