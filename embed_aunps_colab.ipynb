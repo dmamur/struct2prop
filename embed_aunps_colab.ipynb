{
  "cells": [
    {
      "cell_type": "markdown",
      "metadata": {
        "id": "view-in-github",
        "colab_type": "text"
      },
      "source": [
        "<a href=\"https://colab.research.google.com/github/dmamur/struct2prop/blob/main/embed_aunps_colab.ipynb\" target=\"_parent\"><img src=\"https://colab.research.google.com/assets/colab-badge.svg\" alt=\"Open In Colab\"/></a>"
      ]
    },
    {
      "cell_type": "code",
      "execution_count": 1,
      "metadata": {
        "id": "a7b1fb1b",
        "scrolled": true
      },
      "outputs": [],
      "source": [
        "import pickle,re, glob,os,random \n",
        "import numpy as np\n",
        "import pandas as pd\n",
        "import tensorflow as tf\n",
        "import matplotlib.pyplot as plt\n",
        "from tensorflow import keras\n",
        "from keras.models import Sequential, Model\n",
        "from keras.layers import Embedding,Dense,Dropout,Input,Concatenate,Flatten,Bidirectional,LSTM,Reshape\n",
        "from keras.utils import np_utils\n",
        "from keras.utils.vis_utils import plot_model\n",
        "import keras.backend as K \n",
        "from collections import defaultdict\n",
        "\n",
        "loss_fn = keras.losses.SparseCategoricalCrossentropy(\n",
        "    reduction=tf.keras.losses.Reduction.NONE\n",
        ")\n",
        "loss_tracker = tf.keras.metrics.Mean(name=\"loss\")\n",
        "\n",
        "class MaskedLanguageModel(tf.keras.Model):\n",
        "    def train_step(self, inputs):\n",
        "        if len(inputs) == 3:\n",
        "            features, labels, sample_weight = inputs\n",
        "        else:\n",
        "            features, labels = inputs\n",
        "            sample_weight = None\n",
        "\n",
        "        with tf.GradientTape() as tape:\n",
        "            predictions = self(features, training=True)\n",
        "            loss = loss_fn(labels, predictions, sample_weight=sample_weight)\n",
        "\n",
        "        # Compute gradients\n",
        "        trainable_vars = self.trainable_variables\n",
        "        gradients = tape.gradient(loss, trainable_vars)\n",
        "\n",
        "        # Update weights\n",
        "        self.optimizer.apply_gradients(zip(gradients, trainable_vars))\n",
        "\n",
        "        # Compute our own metrics\n",
        "        loss_tracker.update_state(loss, sample_weight=sample_weight)\n",
        "\n",
        "        # Return a dict mapping metric names to current value\n",
        "        return {\"loss\": loss_tracker.result()}\n",
        "\n",
        "    @property\n",
        "    def metrics(self):\n",
        "        # We list our `Metric` objects here so that `reset_states()` can be\n",
        "        # called automatically at the start of each epoch\n",
        "        # or at the start of `evaluate()`.\n",
        "        # If you don't implement this property, you have to call\n",
        "        # `reset_states()` yourself at the time of your choosing.\n",
        "        return [loss_tracker]\n",
        "\n",
        "def loadData(fname,printkeys='y'):\n",
        "    # for reading also binary mode is important\n",
        "    dbfile = open(fname, 'rb')     \n",
        "    db = pickle.load(dbfile)\n",
        "    if printkeys=='y':\n",
        "        for keys in db:\n",
        "            print(keys)\n",
        "    return db\n",
        "\n"
      ],
      "id": "a7b1fb1b"
    },
    {
      "cell_type": "code",
      "execution_count": 2,
      "metadata": {
        "colab": {
          "base_uri": "https://localhost:8080/"
        },
        "id": "sdl0bwht5JJA",
        "outputId": "5a847820-61f9-4f81-b622-e6cb471d4a9b"
      },
      "outputs": [
        {
          "output_type": "stream",
          "name": "stdout",
          "text": [
            "Cloning into 'struct2prop'...\n",
            "remote: Enumerating objects: 80, done.\u001b[K\n",
            "remote: Counting objects: 100% (10/10), done.\u001b[K\n",
            "remote: Compressing objects: 100% (7/7), done.\u001b[K\n",
            "remote: Total 80 (delta 3), reused 2 (delta 2), pack-reused 70\u001b[K\n",
            "Unpacking objects: 100% (80/80), 7.37 MiB | 9.72 MiB/s, done.\n"
          ]
        }
      ],
      "source": [
        "!git clone https://github.com/dmamur/struct2prop.git "
      ],
      "id": "sdl0bwht5JJA"
    },
    {
      "cell_type": "code",
      "execution_count": 4,
      "metadata": {
        "id": "2c15c928"
      },
      "outputs": [],
      "source": [
        "class Config:\n",
        "    MAX_LEN = 1280\n",
        "    BATCH_SIZE = 1\n",
        "    LR = 0.001\n",
        "    VOCAB_SIZE = 128\n",
        "    EMBED_DIM = 128\n",
        "    MNAME = 'embed_aunps_'\n",
        "config = Config()\n",
        "path=\"/content/struct2prop/models\"\n",
        "mname=path+config.MNAME+'E_'+str(config.EMBED_DIM)\n",
        "tf.random.set_seed(42)"
      ],
      "id": "2c15c928"
    },
    {
      "cell_type": "code",
      "execution_count": 5,
      "metadata": {
        "colab": {
          "base_uri": "https://localhost:8080/",
          "height": 36
        },
        "id": "878a06e0",
        "outputId": "6ba07edf-82a7-4f58-d86d-b25bbef5e32a"
      },
      "outputs": [
        {
          "output_type": "execute_result",
          "data": {
            "text/plain": [
              "'/content/struct2prop/modelsembed_aunps_E_128'"
            ],
            "application/vnd.google.colaboratory.intrinsic+json": {
              "type": "string"
            }
          },
          "metadata": {},
          "execution_count": 5
        }
      ],
      "source": [
        "mname"
      ],
      "id": "878a06e0"
    },
    {
      "cell_type": "code",
      "execution_count": 6,
      "metadata": {
        "colab": {
          "base_uri": "https://localhost:8080/"
        },
        "id": "YnU1NZY4GvMr",
        "outputId": "536ff216-0432-44b2-b8aa-bad72fa91725"
      },
      "outputs": [
        {
          "output_type": "stream",
          "name": "stdout",
          "text": [
            "Looking in indexes: https://pypi.org/simple, https://us-python.pkg.dev/colab-wheels/public/simple/\n",
            "Collecting ase\n",
            "  Downloading ase-3.22.1-py3-none-any.whl (2.2 MB)\n",
            "\u001b[2K     \u001b[90m━━━━━━━━━━━━━━━━━━━━━━━━━━━━━━━━━━━━━━━━\u001b[0m \u001b[32m2.2/2.2 MB\u001b[0m \u001b[31m27.3 MB/s\u001b[0m eta \u001b[36m0:00:00\u001b[0m\n",
            "\u001b[?25hRequirement already satisfied: numpy>=1.15.0 in /usr/local/lib/python3.10/dist-packages (from ase) (1.22.4)\n",
            "Requirement already satisfied: scipy>=1.1.0 in /usr/local/lib/python3.10/dist-packages (from ase) (1.10.1)\n",
            "Requirement already satisfied: matplotlib>=3.1.0 in /usr/local/lib/python3.10/dist-packages (from ase) (3.7.1)\n",
            "Requirement already satisfied: packaging>=20.0 in /usr/local/lib/python3.10/dist-packages (from matplotlib>=3.1.0->ase) (23.1)\n",
            "Requirement already satisfied: python-dateutil>=2.7 in /usr/local/lib/python3.10/dist-packages (from matplotlib>=3.1.0->ase) (2.8.2)\n",
            "Requirement already satisfied: pillow>=6.2.0 in /usr/local/lib/python3.10/dist-packages (from matplotlib>=3.1.0->ase) (8.4.0)\n",
            "Requirement already satisfied: kiwisolver>=1.0.1 in /usr/local/lib/python3.10/dist-packages (from matplotlib>=3.1.0->ase) (1.4.4)\n",
            "Requirement already satisfied: fonttools>=4.22.0 in /usr/local/lib/python3.10/dist-packages (from matplotlib>=3.1.0->ase) (4.39.3)\n",
            "Requirement already satisfied: cycler>=0.10 in /usr/local/lib/python3.10/dist-packages (from matplotlib>=3.1.0->ase) (0.11.0)\n",
            "Requirement already satisfied: pyparsing>=2.3.1 in /usr/local/lib/python3.10/dist-packages (from matplotlib>=3.1.0->ase) (3.0.9)\n",
            "Requirement already satisfied: contourpy>=1.0.1 in /usr/local/lib/python3.10/dist-packages (from matplotlib>=3.1.0->ase) (1.0.7)\n",
            "Requirement already satisfied: six>=1.5 in /usr/local/lib/python3.10/dist-packages (from python-dateutil>=2.7->matplotlib>=3.1.0->ase) (1.16.0)\n",
            "Installing collected packages: ase\n",
            "Successfully installed ase-3.22.1\n"
          ]
        }
      ],
      "source": [
        "!pip install ase"
      ],
      "id": "YnU1NZY4GvMr"
    },
    {
      "cell_type": "markdown",
      "metadata": {
        "id": "86baf7df"
      },
      "source": [
        "# Load data from xyz"
      ],
      "id": "86baf7df"
    },
    {
      "cell_type": "code",
      "execution_count": 7,
      "metadata": {
        "id": "5fa12f0c"
      },
      "outputs": [],
      "source": [
        "from ase.io import read\n",
        "from scipy.ndimage import gaussian_filter1d\n",
        "from ase.neighborlist import neighbor_list\n",
        "def getpdf(atoms,x,v):\n",
        "    i, d = neighbor_list('id', atoms, 10.0, self_interaction=False)\n",
        "    pdfatoms=[]\n",
        "    for k,l in enumerate(atoms):\n",
        "        y = np.zeros(100)\n",
        "        dist = np.round(d[i==k]*10)\n",
        "        a,b=np.unique(dist, return_counts=True)\n",
        "        np.put(y,a.astype(int)-1,b)\n",
        "        pdfatoms.append(gaussian_filter1d(y/v,1))\n",
        "    return np.asarray(pdfatoms)"
      ],
      "id": "5fa12f0c"
    },
    {
      "cell_type": "code",
      "execution_count": 8,
      "metadata": {
        "id": "DULMRHn366pW"
      },
      "outputs": [],
      "source": [
        "atomsNPs = read('/content/struct2prop/data/aunps_coords.xyz',format='extxyz',index=':')"
      ],
      "id": "DULMRHn366pW"
    },
    {
      "cell_type": "code",
      "execution_count": 10,
      "metadata": {
        "id": "uwZr1dI77Ct0"
      },
      "outputs": [],
      "source": [
        "count=1\n",
        "r = np.arange(0,10,0.1)\n",
        "v = np.concatenate([[1],4*np.pi/3*(r[1:]**3 - r[:-1]**3)])\n",
        "types,formula,ids,pdf = [],[],[],[]\n",
        "for atoms in atomsNPs:\n",
        "    atoms.positions = atoms.positions - atoms.get_center_of_mass() + (np.max(atoms.get_all_distances())+13)/2\n",
        "    #atoms.cell = [np.max(atoms.get_all_distances())+13,np.max(atoms.get_all_distances())+13,np.max(atoms.get_all_distances())+13]\n",
        "    formula.append(atoms.get_chemical_formula())\n",
        "    types.append(atoms.get_chemical_symbols())\n",
        "    ids.append('NP-'+str(count))\n",
        "    pdf.append(getpdf(atoms,r,v))\n",
        "    count+=1"
      ],
      "id": "uwZr1dI77Ct0"
    },
    {
      "cell_type": "code",
      "execution_count": 11,
      "metadata": {
        "colab": {
          "base_uri": "https://localhost:8080/"
        },
        "id": "7e8954ed",
        "outputId": "410e04ba-5e3f-4a35-88f1-d19a6e4c2e55"
      },
      "outputs": [
        {
          "output_type": "execute_result",
          "data": {
            "text/plain": [
              "94"
            ]
          },
          "metadata": {},
          "execution_count": 11
        }
      ],
      "source": [
        "# Load data for masked language model\n",
        "with open('/content/struct2prop/data/el2id.pkl', 'rb') as f:\n",
        "    el2id = pickle.load(f)\n",
        "element2id = el2id['el2id']\n",
        "config.VOCAB_SIZE = len(element2id)\n",
        "config.VOCAB_SIZE"
      ],
      "id": "7e8954ed"
    },
    {
      "cell_type": "code",
      "execution_count": 12,
      "metadata": {
        "id": "ba8465c2"
      },
      "outputs": [],
      "source": [
        "typesNumerical=[]\n",
        "for i in types:\n",
        "    typesNumerical.append([element2id[j] for j in i])\n",
        "\n",
        "x1 = tf.keras.preprocessing.sequence.pad_sequences(pdf,dtype='float32',padding= 'post',maxlen=config.MAX_LEN )\n",
        "x1[np.isnan(x1)]=0\n",
        "x3 = tf.keras.preprocessing.sequence.pad_sequences(typesNumerical,dtype='int32',padding= 'post',maxlen=config.MAX_LEN)"
      ],
      "id": "ba8465c2"
    },
    {
      "cell_type": "code",
      "execution_count": 13,
      "metadata": {
        "id": "AgAEpX6YcJsi"
      },
      "outputs": [],
      "source": [
        "with open('/content/struct2prop/data/aunps_data.pkl', 'rb') as f:\n",
        "    dbedos = pickle.load(f)\n",
        "\n",
        "y  = tf.keras.preprocessing.sequence.pad_sequences(dbedos['y'],dtype='float64',padding= 'post')\n",
        "p = np.random.RandomState(seed=73).permutation(y.shape[0])\n",
        "n = len(p)\n",
        "trainidx = p[:int(n*0.8)]\n",
        "validx = p[int(n*0.8):int(n*0.9)]\n",
        "testidx = p[int(n*0.9):]\n",
        "\n",
        "x1v, x3v,ytrainv   =  x1[validx],  x3[validx],  y[validx]\n",
        "x1t,  x3t, ytrain =  x1[trainidx],x3[trainidx],y[trainidx]\n",
        "y2, y2v,y2s = dbedos['eFermi'][trainidx],dbedos['eFermi'][validx],dbedos['eFermi']"
      ],
      "id": "AgAEpX6YcJsi"
    },
    {
      "cell_type": "markdown",
      "metadata": {
        "id": "9W_HmiqsDXJf"
      },
      "source": [
        "# Model"
      ],
      "id": "9W_HmiqsDXJf"
    },
    {
      "cell_type": "code",
      "execution_count": 33,
      "metadata": {
        "colab": {
          "base_uri": "https://localhost:8080/"
        },
        "id": "8e79c14a",
        "outputId": "40a4102b-dc01-436f-f2c8-5a54c97f8cec"
      },
      "outputs": [
        {
          "output_type": "stream",
          "name": "stdout",
          "text": [
            "x1\n",
            "types\n",
            "x1_blstm\n",
            "element_embdgs\n"
          ]
        }
      ],
      "source": [
        "inputA = Input(shape=x1.shape[1:],name='x1')\n",
        "inputC = Input((config.MAX_LEN), dtype=tf.int32,name='types')\n",
        "outNeuronNum = ytrain.shape[1]\n",
        "inputD = Input(shape=outNeuronNum,)\n",
        "\n",
        "x = Bidirectional(LSTM(8,name='x1_lstm',return_sequences=True),name='x1_blstm')(inputA)\n",
        "x = Model(inputs=inputA, outputs=x)\n",
        "\n",
        "z =  Embedding(config.VOCAB_SIZE, config.EMBED_DIM, mask_zero=True,name=\"element_embdgs\")(inputC)\n",
        "z = Model(inputs=inputC, outputs=z)\n",
        "\n",
        "combined = Concatenate()([x.output,z.output])\n",
        "\n",
        "l = LSTM(128)(combined)\n",
        "\n",
        "e = Dense(outNeuronNum, activation=\"relu\",use_bias=True,name='out_edos')(l)\n",
        "f = Dense(1, activation=\"linear\",use_bias=True,name='out_ef')(l)\n",
        "model = Model(inputs=[x.input, z.input], outputs=[e,f])\n",
        "\n",
        "from tensorflow.keras.models import load_model\n",
        "pretrained_model = load_model('/content/struct2prop/models/embed_pdf_E_128.h5',custom_objects={\"MaskedLanguageModel\": MaskedLanguageModel})\n",
        "for layer in pretrained_model.layers:\n",
        "    try:\n",
        "        # selecting layer by name\n",
        "        model.get_layer(layer.name).set_weights(layer.get_weights())\n",
        "        model.get_layer(layer.name).trainable=False\n",
        "        print(layer.name)\n",
        "    except:\n",
        "        pass\n",
        "\n",
        "mname = mname+'_eDOS'\n"
      ],
      "id": "8e79c14a"
    },
    {
      "cell_type": "code",
      "execution_count": 34,
      "metadata": {
        "colab": {
          "base_uri": "https://localhost:8080/",
          "height": 533
        },
        "id": "b95d888d",
        "outputId": "e88fcef9-a734-4ba6-fb0a-8dd695f26514",
        "scrolled": true
      },
      "outputs": [
        {
          "output_type": "execute_result",
          "data": {
            "image/png": "[encoded data removed]",
            "text/plain": [
              "<IPython.core.display.Image object>"
            ]
          },
          "metadata": {},
          "execution_count": 34
        }
      ],
      "source": [
        "plot_model(model, show_shapes=True, show_layer_names=True,to_file=mname+\".png\")"
      ],
      "id": "b95d888d"
    },
    {
      "cell_type": "code",
      "execution_count": 35,
      "metadata": {
        "colab": {
          "base_uri": "https://localhost:8080/"
        },
        "id": "200d2033",
        "outputId": "333f12b9-2d03-49dd-c43b-e6be0503c942"
      },
      "outputs": [
        {
          "output_type": "stream",
          "name": "stdout",
          "text": [
            "Model: \"model_5\"\n",
            "__________________________________________________________________________________________________\n",
            " Layer (type)                   Output Shape         Param #     Connected to                     \n",
            "==================================================================================================\n",
            " x1 (InputLayer)                [(None, 1280, 100)]  0           []                               \n",
            "                                                                                                  \n",
            " types (InputLayer)             [(None, 1280)]       0           []                               \n",
            "                                                                                                  \n",
            " x1_blstm (Bidirectional)       (None, 1280, 16)     6976        ['x1[0][0]']                     \n",
            "                                                                                                  \n",
            " element_embdgs (Embedding)     (None, 1280, 128)    12032       ['types[0][0]']                  \n",
            "                                                                                                  \n",
            " concatenate_1 (Concatenate)    (None, 1280, 144)    0           ['x1_blstm[0][0]',               \n",
            "                                                                  'element_embdgs[0][0]']         \n",
            "                                                                                                  \n",
            " lstm_1 (LSTM)                  (None, 128)          139776      ['concatenate_1[0][0]']          \n",
            "                                                                                                  \n",
            " out_edos (Dense)               (None, 300)          38700       ['lstm_1[0][0]']                 \n",
            "                                                                                                  \n",
            " out_ef (Dense)                 (None, 1)            129         ['lstm_1[0][0]']                 \n",
            "                                                                                                  \n",
            "==================================================================================================\n",
            "Total params: 197,613\n",
            "Trainable params: 178,605\n",
            "Non-trainable params: 19,008\n",
            "__________________________________________________________________________________________________\n"
          ]
        }
      ],
      "source": [
        "model.summary()"
      ],
      "id": "200d2033"
    },
    {
      "cell_type": "code",
      "execution_count": 36,
      "metadata": {
        "id": "dc5dfdd1"
      },
      "outputs": [],
      "source": [
        "model.compile(loss ='mae',\n",
        "              optimizer= keras.optimizers.Adam(learning_rate=config.LR),\n",
        "              metrics='mse')"
      ],
      "id": "dc5dfdd1"
    },
    {
      "cell_type": "code",
      "execution_count": 59,
      "metadata": {
        "colab": {
          "base_uri": "https://localhost:8080/"
        },
        "id": "eeab9e7a",
        "outputId": "b0e110e7-07b2-4ba9-dc00-862ebe75418b"
      },
      "outputs": [
        {
          "output_type": "stream",
          "name": "stdout",
          "text": [
            "Epoch 1/50\n",
            "708/708 [==============================] - 29s 42ms/step - loss: 4.8826 - out_edos_loss: 4.7946 - out_ef_loss: 0.0880 - out_edos_mse: 153.2880 - out_ef_mse: 0.0152 - val_loss: 4.4807 - val_out_edos_loss: 4.3254 - val_out_ef_loss: 0.1553 - val_out_edos_mse: 178.5309 - val_out_ef_mse: 0.0317 - lr: 0.0010\n",
            "Epoch 2/50\n",
            "708/708 [==============================] - 29s 41ms/step - loss: 4.7554 - out_edos_loss: 4.6650 - out_ef_loss: 0.0904 - out_edos_mse: 159.5706 - out_ef_mse: 0.0161 - val_loss: 4.0790 - val_out_edos_loss: 3.9945 - val_out_ef_loss: 0.0845 - val_out_edos_mse: 138.2324 - val_out_ef_mse: 0.0121 - lr: 0.0010\n",
            "Epoch 3/50\n",
            "708/708 [==============================] - 29s 41ms/step - loss: 4.5934 - out_edos_loss: 4.5033 - out_ef_loss: 0.0901 - out_edos_mse: 130.9928 - out_ef_mse: 0.0152 - val_loss: 4.9288 - val_out_edos_loss: 4.8615 - val_out_ef_loss: 0.0673 - val_out_edos_mse: 190.7021 - val_out_ef_mse: 0.0085 - lr: 0.0010\n",
            "Epoch 4/50\n",
            "708/708 [==============================] - 32s 45ms/step - loss: 4.3905 - out_edos_loss: 4.2999 - out_ef_loss: 0.0907 - out_edos_mse: 111.1637 - out_ef_mse: 0.0160 - val_loss: 4.0064 - val_out_edos_loss: 3.9366 - val_out_ef_loss: 0.0698 - val_out_edos_mse: 132.0997 - val_out_ef_mse: 0.0092 - lr: 0.0010\n",
            "Epoch 5/50\n",
            "708/708 [==============================] - 29s 41ms/step - loss: 4.2986 - out_edos_loss: 4.2100 - out_ef_loss: 0.0886 - out_edos_mse: 109.1233 - out_ef_mse: 0.0151 - val_loss: 4.2714 - val_out_edos_loss: 4.1851 - val_out_ef_loss: 0.0863 - val_out_edos_mse: 133.7086 - val_out_ef_mse: 0.0122 - lr: 9.2000e-04\n",
            "Epoch 6/50\n",
            "708/708 [==============================] - 29s 42ms/step - loss: 4.8398 - out_edos_loss: 4.7501 - out_ef_loss: 0.0897 - out_edos_mse: 202.3894 - out_ef_mse: 0.0151 - val_loss: 4.9886 - val_out_edos_loss: 4.8992 - val_out_ef_loss: 0.0894 - val_out_edos_mse: 173.4400 - val_out_ef_mse: 0.0134 - lr: 9.2000e-04\n",
            "Epoch 7/50\n",
            "708/708 [==============================] - 29s 41ms/step - loss: 4.4147 - out_edos_loss: 4.3222 - out_ef_loss: 0.0925 - out_edos_mse: 121.2682 - out_ef_mse: 0.0165 - val_loss: 5.8961 - val_out_edos_loss: 5.7904 - val_out_ef_loss: 0.1057 - val_out_edos_mse: 224.1940 - val_out_ef_mse: 0.0158 - lr: 9.2000e-04\n",
            "Epoch 8/50\n",
            " 42/708 [>.............................] - ETA: 35s - loss: 6.7262 - out_edos_loss: 6.6108 - out_ef_loss: 0.1155 - out_edos_mse: 366.6268 - out_ef_mse: 0.0219\n",
            "Epoch 8: saving model to /content/struct2prop/modelsembed_aunps_E_128_eDOS_eDOS.h5\n",
            "708/708 [==============================] - 32s 45ms/step - loss: 4.3569 - out_edos_loss: 4.2662 - out_ef_loss: 0.0907 - out_edos_mse: 115.1035 - out_ef_mse: 0.0170 - val_loss: 3.9538 - val_out_edos_loss: 3.8837 - val_out_ef_loss: 0.0702 - val_out_edos_mse: 134.4674 - val_out_ef_mse: 0.0089 - lr: 9.2000e-04\n",
            "Epoch 9/50\n",
            "708/708 [==============================] - 29s 41ms/step - loss: 4.3113 - out_edos_loss: 4.2249 - out_ef_loss: 0.0864 - out_edos_mse: 112.0993 - out_ef_mse: 0.0155 - val_loss: 4.2866 - val_out_edos_loss: 4.2063 - val_out_ef_loss: 0.0803 - val_out_edos_mse: 141.3685 - val_out_ef_mse: 0.0105 - lr: 9.2000e-04\n",
            "Epoch 10/50\n",
            "708/708 [==============================] - 29s 41ms/step - loss: 4.4894 - out_edos_loss: 4.3972 - out_ef_loss: 0.0922 - out_edos_mse: 128.8004 - out_ef_mse: 0.0161 - val_loss: 4.1635 - val_out_edos_loss: 4.0750 - val_out_ef_loss: 0.0885 - val_out_edos_mse: 145.3145 - val_out_ef_mse: 0.0152 - lr: 8.4640e-04\n",
            "Epoch 11/50\n",
            "708/708 [==============================] - 32s 45ms/step - loss: 4.5575 - out_edos_loss: 4.4672 - out_ef_loss: 0.0903 - out_edos_mse: 136.3511 - out_ef_mse: 0.0161 - val_loss: 4.8251 - val_out_edos_loss: 4.7553 - val_out_ef_loss: 0.0698 - val_out_edos_mse: 173.4097 - val_out_ef_mse: 0.0084 - lr: 8.4640e-04\n",
            "Epoch 12/50\n",
            "708/708 [==============================] - 29s 41ms/step - loss: 4.2005 - out_edos_loss: 4.1133 - out_ef_loss: 0.0871 - out_edos_mse: 97.7884 - out_ef_mse: 0.0152 - val_loss: 4.3800 - val_out_edos_loss: 4.2971 - val_out_ef_loss: 0.0829 - val_out_edos_mse: 139.5179 - val_out_ef_mse: 0.0124 - lr: 8.4640e-04\n",
            "Epoch 13/50\n",
            "708/708 [==============================] - 29s 41ms/step - loss: 4.2889 - out_edos_loss: 4.2003 - out_ef_loss: 0.0886 - out_edos_mse: 107.8860 - out_ef_mse: 0.0150 - val_loss: 3.9822 - val_out_edos_loss: 3.8935 - val_out_ef_loss: 0.0887 - val_out_edos_mse: 131.6146 - val_out_ef_mse: 0.0121 - lr: 8.4640e-04\n",
            "Epoch 14/50\n",
            "708/708 [==============================] - 29s 41ms/step - loss: 4.4574 - out_edos_loss: 4.3671 - out_ef_loss: 0.0903 - out_edos_mse: 124.0775 - out_ef_mse: 0.0156 - val_loss: 3.9647 - val_out_edos_loss: 3.8953 - val_out_ef_loss: 0.0695 - val_out_edos_mse: 122.3854 - val_out_ef_mse: 0.0084 - lr: 8.4640e-04\n",
            "Epoch 15/50\n",
            " 86/708 [==>...........................] - ETA: 29s - loss: 3.8892 - out_edos_loss: 3.8027 - out_ef_loss: 0.0864 - out_edos_mse: 64.5794 - out_ef_mse: 0.0127\n",
            "Epoch 15: saving model to /content/struct2prop/modelsembed_aunps_E_128_eDOS_eDOS.h5\n",
            "708/708 [==============================] - 32s 45ms/step - loss: 4.1104 - out_edos_loss: 4.0284 - out_ef_loss: 0.0820 - out_edos_mse: 92.8162 - out_ef_mse: 0.0136 - val_loss: 4.0317 - val_out_edos_loss: 3.9629 - val_out_ef_loss: 0.0687 - val_out_edos_mse: 117.0458 - val_out_ef_mse: 0.0083 - lr: 7.7869e-04\n",
            "Epoch 16/50\n",
            "708/708 [==============================] - 29s 41ms/step - loss: 4.9384 - out_edos_loss: 4.8549 - out_ef_loss: 0.0835 - out_edos_mse: 186.7984 - out_ef_mse: 0.0139 - val_loss: 4.8656 - val_out_edos_loss: 4.8038 - val_out_ef_loss: 0.0618 - val_out_edos_mse: 136.1224 - val_out_ef_mse: 0.0073 - lr: 7.7869e-04\n",
            "Epoch 17/50\n",
            "708/708 [==============================] - 29s 41ms/step - loss: 4.0585 - out_edos_loss: 3.9658 - out_ef_loss: 0.0927 - out_edos_mse: 88.3451 - out_ef_mse: 0.0154 - val_loss: 4.0011 - val_out_edos_loss: 3.9225 - val_out_ef_loss: 0.0786 - val_out_edos_mse: 114.0408 - val_out_ef_mse: 0.0102 - lr: 7.7869e-04\n",
            "Epoch 18/50\n",
            "708/708 [==============================] - 32s 45ms/step - loss: 4.0365 - out_edos_loss: 3.9488 - out_ef_loss: 0.0877 - out_edos_mse: 87.1723 - out_ef_mse: 0.0153 - val_loss: 4.1448 - val_out_edos_loss: 4.0747 - val_out_ef_loss: 0.0701 - val_out_edos_mse: 120.2202 - val_out_ef_mse: 0.0088 - lr: 7.7869e-04\n",
            "Epoch 19/50\n",
            "708/708 [==============================] - 29s 41ms/step - loss: 4.5007 - out_edos_loss: 4.4156 - out_ef_loss: 0.0851 - out_edos_mse: 139.4172 - out_ef_mse: 0.0145 - val_loss: 4.5673 - val_out_edos_loss: 4.4898 - val_out_ef_loss: 0.0775 - val_out_edos_mse: 141.6886 - val_out_ef_mse: 0.0094 - lr: 7.7869e-04\n",
            "Epoch 20/50\n",
            "708/708 [==============================] - 29s 41ms/step - loss: 4.1937 - out_edos_loss: 4.1063 - out_ef_loss: 0.0874 - out_edos_mse: 115.4967 - out_ef_mse: 0.0153 - val_loss: 3.8243 - val_out_edos_loss: 3.7486 - val_out_ef_loss: 0.0757 - val_out_edos_mse: 110.5463 - val_out_ef_mse: 0.0092 - lr: 7.1639e-04\n",
            "Epoch 21/50\n",
            "708/708 [==============================] - 29s 41ms/step - loss: 4.0008 - out_edos_loss: 3.9144 - out_ef_loss: 0.0864 - out_edos_mse: 86.5876 - out_ef_mse: 0.0153 - val_loss: 4.1999 - val_out_edos_loss: 4.1302 - val_out_ef_loss: 0.0697 - val_out_edos_mse: 106.6120 - val_out_ef_mse: 0.0080 - lr: 7.1639e-04\n",
            "Epoch 22/50\n",
            "131/708 [====>.........................] - ETA: 24s - loss: 3.9700 - out_edos_loss: 3.8801 - out_ef_loss: 0.0900 - out_edos_mse: 68.9197 - out_ef_mse: 0.0167\n",
            "Epoch 22: saving model to /content/struct2prop/modelsembed_aunps_E_128_eDOS_eDOS.h5\n",
            "708/708 [==============================] - 33s 46ms/step - loss: 4.3515 - out_edos_loss: 4.2609 - out_ef_loss: 0.0906 - out_edos_mse: 127.7151 - out_ef_mse: 0.0153 - val_loss: 5.8577 - val_out_edos_loss: 5.7759 - val_out_ef_loss: 0.0818 - val_out_edos_mse: 262.6134 - val_out_ef_mse: 0.0111 - lr: 7.1639e-04\n",
            "Epoch 23/50\n",
            "708/708 [==============================] - 29s 41ms/step - loss: 4.1332 - out_edos_loss: 4.0517 - out_ef_loss: 0.0815 - out_edos_mse: 96.7474 - out_ef_mse: 0.0132 - val_loss: 3.8834 - val_out_edos_loss: 3.8162 - val_out_ef_loss: 0.0672 - val_out_edos_mse: 106.8806 - val_out_ef_mse: 0.0079 - lr: 7.1639e-04\n",
            "Epoch 24/50\n",
            "708/708 [==============================] - 29s 41ms/step - loss: 4.2042 - out_edos_loss: 4.1190 - out_ef_loss: 0.0853 - out_edos_mse: 96.1491 - out_ef_mse: 0.0142 - val_loss: 3.8812 - val_out_edos_loss: 3.8008 - val_out_ef_loss: 0.0804 - val_out_edos_mse: 106.9959 - val_out_ef_mse: 0.0101 - lr: 7.1639e-04\n",
            "Epoch 25/50\n",
            "708/708 [==============================] - 32s 45ms/step - loss: 3.9882 - out_edos_loss: 3.9044 - out_ef_loss: 0.0838 - out_edos_mse: 83.5761 - out_ef_mse: 0.0136 - val_loss: 4.3960 - val_out_edos_loss: 4.3278 - val_out_ef_loss: 0.0681 - val_out_edos_mse: 120.1518 - val_out_ef_mse: 0.0095 - lr: 6.5908e-04\n",
            "Epoch 26/50\n",
            "708/708 [==============================] - 29s 41ms/step - loss: 4.0141 - out_edos_loss: 3.9328 - out_ef_loss: 0.0812 - out_edos_mse: 85.4385 - out_ef_mse: 0.0133 - val_loss: 3.7849 - val_out_edos_loss: 3.7169 - val_out_ef_loss: 0.0680 - val_out_edos_mse: 99.9173 - val_out_ef_mse: 0.0079 - lr: 6.5908e-04\n",
            "Epoch 27/50\n",
            "708/708 [==============================] - 29s 41ms/step - loss: 3.9958 - out_edos_loss: 3.9146 - out_ef_loss: 0.0811 - out_edos_mse: 83.8937 - out_ef_mse: 0.0132 - val_loss: 3.8865 - val_out_edos_loss: 3.8119 - val_out_ef_loss: 0.0746 - val_out_edos_mse: 100.8866 - val_out_ef_mse: 0.0088 - lr: 6.5908e-04\n",
            "Epoch 28/50\n",
            "708/708 [==============================] - 29s 41ms/step - loss: 4.0926 - out_edos_loss: 4.0115 - out_ef_loss: 0.0811 - out_edos_mse: 87.7842 - out_ef_mse: 0.0132 - val_loss: 4.1393 - val_out_edos_loss: 4.0741 - val_out_ef_loss: 0.0652 - val_out_edos_mse: 109.5670 - val_out_ef_mse: 0.0080 - lr: 6.5908e-04\n",
            "Epoch 29/50\n",
            "174/708 [======>.......................] - ETA: 21s - loss: 3.9272 - out_edos_loss: 3.8484 - out_ef_loss: 0.0788 - out_edos_mse: 78.3717 - out_ef_mse: 0.0138\n",
            "Epoch 29: saving model to /content/struct2prop/modelsembed_aunps_E_128_eDOS_eDOS.h5\n",
            "708/708 [==============================] - 30s 42ms/step - loss: 4.0419 - out_edos_loss: 3.9629 - out_ef_loss: 0.0790 - out_edos_mse: 84.7516 - out_ef_mse: 0.0133 - val_loss: 4.1650 - val_out_edos_loss: 4.0801 - val_out_ef_loss: 0.0848 - val_out_edos_mse: 115.7845 - val_out_ef_mse: 0.0109 - lr: 6.5908e-04\n",
            "Epoch 30/50\n",
            "708/708 [==============================] - 29s 41ms/step - loss: 4.0712 - out_edos_loss: 3.9905 - out_ef_loss: 0.0807 - out_edos_mse: 89.4432 - out_ef_mse: 0.0131 - val_loss: 3.7372 - val_out_edos_loss: 3.6640 - val_out_ef_loss: 0.0732 - val_out_edos_mse: 91.3304 - val_out_ef_mse: 0.0086 - lr: 6.0636e-04\n",
            "Epoch 31/50\n",
            "708/708 [==============================] - 33s 47ms/step - loss: 3.9145 - out_edos_loss: 3.8339 - out_ef_loss: 0.0806 - out_edos_mse: 78.2269 - out_ef_mse: 0.0131 - val_loss: 3.7432 - val_out_edos_loss: 3.6637 - val_out_ef_loss: 0.0795 - val_out_edos_mse: 86.9525 - val_out_ef_mse: 0.0098 - lr: 6.0636e-04\n",
            "Epoch 32/50\n",
            "708/708 [==============================] - 30s 42ms/step - loss: 3.8889 - out_edos_loss: 3.8091 - out_ef_loss: 0.0799 - out_edos_mse: 76.9512 - out_ef_mse: 0.0126 - val_loss: 3.8487 - val_out_edos_loss: 3.7808 - val_out_ef_loss: 0.0679 - val_out_edos_mse: 97.9663 - val_out_ef_mse: 0.0084 - lr: 6.0636e-04\n",
            "Epoch 33/50\n",
            "708/708 [==============================] - 29s 41ms/step - loss: 4.0794 - out_edos_loss: 4.0005 - out_ef_loss: 0.0790 - out_edos_mse: 86.4143 - out_ef_mse: 0.0128 - val_loss: 3.8753 - val_out_edos_loss: 3.8011 - val_out_ef_loss: 0.0742 - val_out_edos_mse: 95.8895 - val_out_ef_mse: 0.0092 - lr: 6.0636e-04\n",
            "Epoch 34/50\n",
            "708/708 [==============================] - 29s 41ms/step - loss: 4.4333 - out_edos_loss: 4.3513 - out_ef_loss: 0.0820 - out_edos_mse: 163.2308 - out_ef_mse: 0.0137 - val_loss: 4.2469 - val_out_edos_loss: 4.1675 - val_out_ef_loss: 0.0794 - val_out_edos_mse: 200.0873 - val_out_ef_mse: 0.0102 - lr: 6.0636e-04\n",
            "Epoch 35/50\n",
            "708/708 [==============================] - 29s 41ms/step - loss: 4.2020 - out_edos_loss: 4.1187 - out_ef_loss: 0.0833 - out_edos_mse: 122.8858 - out_ef_mse: 0.0136 - val_loss: 4.1584 - val_out_edos_loss: 4.0878 - val_out_ef_loss: 0.0706 - val_out_edos_mse: 165.0986 - val_out_ef_mse: 0.0084 - lr: 5.5785e-04\n",
            "Epoch 36/50\n",
            "218/708 [========>.....................] - ETA: 19s - loss: 3.7421 - out_edos_loss: 3.6588 - out_ef_loss: 0.0833 - out_edos_mse: 66.9809 - out_ef_mse: 0.0138\n",
            "Epoch 36: saving model to /content/struct2prop/modelsembed_aunps_E_128_eDOS_eDOS.h5\n",
            "708/708 [==============================] - 32s 45ms/step - loss: 4.0381 - out_edos_loss: 3.9586 - out_ef_loss: 0.0795 - out_edos_mse: 108.8891 - out_ef_mse: 0.0127 - val_loss: 4.0668 - val_out_edos_loss: 3.9992 - val_out_ef_loss: 0.0676 - val_out_edos_mse: 155.3236 - val_out_ef_mse: 0.0087 - lr: 5.5785e-04\n",
            "Epoch 37/50\n",
            "708/708 [==============================] - 29s 41ms/step - loss: 4.2691 - out_edos_loss: 4.1884 - out_ef_loss: 0.0807 - out_edos_mse: 116.7107 - out_ef_mse: 0.0130 - val_loss: 4.2482 - val_out_edos_loss: 4.1637 - val_out_ef_loss: 0.0844 - val_out_edos_mse: 156.4131 - val_out_ef_mse: 0.0119 - lr: 5.5785e-04\n",
            "Epoch 38/50\n",
            "708/708 [==============================] - 29s 41ms/step - loss: 4.1303 - out_edos_loss: 4.0501 - out_ef_loss: 0.0802 - out_edos_mse: 103.7303 - out_ef_mse: 0.0131 - val_loss: 3.9765 - val_out_edos_loss: 3.9065 - val_out_ef_loss: 0.0700 - val_out_edos_mse: 135.2966 - val_out_ef_mse: 0.0090 - lr: 5.5785e-04\n",
            "Epoch 39/50\n",
            "708/708 [==============================] - 29s 41ms/step - loss: 3.9313 - out_edos_loss: 3.8506 - out_ef_loss: 0.0807 - out_edos_mse: 91.1066 - out_ef_mse: 0.0133 - val_loss: 4.1953 - val_out_edos_loss: 4.1310 - val_out_ef_loss: 0.0643 - val_out_edos_mse: 136.1603 - val_out_ef_mse: 0.0075 - lr: 5.5785e-04\n",
            "Epoch 40/50\n",
            "708/708 [==============================] - 32s 45ms/step - loss: 3.9738 - out_edos_loss: 3.8921 - out_ef_loss: 0.0817 - out_edos_mse: 93.1580 - out_ef_mse: 0.0137 - val_loss: 3.9265 - val_out_edos_loss: 3.8459 - val_out_ef_loss: 0.0807 - val_out_edos_mse: 124.9544 - val_out_ef_mse: 0.0107 - lr: 5.1322e-04\n",
            "Epoch 41/50\n",
            "708/708 [==============================] - 30s 42ms/step - loss: 3.9123 - out_edos_loss: 3.8314 - out_ef_loss: 0.0810 - out_edos_mse: 89.1632 - out_ef_mse: 0.0138 - val_loss: 4.2800 - val_out_edos_loss: 4.2034 - val_out_ef_loss: 0.0765 - val_out_edos_mse: 132.1564 - val_out_ef_mse: 0.0104 - lr: 5.1322e-04\n",
            "Epoch 42/50\n",
            "708/708 [==============================] - 29s 41ms/step - loss: 4.3130 - out_edos_loss: 4.2343 - out_ef_loss: 0.0786 - out_edos_mse: 127.4704 - out_ef_mse: 0.0121 - val_loss: 3.7701 - val_out_edos_loss: 3.6889 - val_out_ef_loss: 0.0813 - val_out_edos_mse: 98.0231 - val_out_ef_mse: 0.0102 - lr: 5.1322e-04\n",
            "Epoch 43/50\n",
            "263/708 [==========>...................] - ETA: 17s - loss: 4.9351 - out_edos_loss: 4.8558 - out_ef_loss: 0.0792 - out_edos_mse: 191.1584 - out_ef_mse: 0.0108\n",
            "Epoch 43: saving model to /content/struct2prop/modelsembed_aunps_E_128_eDOS_eDOS.h5\n",
            "708/708 [==============================] - 32s 45ms/step - loss: 4.2192 - out_edos_loss: 4.1382 - out_ef_loss: 0.0810 - out_edos_mse: 119.5463 - out_ef_mse: 0.0129 - val_loss: 3.7540 - val_out_edos_loss: 3.6826 - val_out_ef_loss: 0.0714 - val_out_edos_mse: 89.0461 - val_out_ef_mse: 0.0085 - lr: 5.1322e-04\n",
            "Epoch 44/50\n",
            "708/708 [==============================] - 30s 42ms/step - loss: 3.7737 - out_edos_loss: 3.6956 - out_ef_loss: 0.0780 - out_edos_mse: 68.5847 - out_ef_mse: 0.0125 - val_loss: 3.8482 - val_out_edos_loss: 3.7790 - val_out_ef_loss: 0.0691 - val_out_edos_mse: 98.5218 - val_out_ef_mse: 0.0086 - lr: 5.1322e-04\n",
            "Epoch 45/50\n",
            "708/708 [==============================] - 29s 42ms/step - loss: 4.0318 - out_edos_loss: 3.9529 - out_ef_loss: 0.0789 - out_edos_mse: 87.2163 - out_ef_mse: 0.0125 - val_loss: 3.7063 - val_out_edos_loss: 3.6368 - val_out_ef_loss: 0.0696 - val_out_edos_mse: 92.3230 - val_out_ef_mse: 0.0090 - lr: 4.7216e-04\n",
            "Epoch 46/50\n",
            "708/708 [==============================] - 32s 45ms/step - loss: 3.7432 - out_edos_loss: 3.6670 - out_ef_loss: 0.0762 - out_edos_mse: 69.8152 - out_ef_mse: 0.0122 - val_loss: 3.9379 - val_out_edos_loss: 3.8654 - val_out_ef_loss: 0.0725 - val_out_edos_mse: 83.9827 - val_out_ef_mse: 0.0089 - lr: 4.7216e-04\n",
            "Epoch 47/50\n",
            "708/708 [==============================] - 30s 42ms/step - loss: 4.1098 - out_edos_loss: 4.0337 - out_ef_loss: 0.0762 - out_edos_mse: 107.6756 - out_ef_mse: 0.0118 - val_loss: 5.1374 - val_out_edos_loss: 5.0519 - val_out_ef_loss: 0.0855 - val_out_edos_mse: 130.3708 - val_out_ef_mse: 0.0125 - lr: 4.7216e-04\n",
            "Epoch 48/50\n",
            "708/708 [==============================] - 29s 41ms/step - loss: 3.7762 - out_edos_loss: 3.6988 - out_ef_loss: 0.0774 - out_edos_mse: 67.6458 - out_ef_mse: 0.0121 - val_loss: 3.5436 - val_out_edos_loss: 3.4757 - val_out_ef_loss: 0.0679 - val_out_edos_mse: 69.7514 - val_out_ef_mse: 0.0088 - lr: 4.7216e-04\n",
            "Epoch 49/50\n",
            "708/708 [==============================] - 29s 41ms/step - loss: 3.7024 - out_edos_loss: 3.6241 - out_ef_loss: 0.0782 - out_edos_mse: 64.6851 - out_ef_mse: 0.0123 - val_loss: 3.5135 - val_out_edos_loss: 3.4381 - val_out_ef_loss: 0.0754 - val_out_edos_mse: 68.0548 - val_out_ef_mse: 0.0094 - lr: 4.7216e-04\n",
            "Epoch 50/50\n",
            "306/708 [===========>..................] - ETA: 15s - loss: 3.7362 - out_edos_loss: 3.6627 - out_ef_loss: 0.0735 - out_edos_mse: 64.1640 - out_ef_mse: 0.0105\n",
            "Epoch 50: saving model to /content/struct2prop/modelsembed_aunps_E_128_eDOS_eDOS.h5\n",
            "708/708 [==============================] - 30s 42ms/step - loss: 3.7365 - out_edos_loss: 3.6591 - out_ef_loss: 0.0775 - out_edos_mse: 65.1651 - out_ef_mse: 0.0117 - val_loss: 3.5808 - val_out_edos_loss: 3.5147 - val_out_ef_loss: 0.0660 - val_out_edos_mse: 68.9326 - val_out_ef_mse: 0.0076 - lr: 4.3439e-04\n"
          ]
        }
      ],
      "source": [
        "def scheduler(epoch):\n",
        "    initial_lrate = config.LR\n",
        "    drop = 0.92\n",
        "    epochs_drop = 5\n",
        "    lr = initial_lrate * np.power(drop, np.floor((1+epoch)/epochs_drop))\n",
        "    if lr<0.0001:\n",
        "        lr = 0.0001\n",
        "    return lr\n",
        "\n",
        "epochs=50*config.BATCH_SIZE\n",
        "initEp=0\n",
        "csv_logger = tf.keras.callbacks.CSVLogger(mname+\"_log.csv\", append=True)\n",
        "earlyStopping= tf.keras.callbacks.EarlyStopping(monitor='loss', patience=50, min_delta=0.01)\n",
        "checkpoint = tf.keras.callbacks.ModelCheckpoint(mname+\".h5\",verbose=2,monitor='val_loss', mode='min',save_freq=5000)\n",
        "callbacks_list = [checkpoint,csv_logger,earlyStopping,tf.keras.callbacks.LearningRateScheduler(scheduler)]\n",
        "for _ in range(50):\n",
        "  hist = model.fit(x=[x1t,x3t],y = [ytrain,y2],validation_data = ([x1v, x3v],[ytrainv,y2v]),\n",
        "                   initial_epoch = initEp, epochs = epochs,batch_size = config.BATCH_SIZE,callbacks = callbacks_list, verbose=1)\n",
        "  initEp=initEp+epochs\n",
        "\n",
        "model.save(mname+\".h5\")"
      ],
      "id": "eeab9e7a"
    },
    {
      "cell_type": "code",
      "execution_count": 1,
      "metadata": {
        "id": "tOD3G1MydgQK"
      },
      "outputs": [],
      "source": [
        "preds = model.predict([x1,x3],batch_size = 256)"
      ],
      "id": "tOD3G1MydgQK"
    },
    {
      "cell_type": "code",
      "execution_count": 52,
      "metadata": {
        "id": "-hpwJOEldhhP"
      },
      "outputs": [],
      "source": [
        "dbresults={}\n",
        "dbresults['x4'] = dbedos['x4']\n",
        "dbresults['y'] = dbedos['y']\n",
        "dbresults['preds'] = preds[0]\n",
        "dbresults['train_idx'] = trainidx\n",
        "dbresults['validate_idx'] = validx \n",
        "dbresults['test_idx'] = testidx\n",
        "dbresults['formula'] = dbedos['formula']\n",
        "dbresults['ids'] = dbedos['ids']"
      ],
      "id": "-hpwJOEldhhP"
    },
    {
      "cell_type": "code",
      "execution_count": 53,
      "metadata": {
        "id": "Lqu47dYFdm5C",
        "colab": {
          "base_uri": "https://localhost:8080/"
        },
        "outputId": "14b3ffb1-c0df-4171-e1ac-ed0b7791b89e"
      },
      "outputs": [
        {
          "output_type": "stream",
          "name": "stdout",
          "text": [
            "172.62077648212133 4.730371829013624\n"
          ]
        }
      ],
      "source": [
        "from sklearn.metrics import mean_squared_error,mean_absolute_error,median_absolute_error\n",
        "ytest    = dbresults['y'][testidx]\n",
        "x4test      = dbresults['x4']\n",
        "predtest = dbresults['preds'][testidx]\n",
        "msev = np.asarray([mean_squared_error(i,j) for i,j in zip(ytest,predtest)])\n",
        "maev = np.asarray([mean_absolute_error(i,j) for i,j in zip(ytest,predtest)])\n",
        "mseV=np.mean(msev)\n",
        "maeV=np.mean(maev)\n",
        "print(mseV,maeV)"
      ],
      "id": "Lqu47dYFdm5C"
    },
    {
      "cell_type": "code",
      "execution_count": 58,
      "metadata": {
        "id": "Hl6wdkaBeupH",
        "colab": {
          "base_uri": "https://localhost:8080/",
          "height": 489
        },
        "outputId": "2c77a11a-327e-4a18-de13-d7216eb863d6"
      },
      "outputs": [
        {
          "output_type": "stream",
          "name": "stdout",
          "text": [
            "mean_squared_error:  11.768180144833046\n",
            "mean_absolute_error:  2.144794054100545\n"
          ]
        },
        {
          "output_type": "display_data",
          "data": {
            "text/plain": [
              "<Figure size 640x480 with 1 Axes>"
            ],
            "image/png": "[encoded data removed]"
          },
          "metadata": {}
        }
      ],
      "source": [
        "p = np.random.permutation(np.where(msev>0)[0])\n",
        "ind=np.random.randint(len(msev))\n",
        "ft=[formula[i] for i in testidx]\n",
        "y_true = ytest[ind]\n",
        "y_pred = predtest[ind]\n",
        "plt.plot(x4test,y_true,'royalblue',label='original',alpha=0.8)\n",
        "plt.plot(x4test,y_pred,'orange',label='predicted')\n",
        "plt.title(ft[ind], fontsize=16)\n",
        "print('mean_squared_error: ',mean_squared_error(y_true,y_pred))\n",
        "print('mean_absolute_error: ',mean_absolute_error(y_true,y_pred))\n",
        "plt.legend();"
      ],
      "id": "Hl6wdkaBeupH"
    },
    {
      "cell_type": "code",
      "execution_count": null,
      "metadata": {
        "id": "Q9qxu5qRe7e9"
      },
      "outputs": [],
      "source": [],
      "id": "Q9qxu5qRe7e9"
    }
  ],
  "metadata": {
    "accelerator": "GPU",
    "colab": {
      "provenance": [],
      "include_colab_link": true
    },
    "gpuClass": "standard",
    "kernelspec": {
      "display_name": "Python 3 (ipykernel)",
      "language": "python",
      "name": "python3"
    },
    "language_info": {
      "codemirror_mode": {
        "name": "ipython",
        "version": 3
      },
      "file_extension": ".py",
      "mimetype": "text/x-python",
      "name": "python",
      "nbconvert_exporter": "python",
      "pygments_lexer": "ipython3",
      "version": "3.8.10"
    }
  },
  "nbformat": 4,
  "nbformat_minor": 5
}