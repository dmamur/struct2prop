{
  "cells": [
    {
      "cell_type": "code",
      "execution_count": null,
      "id": "a7b1fb1b",
      "metadata": {
        "id": "a7b1fb1b",
        "scrolled": true
      },
      "outputs": [],
      "source": [
        "import pickle\n",
        "import random\n",
        "import numpy as np\n",
        "import pandas as pd\n",
        "import numpy as np\n",
        "import tensorflow as tf\n",
        "from tensorflow import keras\n",
        "from keras import layers\n",
        "from keras.models import Sequential\n",
        "from keras.layers import Embedding,Dense,Dropout,Input,Concatenate,Conv1D,Flatten,MaxPooling1D,LSTM,Masking,Reshape\n",
        "from keras.layers import Conv2D,MaxPooling2D,Bidirectional\n",
        "from keras.utils import np_utils\n",
        "import matplotlib.pyplot as plt\n",
        "from keras.models import Model\n",
        "from keras.utils.vis_utils import plot_model\n",
        "from sklearn.preprocessing import MinMaxScaler\n",
        "from sklearn.manifold import TSNE\n",
        "import keras.backend as K\n",
        "import re, glob,os\n",
        "from collections import defaultdict\n",
        "import tensorflow as tf\n",
        "\n",
        "def custom_standardization(input_data):\n",
        "    lowercase = tf.strings.lower(input_data)\n",
        "    stripped_html = tf.strings.regex_replace(lowercase, \"<br />\", \" \")\n",
        "    return tf.strings.regex_replace(\n",
        "        stripped_html, \"[%s]\" % re.escape(\"!#$%&'()*+,-./:;<=>?@\\^_`{|}~\"), \"\"\n",
        "    )\n",
        "\n",
        "def get_vectorize_layer(texts, vocab_size, max_seq, special_tokens=[\"[MASK]\"]):\n",
        "    \"\"\"Build Text vectorization layer\n",
        "\n",
        "    Args:\n",
        "      texts (list): List of string i.e input texts\n",
        "      vocab_size (int): vocab size\n",
        "      max_seq (int): Maximum sequence lenght.\n",
        "      special_tokens (list, optional): List of special tokens. Defaults to ['[MASK]'].\n",
        "\n",
        "    Returns:\n",
        "        layers.Layer: Return TextVectorization Keras Layer\n",
        "    \"\"\"\n",
        "    vectorize_layer = TextVectorization(\n",
        "        max_tokens=vocab_size,\n",
        "        output_mode=\"int\",\n",
        "        standardize=custom_standardization,\n",
        "        output_sequence_length=max_seq,\n",
        "    )\n",
        "    vectorize_layer.adapt(texts)\n",
        "\n",
        "    # Insert mask token in vocabulary\n",
        "    vocab = vectorize_layer.get_vocabulary()\n",
        "    vocab = vocab[2 : vocab_size - len(special_tokens)] + [\"[mask]\"]\n",
        "    vectorize_layer.set_vocabulary(vocab)\n",
        "    return vectorize_layer\n",
        "\n",
        "def encode(texts):\n",
        "    encoded_texts = vectorize_layer(texts)\n",
        "    return encoded_texts.numpy()\n",
        "\n",
        "def get_masked_input_and_labels(encoded_texts):\n",
        "    # 20% BERT masking\n",
        "    inp_mask = np.random.rand(*encoded_texts.shape) < 0.2\n",
        "    # Do not mask special tokens\n",
        "    inp_mask[encoded_texts <= 3] = False\n",
        "    # Set targets to -1 by default, it means ignore\n",
        "    labels = -1 * np.ones(encoded_texts.shape, dtype=int)\n",
        "    # Set labels for masked tokens\n",
        "    labels[inp_mask] = encoded_texts[inp_mask]\n",
        "\n",
        "    # Prepare input\n",
        "    encoded_texts_masked = np.copy(encoded_texts)\n",
        "    # Set input to [MASK] which is the last token for the 90% of tokens\n",
        "    # This means leaving 10% unchanged\n",
        "    inp_mask_2mask = inp_mask & (np.random.rand(*encoded_texts.shape) < 0.90)\n",
        "    encoded_texts_masked[\n",
        "        inp_mask_2mask\n",
        "    ] = mask_token_id  # mask token is the last in the dict\n",
        "\n",
        "    # Set 10% to a random token\n",
        "    inp_mask_2random = inp_mask_2mask & (np.random.rand(*encoded_texts.shape) < 1 / 9)\n",
        "    encoded_texts_masked[inp_mask_2random] = np.random.randint(\n",
        "        3, mask_token_id, inp_mask_2random.sum()\n",
        "    )\n",
        "\n",
        "    # Prepare sample_weights to pass to .fit() method\n",
        "    sample_weights = np.ones(labels.shape)\n",
        "    sample_weights[labels == -1] = 0\n",
        "\n",
        "    # y_labels would be same as encoded_texts i.e input tokens\n",
        "    y_labels = np.copy(encoded_texts)\n",
        "\n",
        "    return encoded_texts_masked, y_labels, sample_weights\n",
        "\n",
        "def bert_module(query, key, value, i):\n",
        "    # Multi headed self-attention\n",
        "    attention_output = layers.MultiHeadAttention(\n",
        "        num_heads=config.NUM_HEAD,\n",
        "        key_dim=config.EMBED_DIM // config.NUM_HEAD,\n",
        "        name=\"encoder_{}/multiheadattention\".format(i),\n",
        "    )(query, key, value)\n",
        "    attention_output = layers.Dropout(0.1, name=\"encoder_{}/att_dropout\".format(i))(\n",
        "        attention_output\n",
        "    )\n",
        "    attention_output = layers.LayerNormalization(\n",
        "        epsilon=1e-6, name=\"encoder_{}/att_layernormalization\".format(i)\n",
        "    )(query + attention_output)\n",
        "\n",
        "    # Feed-forward layer\n",
        "    ffn = keras.Sequential(\n",
        "        [\n",
        "            layers.Dense(config.FF_DIM, activation=\"relu\"),\n",
        "            layers.Dense(config.EMBED_DIM),\n",
        "        ],\n",
        "        name=\"encoder_{}/ffn\".format(i),\n",
        "    )\n",
        "    ffn_output = ffn(attention_output)\n",
        "    ffn_output = layers.Dropout(0.1, name=\"encoder_{}/ffn_dropout\".format(i))(\n",
        "        ffn_output\n",
        "    )\n",
        "    sequence_output = layers.LayerNormalization(\n",
        "        epsilon=1e-6, name=\"encoder_{}/ffn_layernormalization\".format(i)\n",
        "    )(attention_output + ffn_output)\n",
        "    return sequence_output\n",
        "\n",
        "\n",
        "def get_pos_encoding_matrix(max_len, d_emb):\n",
        "    pos_enc = np.array(\n",
        "        [\n",
        "            [pos / np.power(10000, 2 * (j // 2) / d_emb) for j in range(d_emb)]\n",
        "            if pos != 0\n",
        "            else np.zeros(d_emb)\n",
        "            for pos in range(max_len)\n",
        "        ]\n",
        "    )\n",
        "    pos_enc[1:, 0::2] = np.sin(pos_enc[1:, 0::2])  # dim 2i\n",
        "    pos_enc[1:, 1::2] = np.cos(pos_enc[1:, 1::2])  # dim 2i+1\n",
        "    return pos_enc\n",
        "\n",
        "\n",
        "loss_fn = keras.losses.SparseCategoricalCrossentropy(\n",
        "    reduction=tf.keras.losses.Reduction.NONE\n",
        ")\n",
        "loss_tracker = tf.keras.metrics.Mean(name=\"loss\")\n",
        "\n",
        "class MaskedLanguageModel(tf.keras.Model):\n",
        "    def train_step(self, inputs):\n",
        "        if len(inputs) == 3:\n",
        "            features, labels, sample_weight = inputs\n",
        "        else:\n",
        "            features, labels = inputs\n",
        "            sample_weight = None\n",
        "\n",
        "        with tf.GradientTape() as tape:\n",
        "            predictions = self(features, training=True)\n",
        "            loss = loss_fn(labels, predictions, sample_weight=sample_weight)\n",
        "\n",
        "        # Compute gradients\n",
        "        trainable_vars = self.trainable_variables\n",
        "        gradients = tape.gradient(loss, trainable_vars)\n",
        "\n",
        "        # Update weights\n",
        "        self.optimizer.apply_gradients(zip(gradients, trainable_vars))\n",
        "\n",
        "        # Compute our own metrics\n",
        "        loss_tracker.update_state(loss, sample_weight=sample_weight)\n",
        "\n",
        "        # Return a dict mapping metric names to current value\n",
        "        return {\"loss\": loss_tracker.result()}\n",
        "\n",
        "    @property\n",
        "    def metrics(self):\n",
        "        # We list our `Metric` objects here so that `reset_states()` can be\n",
        "        # called automatically at the start of each epoch\n",
        "        # or at the start of `evaluate()`.\n",
        "        # If you don't implement this property, you have to call\n",
        "        # `reset_states()` yourself at the time of your choosing.\n",
        "        return [loss_tracker]\n",
        "\n",
        "class MaskedTextGenerator(keras.callbacks.Callback):\n",
        "    def __init__(self, sample_tokens, top_k=5):\n",
        "        self.sample_tokens = sample_tokens\n",
        "        self.k = top_k\n",
        "\n",
        "    def decode(self, tokens):\n",
        "        return \" \".join([id2token[t] for t in tokens if t != 0])\n",
        "\n",
        "    def convert_ids_to_tokens(self, id):\n",
        "        return id2token[id]\n",
        "\n",
        "    def on_epoch_end(self, epoch, logs=None):\n",
        "        prediction = self.model.predict(self.sample_tokens)\n",
        "\n",
        "        masked_index = np.where(self.sample_tokens == mask_token_id)\n",
        "        masked_index = masked_index[1]\n",
        "        mask_prediction = prediction[0][masked_index]\n",
        "\n",
        "        top_indices = mask_prediction[0].argsort()[-self.k :][::-1]\n",
        "        values = mask_prediction[0][top_indices]\n",
        "\n",
        "        for i in range(len(top_indices)):\n",
        "            p = top_indices[i]\n",
        "            v = values[i]\n",
        "            tokens = np.copy(sample_tokens[0])\n",
        "            tokens[masked_index[0]] = p\n",
        "            result = {\n",
        "                \"input_text\": self.decode(sample_tokens[0].numpy()),\n",
        "                \"prediction\": self.decode(tokens),\n",
        "                \"probability\": v,\n",
        "                \"predicted mask token\": self.convert_ids_to_tokens(p),\n",
        "            }\n",
        "            pprint(result)\n",
        "def elemVectorize(inpt):\n",
        "    dat=np.zeros((len(inpt),config.MAX_LEN),dtype=int)\n",
        "    for i,j in enumerate(inpt):\n",
        "        if len(j)>=config.MAX_LEN:\n",
        "            rndN=np.random.randint(0,config.MAX_LEN-1)\n",
        "        elif len(j)<2:\n",
        "            rndN=0\n",
        "        else:\n",
        "            rndN=np.random.randint(0,len(j)-1)\n",
        "        for i0,j0 in enumerate(j[:config.MAX_LEN]):\n",
        "            dat[i,i0]=element2id.get(j0)\n",
        "        dat[i,rndN]=element2id.get('[MASK]')\n",
        "    return dat\n",
        "\n",
        "\n",
        "def unison_shuffled_copies(a,b,c):\n",
        "    assert len(a) == len(b)\n",
        "    anew, bnew, cnew =[], [], []\n",
        "    for i,j,k in zip(a,b,c):\n",
        "        p = np.random.permutation(i.shape[0])\n",
        "        anew.append(i[p])\n",
        "        bnew.append(j[p])\n",
        "        cnew.append(k[p])\n",
        "    return anew, bnew, cnew\n",
        "\n",
        "\n",
        "def decode(tokens):\n",
        "        return [id2element[t] for t in tokens if t != 0]\n",
        "\n",
        "def convert_ids_to_tokens(id):\n",
        "    return id2element[id]\n",
        "\n",
        "def norm(x_train0):\n",
        "    scaler = MinMaxScaler().fit(x_train0[np.any(x_train0, -1)])\n",
        "    x_train0[np.any(x_train0, -1)] = scaler.transform(x_train0[np.any(x_train0, -1)])\n",
        "    return x_train0\n",
        "def storePickle(data,names,fname):\n",
        "    db = {}\n",
        "    for i,j in zip(data,names):\n",
        "        db[j] = i\n",
        "    with open(fname, 'wb') as dbfile:\n",
        "        pickle.dump(db, dbfile)\n",
        "    return db\n",
        "\n",
        "def loadData(fname,printkeys='y'):\n",
        "    # for reading also binary mode is important\n",
        "    dbfile = open(fname, 'rb')     \n",
        "    db = pickle.load(dbfile)\n",
        "    if printkeys=='y':\n",
        "        for keys in db:\n",
        "            print(keys)\n",
        "    return db\n",
        "\n",
        "def sortElements(types):\n",
        "    deco = sorted([(tag, i) for i, tag in enumerate(types)])\n",
        "    indices = [i for tag, i in deco]\n",
        "    return indices\n",
        "\n",
        "def sortData(types,x1,x2):\n",
        "    inds = [sortElements(i) for i in types]\n",
        "    types0=[]\n",
        "    for i,j in enumerate(types):\n",
        "        if isinstance(j, pd.Series):\n",
        "            j1 = j.to_list()\n",
        "            types0.append([j1[k] for k in inds[i]])\n",
        "        else:\n",
        "            types0.append([j[k] for k in inds[i]])            \n",
        "    #types = [j[inds[i]] for i,j in enumerate(types)]\n",
        "    x01 = [j[inds[i]] for i,j in enumerate(x1)]\n",
        "    x02 = [j[inds[i]] for i,j in enumerate(x2)]\n",
        "    return types0,x01,x02\n",
        "\n",
        "def preprocElements(types):\n",
        "    '''\n",
        "    Nb0+      ---> Nb\n",
        "    Nb3+      ---> Nb3+\n",
        "    Nb4.875+  ---> Nb4+\n",
        "    \n",
        "    '''\n",
        "    for i,j in enumerate(types):\n",
        "        if '.' in j:\n",
        "            oxold = re.findall(\"\\d+\\.\\d+\", types[i])[0]\n",
        "            oxnew = round(float(oxold))\n",
        "            if oxnew==0:\n",
        "                types[i]=j.replace(oxold,'').replace('+','').replace('-','')\n",
        "            else:\n",
        "                types[i]=j.replace(oxold,str(oxnew))\n",
        "        elif '0+' in j: #('0+' in j) | ('+' in j):\n",
        "            types[i] = j.replace('0+','')\n",
        "        elif '0-' in j: #('0+' in j) | ('+' in j):\n",
        "            types[i] = j.replace('0-','')\n",
        "    return types\n",
        "def createTrainData(typesC,racsfC,aacsfC,element2id,MAX_LEN):\n",
        "    typesF, dat0, dat1 = typesC,racsfC,aacsfC\n",
        "    check=[]\n",
        "    typesNumerical=[]\n",
        "    for i in typesF:\n",
        "        typesNumerical.append([element2id[j] for j in i])\n",
        "    x0 = tf.keras.preprocessing.sequence.pad_sequences(dat0,dtype='float64',padding= 'post',maxlen=MAX_LEN )\n",
        "    x1 = tf.keras.preprocessing.sequence.pad_sequences(dat1,dtype='float64',padding= 'post',maxlen=MAX_LEN )\n",
        "    y = tf.keras.preprocessing.sequence.pad_sequences(typesNumerical,dtype='int64',padding= 'post',maxlen=MAX_LEN)\n",
        "    x_masked_train, y_masked_labels, sample_weights = get_masked_input_and_labels(y)\n",
        "    return x0,x1,x_masked_train, y_masked_labels, sample_weights\n",
        "\n"
      ]
    },
    {
      "cell_type": "code",
      "execution_count": null,
      "id": "278a24c1",
      "metadata": {
        "colab": {
          "base_uri": "https://localhost:8080/"
        },
        "id": "278a24c1",
        "outputId": "ae69be09-0ade-4cdc-8ec3-86c8769adb7e"
      },
      "outputs": [
        {
          "output_type": "stream",
          "name": "stdout",
          "text": [
            "Drive already mounted at /content/gdrive; to attempt to forcibly remount, call drive.mount(\"/content/gdrive\", force_remount=True).\n"
          ]
        }
      ],
      "source": [
        "from google.colab import drive\n",
        "drive.mount('/content/gdrive')"
      ]
    },
    {
      "cell_type": "code",
      "execution_count": null,
      "id": "2c15c928",
      "metadata": {
        "id": "2c15c928"
      },
      "outputs": [],
      "source": [
        "class Config:\n",
        "    MAX_LEN = 256\n",
        "    BATCH_SIZE = 64\n",
        "    LR = 0.001\n",
        "    VOCAB_SIZE = 128\n",
        "    EMBED_DIM = 128\n",
        "    NUM_HEAD = 4  # used in bert model\n",
        "    FF_DIM = 128  # used in bert model\n",
        "    NUM_LAYERS = 1\n",
        "    MNAME = 'embed_rdf_pretrain_'\n",
        "config = Config()\n",
        "path=\"/content/gdrive/MyDrive/e3nn/\"\n",
        "mname=path+config.MNAME+'E_'+str(config.EMBED_DIM)+'_H_'+str(config.NUM_HEAD)+'_L_'+str(config.NUM_LAYERS)\n",
        "tf.random.set_seed(42)"
      ]
    },
    {
      "cell_type": "code",
      "execution_count": null,
      "id": "878a06e0",
      "metadata": {
        "colab": {
          "base_uri": "https://localhost:8080/",
          "height": 35
        },
        "id": "878a06e0",
        "outputId": "e8c2dced-3906-403b-df34-75e7aaddedd3"
      },
      "outputs": [
        {
          "output_type": "execute_result",
          "data": {
            "text/plain": [
              "'/content/gdrive/MyDrive/e3nn/embed_rdf_pretrain_E_128_H_4_L_1'"
            ],
            "application/vnd.google.colaboratory.intrinsic+json": {
              "type": "string"
            }
          },
          "metadata": {},
          "execution_count": 4
        }
      ],
      "source": [
        "mname"
      ]
    },
    {
      "cell_type": "code",
      "source": [
        "!pip install ase"
      ],
      "metadata": {
        "colab": {
          "base_uri": "https://localhost:8080/"
        },
        "id": "YnU1NZY4GvMr",
        "outputId": "4798030e-6c9a-4ed9-fb18-9da0853c528b"
      },
      "id": "YnU1NZY4GvMr",
      "execution_count": null,
      "outputs": [
        {
          "output_type": "stream",
          "name": "stdout",
          "text": [
            "Looking in indexes: https://pypi.org/simple, https://us-python.pkg.dev/colab-wheels/public/simple/\n",
            "Requirement already satisfied: ase in /usr/local/lib/python3.8/dist-packages (3.22.1)\n",
            "Requirement already satisfied: scipy>=1.1.0 in /usr/local/lib/python3.8/dist-packages (from ase) (1.7.3)\n",
            "Requirement already satisfied: matplotlib>=3.1.0 in /usr/local/lib/python3.8/dist-packages (from ase) (3.2.2)\n",
            "Requirement already satisfied: numpy>=1.15.0 in /usr/local/lib/python3.8/dist-packages (from ase) (1.21.6)\n",
            "Requirement already satisfied: pyparsing!=2.0.4,!=2.1.2,!=2.1.6,>=2.0.1 in /usr/local/lib/python3.8/dist-packages (from matplotlib>=3.1.0->ase) (3.0.9)\n",
            "Requirement already satisfied: cycler>=0.10 in /usr/local/lib/python3.8/dist-packages (from matplotlib>=3.1.0->ase) (0.11.0)\n",
            "Requirement already satisfied: kiwisolver>=1.0.1 in /usr/local/lib/python3.8/dist-packages (from matplotlib>=3.1.0->ase) (1.4.4)\n",
            "Requirement already satisfied: python-dateutil>=2.1 in /usr/local/lib/python3.8/dist-packages (from matplotlib>=3.1.0->ase) (2.8.2)\n",
            "Requirement already satisfied: six>=1.5 in /usr/local/lib/python3.8/dist-packages (from python-dateutil>=2.1->matplotlib>=3.1.0->ase) (1.15.0)\n"
          ]
        }
      ]
    },
    {
      "cell_type": "markdown",
      "id": "86baf7df",
      "metadata": {
        "id": "86baf7df"
      },
      "source": [
        "# Load data from Pickle"
      ]
    },
    {
      "cell_type": "code",
      "execution_count": null,
      "id": "5fa12f0c",
      "metadata": {
        "id": "5fa12f0c",
        "colab": {
          "base_uri": "https://localhost:8080/"
        },
        "outputId": "aacdb638-c15e-46e9-a979-e0a75a0a1446"
      },
      "outputs": [
        {
          "output_type": "stream",
          "name": "stdout",
          "text": [
            "formula\n",
            "ids\n",
            "types\n",
            "xyz\n",
            "cell\n",
            "k2atoms\n"
          ]
        }
      ],
      "source": [
        "for fname in ['pymatgen_rdf_data.pkl']:\n",
        "    data_dict = loadData(path+fname,printkeys='y')"
      ]
    },
    {
      "cell_type": "code",
      "source": [
        "#types = [['[CLS]']+i+['[SEP]'] for i in data_dict['types']]\n",
        "#formula = data_dict['formula']\n",
        "#ids = data_dict['ids']\n",
        "#xyz = data_dict['xyz']\n",
        "#cell=data_dict['cell']\n",
        "#edos=data_dict['dos']\n",
        "#x1 = [np.vstack((np.ones(100),j,np.zeros(100))) for j in data_dict['k2atoms']]\n",
        "#x2 = [np.vstack((np.ones(100),j,np.zeros(100))) for j in data_dict['k3atoms']]\n"
      ],
      "metadata": {
        "id": "A5mfY4arGAZC"
      },
      "id": "A5mfY4arGAZC",
      "execution_count": null,
      "outputs": []
    },
    {
      "cell_type": "code",
      "execution_count": null,
      "id": "7e8954ed",
      "metadata": {
        "id": "7e8954ed"
      },
      "outputs": [],
      "source": [
        "# Load data for masked language model\n",
        "Vocab = sorted(list(set([j for i in data_dict['types'] for j in i]))) # uniqueTypes                    \n",
        "Vocab.insert(0,'[CLS]')                     \n",
        "Vocab.insert(0,'[SEP]')                         \n",
        "Vocab.insert(0,'[UNK]') \n",
        "Vocab.insert(0,'')      \n",
        "Vocab.append('[MASK]')  \n",
        "element2id = dict(zip(Vocab, np.arange(len(Vocab))))\n",
        "element2id = defaultdict(lambda: 1, element2id)\n",
        "id2element = {y: x for x, y in element2id.items()}\n",
        "len(Vocab)\n",
        "config.VOCAB_SIZE = len(element2id)\n",
        "mask_token_id = element2id['[MASK]']\n"
      ]
    },
    {
      "cell_type": "code",
      "source": [
        "config.VOCAB_SIZE"
      ],
      "metadata": {
        "colab": {
          "base_uri": "https://localhost:8080/"
        },
        "id": "t5SucbGOE-9y",
        "outputId": "db6b4dd3-b158-4542-f642-946935702c12"
      },
      "id": "t5SucbGOE-9y",
      "execution_count": null,
      "outputs": [
        {
          "output_type": "execute_result",
          "data": {
            "text/plain": [
              "93"
            ]
          },
          "metadata": {},
          "execution_count": 9
        }
      ]
    },
    {
      "cell_type": "code",
      "execution_count": null,
      "id": "ba8465c2",
      "metadata": {
        "id": "ba8465c2"
      },
      "outputs": [],
      "source": [
        "typesNumerical=[]\n",
        "for i in data_dict['types']:\n",
        "    typesNumerical.append([element2id[j] for j in i])\n",
        "\n",
        "x1 = tf.keras.preprocessing.sequence.pad_sequences(data_dict['k2atoms'],dtype='float32',padding= 'post',maxlen=config.MAX_LEN )\n",
        "#x2 = tf.keras.preprocessing.sequence.pad_sequences(x2,dtype='float32',padding= 'post',maxlen=config.MAX_LEN )\n",
        "x1[np.isnan(x1)]=0\n",
        "x3 = tf.keras.preprocessing.sequence.pad_sequences(typesNumerical,dtype='int32',padding= 'post',maxlen=config.MAX_LEN)\n",
        "x_masked_train, y_masked_labels, sample_weights = get_masked_input_and_labels(x3)"
      ]
    },
    {
      "cell_type": "code",
      "source": [
        "del data_dict"
      ],
      "metadata": {
        "id": "nRaXAT213_uB"
      },
      "id": "nRaXAT213_uB",
      "execution_count": null,
      "outputs": []
    },
    {
      "cell_type": "markdown",
      "id": "9W_HmiqsDXJf",
      "metadata": {
        "id": "9W_HmiqsDXJf"
      },
      "source": [
        "# Predict types\n",
        "I shall use x_train2 as y_train but after replacing 20% of atoms with 0"
      ]
    },
    {
      "cell_type": "code",
      "execution_count": null,
      "id": "c826bd9f",
      "metadata": {
        "id": "c826bd9f"
      },
      "outputs": [],
      "source": [
        "def create_masked_language_bert_model(inputs):\n",
        "    word_embeddings = layers.Embedding(config.VOCAB_SIZE, config.EMBED_DIM, mask_zero=True,name=\"element_embdgs\")(inputs)\n",
        "    position_embeddings = layers.Embedding(input_dim=config.MAX_LEN,output_dim=config.EMBED_DIM,\n",
        "                                           weights=[get_pos_encoding_matrix(config.MAX_LEN, config.EMBED_DIM)],\n",
        "                                           name=\"position_embedding\",)(tf.range(start=0, limit=config.MAX_LEN, delta=1))\n",
        "    embeddings = word_embeddings + position_embeddings\n",
        "    encoder_output = embeddings\n",
        "    for i in range(config.NUM_LAYERS):\n",
        "        encoder_output = bert_module(encoder_output, encoder_output, encoder_output, i)\n",
        "    #mlm_output = layers.Dense(config.VOCAB_SIZE, name=\"mlm_cls\", activation=\"softmax\")(encoder_output)\n",
        "    mlm_model = Model(inputs, encoder_output, name=\"masked_bert_model\")\n",
        "\n",
        "    return mlm_model"
      ]
    },
    {
      "cell_type": "code",
      "execution_count": null,
      "id": "8e79c14a",
      "metadata": {
        "id": "8e79c14a",
        "colab": {
          "base_uri": "https://localhost:8080/"
        },
        "outputId": "5e51662a-0b29-45e4-df9a-bf399ccaa687"
      },
      "outputs": [
        {
          "output_type": "stream",
          "name": "stdout",
          "text": [
            "x1\n",
            "masking\n",
            "types\n",
            "x1_blstm\n",
            "element_embdgs\n",
            "concatenate\n"
          ]
        }
      ],
      "source": [
        "inputA = Input(shape=x1.shape[1:],name='x1')\n",
        "#inputB = Input(shape=x2.shape[1:],name='x2')\n",
        "inputC = Input((config.MAX_LEN), dtype=tf.int32,name='types')\n",
        "outNeuronNum = 512\n",
        "inputD = Input(shape=outNeuronNum,)\n",
        "\n",
        "\n",
        "x = Masking(mask_value=0)(inputA)\n",
        "x = Bidirectional(LSTM(8,name='x1_lstm',return_sequences=True),name='x1_blstm')(x)\n",
        "x = Model(inputs=inputA, outputs=x)\n",
        "\n",
        "z =  layers.Embedding(config.VOCAB_SIZE, config.EMBED_DIM, mask_zero=True,name=\"element_embdgs\")(inputC)\n",
        "z = Model(inputs=inputC, outputs=z)\n",
        "\n",
        "d = Dense(config.MAX_LEN, activation=\"linear\",use_bias=True)(inputD)\n",
        "d = Reshape((config.MAX_LEN,1))(d)\n",
        "d = Dropout(0.1)(d)\n",
        "d = Model(inputs=inputD, outputs=d)\n",
        "\n",
        "combined = Concatenate()([x.output,z.output,d.output])\n",
        "\n",
        "l = LSTM(256)(combined)\n",
        "\n",
        "e = Dense(outNeuronNum, activation=\"relu\",use_bias=True,name='out_edos')(l)\n",
        "model = Model(inputs=[x.input, z.input, d.input], outputs=[e])\n",
        "\n",
        "from tensorflow.keras.models import load_model\n",
        "pretrained_model = load_model(mname+'.h5',custom_objects={\"MaskedLanguageModel\": MaskedLanguageModel})\n",
        "for layer in pretrained_model.layers:\n",
        "    try:\n",
        "        # selecting layer by name\n",
        "        model.get_layer(layer.name).set_weights(layer.get_weights())\n",
        "        model.get_layer(layer.name).trainable=False\n",
        "        print(layer.name)\n",
        "    except:\n",
        "        pass\n",
        "\n",
        "mname = mname+'_eDOS'\n"
      ]
    },
    {
      "cell_type": "code",
      "execution_count": null,
      "id": "b95d888d",
      "metadata": {
        "scrolled": true,
        "colab": {
          "base_uri": "https://localhost:8080/",
          "height": 754
        },
        "id": "b95d888d",
        "outputId": "e0c369f1-dc82-476a-c0a1-bcf58e05f7e8"
      },
      "outputs": [
        {
          "output_type": "execute_result",
          "data": {
            "image/png": "[encoded data removed]",
            "text/plain": [
              "<IPython.core.display.Image object>"
            ]
          },
          "metadata": {},
          "execution_count": 14
        }
      ],
      "source": [
        "plot_model(model, show_shapes=True, show_layer_names=True,to_file=mname+\".png\")"
      ]
    },
    {
      "cell_type": "code",
      "execution_count": null,
      "id": "200d2033",
      "metadata": {
        "colab": {
          "base_uri": "https://localhost:8080/"
        },
        "id": "200d2033",
        "outputId": "2ed5c6ee-0943-4b98-8f71-e1e2c48b984e"
      },
      "outputs": [
        {
          "output_type": "stream",
          "name": "stdout",
          "text": [
            "Model: \"model_3\"\n",
            "__________________________________________________________________________________________________\n",
            " Layer (type)                   Output Shape         Param #     Connected to                     \n",
            "==================================================================================================\n",
            " input_1 (InputLayer)           [(None, 512)]        0           []                               \n",
            "                                                                                                  \n",
            " x1 (InputLayer)                [(None, 128, 100)]   0           []                               \n",
            "                                                                                                  \n",
            " dense (Dense)                  (None, 128)          65664       ['input_1[0][0]']                \n",
            "                                                                                                  \n",
            " masking (Masking)              (None, 128, 100)     0           ['x1[0][0]']                     \n",
            "                                                                                                  \n",
            " types (InputLayer)             [(None, 128)]        0           []                               \n",
            "                                                                                                  \n",
            " reshape (Reshape)              (None, 128, 1)       0           ['dense[0][0]']                  \n",
            "                                                                                                  \n",
            " x1_blstm (Bidirectional)       (None, 128, 16)      6976        ['masking[0][0]']                \n",
            "                                                                                                  \n",
            " element_embdgs (Embedding)     (None, 128, 128)     11904       ['types[0][0]']                  \n",
            "                                                                                                  \n",
            " dropout (Dropout)              (None, 128, 1)       0           ['reshape[0][0]']                \n",
            "                                                                                                  \n",
            " concatenate (Concatenate)      (None, 128, 145)     0           ['x1_blstm[0][0]',               \n",
            "                                                                  'element_embdgs[0][0]',         \n",
            "                                                                  'dropout[0][0]']                \n",
            "                                                                                                  \n",
            " lstm (LSTM)                    (None, 256)          411648      ['concatenate[0][0]']            \n",
            "                                                                                                  \n",
            " out_edos (Dense)               (None, 512)          131584      ['lstm[0][0]']                   \n",
            "                                                                                                  \n",
            "==================================================================================================\n",
            "Total params: 627,776\n",
            "Trainable params: 608,896\n",
            "Non-trainable params: 18,880\n",
            "__________________________________________________________________________________________________\n"
          ]
        }
      ],
      "source": [
        "model.summary()"
      ]
    },
    {
      "cell_type": "code",
      "execution_count": null,
      "id": "dc5dfdd1",
      "metadata": {
        "id": "dc5dfdd1"
      },
      "outputs": [],
      "source": [
        "model.compile(loss ='mae',\n",
        "              optimizer= keras.optimizers.Adam(learning_rate=config.LR),\n",
        "              metrics='mse')\n",
        "#model.load_weights(mname+\".h5\")\n"
      ]
    },
    {
      "cell_type": "code",
      "source": [
        "with open(path+'edosdata.pkl', 'rb') as f:\n",
        "    dbedos = pickle.load(f)\n",
        "print(dbedos.keys())\n",
        "trainidx = dbedos['train_idx']\n",
        "validx   = dbedos['validate_idx']\n",
        "testidx  = dbedos['test_idx']\n",
        "\n",
        "x1v, x3v,x4v,ytrainv   =  x1[validx],  x3[validx],  dbedos['x4'][validx],  dbedos['y'][validx]\n",
        "x1t,  x3t, x4t, ytrain =  x1[trainidx],x3[trainidx],dbedos['x4'][trainidx],dbedos['y'][trainidx]\n"
      ],
      "metadata": {
        "colab": {
          "base_uri": "https://localhost:8080/"
        },
        "id": "dWGQJ_XU_nlG",
        "outputId": "301e26b2-f3e4-4c99-af9b-dcde5de1b749"
      },
      "id": "dWGQJ_XU_nlG",
      "execution_count": null,
      "outputs": [
        {
          "output_type": "stream",
          "name": "stdout",
          "text": [
            "dict_keys(['x4', 'y', 'yNorm', 'preds', 'predsy2', 'y2s', 'train_idx', 'validate_idx', 'test_idx', 'formula', 'ids', 'el2id'])\n"
          ]
        }
      ]
    },
    {
      "cell_type": "code",
      "execution_count": null,
      "id": "eeab9e7a",
      "metadata": {
        "id": "eeab9e7a",
        "colab": {
          "base_uri": "https://localhost:8080/",
          "height": 1000
        },
        "outputId": "531e8b85-f88e-4825-c7b6-391d8579c2e7"
      },
      "outputs": [
        {
          "output_type": "stream",
          "name": "stdout",
          "text": [
            "Epoch 1/256\n",
            "1098/1098 [==============================] - 34s 19ms/step - loss: 3.3589 - mse: 238.4566 - val_loss: 3.0410 - val_mse: 105.3432 - lr: 0.0010\n",
            "Epoch 2/256\n",
            "1098/1098 [==============================] - 17s 15ms/step - loss: 3.0058 - mse: 227.9142 - val_loss: 2.9021 - val_mse: 99.6736 - lr: 0.0010\n",
            "Epoch 3/256\n",
            "1098/1098 [==============================] - 17s 15ms/step - loss: 2.8716 - mse: 223.8671 - val_loss: 2.7841 - val_mse: 97.6706 - lr: 0.0010\n",
            "Epoch 4/256\n",
            "1098/1098 [==============================] - 19s 17ms/step - loss: 2.7974 - mse: 221.7084 - val_loss: 2.7350 - val_mse: 94.8445 - lr: 0.0010\n",
            "Epoch 5/256\n",
            " 605/1098 [===============>..............] - ETA: 7s - loss: 2.7600 - mse: 100.1686\n",
            "Epoch 5: saving model to /content/gdrive/MyDrive/e3nn/embed_rdf_pretrain_E_128_H_4_L_1_eDOS.h5\n",
            "1098/1098 [==============================] - 17s 16ms/step - loss: 2.7384 - mse: 220.0483 - val_loss: 2.6759 - val_mse: 93.2824 - lr: 0.0010\n",
            "Epoch 6/256\n",
            "1098/1098 [==============================] - 17s 15ms/step - loss: 2.6925 - mse: 218.8024 - val_loss: 2.6589 - val_mse: 92.3404 - lr: 0.0010\n",
            "Epoch 7/256\n",
            "1098/1098 [==============================] - 17s 15ms/step - loss: 2.6585 - mse: 217.7051 - val_loss: 2.6187 - val_mse: 91.0734 - lr: 0.0010\n",
            "Epoch 8/256\n",
            "1098/1098 [==============================] - 17s 15ms/step - loss: 2.6290 - mse: 216.9343 - val_loss: 2.6328 - val_mse: 90.8673 - lr: 0.0010\n",
            "Epoch 9/256\n",
            "1098/1098 [==============================] - 17s 15ms/step - loss: 2.6017 - mse: 216.0517 - val_loss: 2.5840 - val_mse: 90.0817 - lr: 0.0010\n",
            "Epoch 10/256\n",
            " 114/1098 [==>...........................] - ETA: 13s - loss: 2.5759 - mse: 1270.6254\n",
            "Epoch 10: saving model to /content/gdrive/MyDrive/e3nn/embed_rdf_pretrain_E_128_H_4_L_1_eDOS.h5\n",
            "1098/1098 [==============================] - 17s 16ms/step - loss: 2.5805 - mse: 215.5184 - val_loss: 2.5827 - val_mse: 89.0636 - lr: 0.0010\n",
            "Epoch 11/256\n",
            "1098/1098 [==============================] - 17s 15ms/step - loss: 2.5583 - mse: 214.7607 - val_loss: 2.5645 - val_mse: 89.5583 - lr: 0.0010\n",
            "Epoch 12/256\n",
            "1098/1098 [==============================] - 19s 17ms/step - loss: 2.5384 - mse: 214.1788 - val_loss: 2.5792 - val_mse: 88.6776 - lr: 0.0010\n",
            "Epoch 13/256\n",
            "1098/1098 [==============================] - 17s 15ms/step - loss: 2.5174 - mse: 213.4879 - val_loss: 2.5553 - val_mse: 88.1344 - lr: 0.0010\n",
            "Epoch 14/256\n",
            " 723/1098 [==================>...........] - ETA: 5s - loss: 2.5002 - mse: 275.0195\n",
            "Epoch 14: saving model to /content/gdrive/MyDrive/e3nn/embed_rdf_pretrain_E_128_H_4_L_1_eDOS.h5\n",
            "1098/1098 [==============================] - 18s 16ms/step - loss: 2.5020 - mse: 212.9714 - val_loss: 2.5231 - val_mse: 87.7627 - lr: 0.0010\n",
            "Epoch 15/256\n",
            "1098/1098 [==============================] - 17s 15ms/step - loss: 2.4886 - mse: 212.6792 - val_loss: 2.5281 - val_mse: 87.3184 - lr: 0.0010\n",
            "Epoch 16/256\n",
            "1098/1098 [==============================] - 17s 15ms/step - loss: 2.4763 - mse: 212.2330 - val_loss: 2.5403 - val_mse: 87.5777 - lr: 0.0010\n",
            "Epoch 17/256\n",
            "1098/1098 [==============================] - 18s 16ms/step - loss: 2.4591 - mse: 211.8790 - val_loss: 2.5399 - val_mse: 87.2297 - lr: 0.0010\n",
            "Epoch 18/256\n",
            "1098/1098 [==============================] - 18s 16ms/step - loss: 2.4432 - mse: 211.3548 - val_loss: 2.5019 - val_mse: 87.0208 - lr: 0.0010\n",
            "Epoch 19/256\n",
            " 232/1098 [=====>........................] - ETA: 13s - loss: 2.3999 - mse: 86.2240\n",
            "Epoch 19: saving model to /content/gdrive/MyDrive/e3nn/embed_rdf_pretrain_E_128_H_4_L_1_eDOS.h5\n",
            "1098/1098 [==============================] - 20s 18ms/step - loss: 2.4373 - mse: 211.1614 - val_loss: 2.5102 - val_mse: 86.6096 - lr: 0.0010\n",
            "Epoch 20/256\n",
            "1098/1098 [==============================] - 17s 15ms/step - loss: 2.4250 - mse: 210.7409 - val_loss: 2.5094 - val_mse: 86.1004 - lr: 0.0010\n",
            "Epoch 21/256\n",
            "1098/1098 [==============================] - 17s 16ms/step - loss: 2.4130 - mse: 210.4342 - val_loss: 2.4919 - val_mse: 86.5897 - lr: 0.0010\n",
            "Epoch 22/256\n",
            "1098/1098 [==============================] - 17s 16ms/step - loss: 2.4001 - mse: 210.0305 - val_loss: 2.5014 - val_mse: 86.4722 - lr: 0.0010\n",
            "Epoch 23/256\n",
            " 840/1098 [=====================>........] - ETA: 3s - loss: 2.3924 - mse: 88.4111\n",
            "Epoch 23: saving model to /content/gdrive/MyDrive/e3nn/embed_rdf_pretrain_E_128_H_4_L_1_eDOS.h5\n",
            "1098/1098 [==============================] - 18s 16ms/step - loss: 2.3954 - mse: 209.9528 - val_loss: 2.4981 - val_mse: 86.1699 - lr: 0.0010\n",
            "Epoch 24/256\n",
            "1098/1098 [==============================] - 17s 15ms/step - loss: 2.3830 - mse: 209.4065 - val_loss: 2.4883 - val_mse: 85.9066 - lr: 0.0010\n",
            "Epoch 25/256\n",
            "1098/1098 [==============================] - 17s 15ms/step - loss: 2.3666 - mse: 209.1009 - val_loss: 2.4848 - val_mse: 85.9914 - lr: 9.2000e-04\n",
            "Epoch 26/256\n",
            "1098/1098 [==============================] - 19s 17ms/step - loss: 2.3594 - mse: 208.7375 - val_loss: 2.4779 - val_mse: 86.3174 - lr: 9.2000e-04\n",
            "Epoch 27/256\n",
            "1098/1098 [==============================] - 17s 15ms/step - loss: 2.3460 - mse: 208.3991 - val_loss: 2.4920 - val_mse: 85.4464 - lr: 9.2000e-04\n",
            "Epoch 28/256\n",
            " 350/1098 [========>.....................] - ETA: 10s - loss: 2.3303 - mse: 465.2900\n",
            "Epoch 28: saving model to /content/gdrive/MyDrive/e3nn/embed_rdf_pretrain_E_128_H_4_L_1_eDOS.h5\n",
            "1098/1098 [==============================] - 18s 16ms/step - loss: 2.3389 - mse: 208.1772 - val_loss: 2.4995 - val_mse: 85.6973 - lr: 9.2000e-04\n",
            "Epoch 29/256\n",
            "1098/1098 [==============================] - 17s 16ms/step - loss: 2.3311 - mse: 207.9642 - val_loss: 2.4761 - val_mse: 85.5387 - lr: 9.2000e-04\n",
            "Epoch 30/256\n",
            "1098/1098 [==============================] - 17s 16ms/step - loss: 2.3271 - mse: 207.7964 - val_loss: 2.4718 - val_mse: 85.4370 - lr: 9.2000e-04\n",
            "Epoch 31/256\n",
            "1098/1098 [==============================] - 17s 16ms/step - loss: 2.3198 - mse: 207.5734 - val_loss: 2.4865 - val_mse: 85.4852 - lr: 9.2000e-04\n",
            "Epoch 32/256\n",
            " 961/1098 [=========================>....] - ETA: 1s - loss: 2.3072 - mse: 224.7278\n",
            "Epoch 32: saving model to /content/gdrive/MyDrive/e3nn/embed_rdf_pretrain_E_128_H_4_L_1_eDOS.h5\n",
            "1098/1098 [==============================] - 17s 16ms/step - loss: 2.3136 - mse: 207.3075 - val_loss: 2.4608 - val_mse: 85.5669 - lr: 9.2000e-04\n",
            "Epoch 33/256\n",
            "1098/1098 [==============================] - 19s 17ms/step - loss: 2.3069 - mse: 207.2896 - val_loss: 2.4530 - val_mse: 85.0134 - lr: 9.2000e-04\n",
            "Epoch 34/256\n",
            "1098/1098 [==============================] - 17s 15ms/step - loss: 2.2971 - mse: 206.8488 - val_loss: 2.4597 - val_mse: 84.8312 - lr: 9.2000e-04\n",
            "Epoch 35/256\n",
            "1098/1098 [==============================] - 17s 15ms/step - loss: 2.2925 - mse: 206.6854 - val_loss: 2.4747 - val_mse: 85.3129 - lr: 9.2000e-04\n",
            "Epoch 36/256\n",
            "1098/1098 [==============================] - 17s 16ms/step - loss: 2.2868 - mse: 206.4860 - val_loss: 2.4549 - val_mse: 84.8161 - lr: 9.2000e-04\n",
            "Epoch 37/256\n",
            " 470/1098 [===========>..................] - ETA: 9s - loss: 2.2752 - mse: 375.9581\n",
            "Epoch 37: saving model to /content/gdrive/MyDrive/e3nn/embed_rdf_pretrain_E_128_H_4_L_1_eDOS.h5\n",
            "1098/1098 [==============================] - 18s 16ms/step - loss: 2.2821 - mse: 206.4183 - val_loss: 2.4714 - val_mse: 85.0357 - lr: 9.2000e-04\n",
            "Epoch 38/256\n",
            "1098/1098 [==============================] - 17s 15ms/step - loss: 2.2724 - mse: 206.0134 - val_loss: 2.4630 - val_mse: 84.9108 - lr: 9.2000e-04\n",
            "Epoch 39/256\n",
            "1098/1098 [==============================] - 17s 15ms/step - loss: 2.2741 - mse: 206.0387 - val_loss: 2.4580 - val_mse: 85.0975 - lr: 9.2000e-04\n",
            "Epoch 40/256\n",
            "1098/1098 [==============================] - 17s 15ms/step - loss: 2.2603 - mse: 205.6654 - val_loss: 2.4752 - val_mse: 85.0374 - lr: 9.2000e-04\n",
            "Epoch 41/256\n",
            "1078/1098 [============================>.] - ETA: 0s - loss: 2.2582 - mse: 207.9939\n",
            "Epoch 41: saving model to /content/gdrive/MyDrive/e3nn/embed_rdf_pretrain_E_128_H_4_L_1_eDOS.h5\n",
            "1098/1098 [==============================] - 20s 18ms/step - loss: 2.2595 - mse: 205.5904 - val_loss: 2.5058 - val_mse: 85.4814 - lr: 9.2000e-04\n",
            "Epoch 42/256\n",
            "1098/1098 [==============================] - 17s 15ms/step - loss: 2.2520 - mse: 205.4005 - val_loss: 2.4545 - val_mse: 84.6356 - lr: 9.2000e-04\n",
            "Epoch 43/256\n",
            "1098/1098 [==============================] - 17s 15ms/step - loss: 2.2474 - mse: 205.1240 - val_loss: 2.4519 - val_mse: 84.4531 - lr: 9.2000e-04\n",
            "Epoch 44/256\n",
            "1098/1098 [==============================] - 17s 16ms/step - loss: 2.2403 - mse: 204.9349 - val_loss: 2.4623 - val_mse: 84.9626 - lr: 9.2000e-04\n",
            "Epoch 45/256\n",
            "1098/1098 [==============================] - 17s 15ms/step - loss: 2.2375 - mse: 204.8849 - val_loss: 2.4461 - val_mse: 84.6487 - lr: 9.2000e-04\n",
            "Epoch 46/256\n",
            " 589/1098 [===============>..............] - ETA: 7s - loss: 2.2487 - mse: 312.8271\n",
            "Epoch 46: saving model to /content/gdrive/MyDrive/e3nn/embed_rdf_pretrain_E_128_H_4_L_1_eDOS.h5\n",
            "1098/1098 [==============================] - 17s 16ms/step - loss: 2.2339 - mse: 204.6882 - val_loss: 2.4556 - val_mse: 84.3607 - lr: 9.2000e-04\n",
            "Epoch 47/256\n",
            "1098/1098 [==============================] - 17s 15ms/step - loss: 2.2310 - mse: 204.6980 - val_loss: 2.4610 - val_mse: 84.6477 - lr: 9.2000e-04\n",
            "Epoch 48/256\n",
            "1098/1098 [==============================] - 19s 17ms/step - loss: 2.2219 - mse: 204.4201 - val_loss: 2.4634 - val_mse: 84.7073 - lr: 9.2000e-04\n",
            "Epoch 49/256\n",
            "1098/1098 [==============================] - 17s 16ms/step - loss: 2.2181 - mse: 204.2293 - val_loss: 2.4569 - val_mse: 84.3415 - lr: 9.2000e-04\n",
            "Epoch 50/256\n",
            "1098/1098 [==============================] - 17s 16ms/step - loss: 2.2117 - mse: 204.2305 - val_loss: 2.4466 - val_mse: 84.3996 - lr: 8.4640e-04\n",
            "Epoch 51/256\n",
            "  98/1098 [=>............................] - ETA: 14s - loss: 2.2563 - mse: 78.7699\n",
            "Epoch 51: saving model to /content/gdrive/MyDrive/e3nn/embed_rdf_pretrain_E_128_H_4_L_1_eDOS.h5\n",
            "1098/1098 [==============================] - 18s 16ms/step - loss: 2.2016 - mse: 203.8412 - val_loss: 2.4582 - val_mse: 84.8204 - lr: 8.4640e-04\n",
            "Epoch 52/256\n",
            "1098/1098 [==============================] - 17s 15ms/step - loss: 2.1999 - mse: 203.7736 - val_loss: 2.4630 - val_mse: 84.0848 - lr: 8.4640e-04\n",
            "Epoch 53/256\n",
            "1098/1098 [==============================] - 17s 15ms/step - loss: 2.1949 - mse: 203.5856 - val_loss: 2.4635 - val_mse: 84.5942 - lr: 8.4640e-04\n",
            "Epoch 54/256\n",
            "1098/1098 [==============================] - 17s 16ms/step - loss: 2.1943 - mse: 203.5222 - val_loss: 2.4652 - val_mse: 84.6399 - lr: 8.4640e-04\n",
            "Epoch 55/256\n",
            " 705/1098 [==================>...........] - ETA: 6s - loss: 2.1762 - mse: 79.2916\n",
            "Epoch 55: saving model to /content/gdrive/MyDrive/e3nn/embed_rdf_pretrain_E_128_H_4_L_1_eDOS.h5\n",
            "1098/1098 [==============================] - 19s 17ms/step - loss: 2.1857 - mse: 203.2859 - val_loss: 2.4600 - val_mse: 84.3686 - lr: 8.4640e-04\n",
            "Epoch 56/256\n",
            "1098/1098 [==============================] - 17s 15ms/step - loss: 2.1841 - mse: 203.2429 - val_loss: 2.4761 - val_mse: 84.6970 - lr: 8.4640e-04\n",
            "Epoch 57/256\n",
            "1098/1098 [==============================] - 17s 15ms/step - loss: 2.1795 - mse: 203.1255 - val_loss: 2.4572 - val_mse: 84.7335 - lr: 8.4640e-04\n",
            "Epoch 58/256\n",
            "1098/1098 [==============================] - 17s 16ms/step - loss: 2.1757 - mse: 202.9825 - val_loss: 2.4676 - val_mse: 84.4334 - lr: 8.4640e-04\n",
            "Epoch 59/256\n",
            "1098/1098 [==============================] - 17s 16ms/step - loss: 2.1763 - mse: 202.9923 - val_loss: 2.4623 - val_mse: 84.2398 - lr: 8.4640e-04\n",
            "Epoch 60/256\n",
            " 216/1098 [====>.........................] - ETA: 12s - loss: 2.1405 - mse: 75.7972\n",
            "Epoch 60: saving model to /content/gdrive/MyDrive/e3nn/embed_rdf_pretrain_E_128_H_4_L_1_eDOS.h5\n",
            "1098/1098 [==============================] - 18s 16ms/step - loss: 2.1684 - mse: 202.7552 - val_loss: 2.4657 - val_mse: 84.1889 - lr: 8.4640e-04\n",
            "Epoch 61/256\n",
            "1098/1098 [==============================] - 17s 15ms/step - loss: 2.1714 - mse: 202.7514 - val_loss: 2.4560 - val_mse: 83.9265 - lr: 8.4640e-04\n",
            "Epoch 62/256\n",
            "1098/1098 [==============================] - 17s 16ms/step - loss: 2.1658 - mse: 202.6749 - val_loss: 2.4610 - val_mse: 84.5481 - lr: 8.4640e-04\n",
            "Epoch 63/256\n",
            "1098/1098 [==============================] - 19s 17ms/step - loss: 2.1603 - mse: 202.4789 - val_loss: 2.4704 - val_mse: 84.1579 - lr: 8.4640e-04\n",
            "Epoch 64/256\n",
            " 823/1098 [=====================>........] - ETA: 5s - loss: 2.1610 - mse: 243.0730\n",
            "Epoch 64: saving model to /content/gdrive/MyDrive/e3nn/embed_rdf_pretrain_E_128_H_4_L_1_eDOS.h5\n",
            "1098/1098 [==============================] - 23s 21ms/step - loss: 2.1580 - mse: 202.3629 - val_loss: 2.4659 - val_mse: 84.0966 - lr: 8.4640e-04\n",
            "Epoch 65/256\n",
            "1098/1098 [==============================] - 17s 16ms/step - loss: 2.1548 - mse: 202.2440 - val_loss: 2.4754 - val_mse: 84.8039 - lr: 8.4640e-04\n",
            "Epoch 66/256\n",
            "1098/1098 [==============================] - 17s 16ms/step - loss: 2.1524 - mse: 202.2011 - val_loss: 2.4633 - val_mse: 84.5683 - lr: 8.4640e-04\n",
            "Epoch 67/256\n",
            "1098/1098 [==============================] - 18s 16ms/step - loss: 2.1481 - mse: 202.0656 - val_loss: 2.4580 - val_mse: 83.9721 - lr: 8.4640e-04\n",
            "Epoch 68/256\n",
            "1098/1098 [==============================] - 18s 16ms/step - loss: 2.1444 - mse: 201.9450 - val_loss: 2.4798 - val_mse: 84.5109 - lr: 8.4640e-04\n",
            "Epoch 69/256\n",
            " 333/1098 [========>.....................] - ETA: 11s - loss: 2.1418 - mse: 84.4300\n",
            "Epoch 69: saving model to /content/gdrive/MyDrive/e3nn/embed_rdf_pretrain_E_128_H_4_L_1_eDOS.h5\n",
            "1098/1098 [==============================] - 18s 16ms/step - loss: 2.1465 - mse: 201.9095 - val_loss: 2.4711 - val_mse: 84.4986 - lr: 8.4640e-04\n",
            "Epoch 70/256\n",
            "1098/1098 [==============================] - 19s 17ms/step - loss: 2.1441 - mse: 201.8721 - val_loss: 2.4631 - val_mse: 84.5582 - lr: 8.4640e-04\n",
            "Epoch 71/256\n",
            "1098/1098 [==============================] - 17s 16ms/step - loss: 2.1411 - mse: 201.7317 - val_loss: 2.4787 - val_mse: 84.4970 - lr: 8.4640e-04\n",
            "Epoch 72/256\n",
            "1098/1098 [==============================] - 17s 16ms/step - loss: 2.1330 - mse: 201.5504 - val_loss: 2.4611 - val_mse: 84.3468 - lr: 8.4640e-04\n",
            "Epoch 73/256\n",
            " 942/1098 [========================>.....] - ETA: 2s - loss: 2.1330 - mse: 79.2325\n",
            "Epoch 73: saving model to /content/gdrive/MyDrive/e3nn/embed_rdf_pretrain_E_128_H_4_L_1_eDOS.h5\n",
            "1098/1098 [==============================] - 18s 16ms/step - loss: 2.1307 - mse: 201.5452 - val_loss: 2.4623 - val_mse: 84.0552 - lr: 8.4640e-04\n",
            "Epoch 74/256\n",
            "1098/1098 [==============================] - 17s 16ms/step - loss: 2.1294 - mse: 201.4718 - val_loss: 2.4608 - val_mse: 83.9919 - lr: 8.4640e-04\n",
            "Epoch 75/256\n",
            "1098/1098 [==============================] - 17s 16ms/step - loss: 2.1622 - mse: 202.0027 - val_loss: 2.4715 - val_mse: 84.3727 - lr: 7.7869e-04\n",
            "Epoch 76/256\n",
            "1098/1098 [==============================] - 17s 16ms/step - loss: 2.1366 - mse: 201.4498 - val_loss: 2.4646 - val_mse: 84.2096 - lr: 7.7869e-04\n",
            "Epoch 77/256\n",
            "1098/1098 [==============================] - 19s 18ms/step - loss: 2.1284 - mse: 201.2415 - val_loss: 2.4636 - val_mse: 83.7083 - lr: 7.7869e-04\n",
            "Epoch 78/256\n",
            " 450/1098 [===========>..................] - ETA: 9s - loss: 2.1193 - mse: 376.5541\n",
            "Epoch 78: saving model to /content/gdrive/MyDrive/e3nn/embed_rdf_pretrain_E_128_H_4_L_1_eDOS.h5\n",
            "1098/1098 [==============================] - 18s 16ms/step - loss: 2.1210 - mse: 201.1247 - val_loss: 2.4630 - val_mse: 84.2149 - lr: 7.7869e-04\n",
            "Epoch 79/256\n",
            "1098/1098 [==============================] - 17s 16ms/step - loss: 2.1133 - mse: 201.0237 - val_loss: 2.4702 - val_mse: 84.7012 - lr: 7.7869e-04\n",
            "Epoch 80/256\n",
            "1098/1098 [==============================] - 17s 16ms/step - loss: 2.1109 - mse: 200.9272 - val_loss: 2.4705 - val_mse: 84.2271 - lr: 7.7869e-04\n",
            "Epoch 81/256\n",
            "1098/1098 [==============================] - 17s 16ms/step - loss: 2.1090 - mse: 200.8701 - val_loss: 2.4716 - val_mse: 84.1623 - lr: 7.7869e-04\n",
            "Epoch 82/256\n",
            "1058/1098 [===========================>..] - ETA: 0s - loss: 2.1154 - mse: 206.1398\n",
            "Epoch 82: saving model to /content/gdrive/MyDrive/e3nn/embed_rdf_pretrain_E_128_H_4_L_1_eDOS.h5\n",
            "1098/1098 [==============================] - 18s 16ms/step - loss: 2.1138 - mse: 201.0794 - val_loss: 2.4811 - val_mse: 84.2228 - lr: 7.7869e-04\n",
            "Epoch 83/256\n",
            "1098/1098 [==============================] - 17s 16ms/step - loss: 2.1065 - mse: 200.8045 - val_loss: 2.4675 - val_mse: 83.9407 - lr: 7.7869e-04\n",
            "Epoch 84/256\n",
            "1098/1098 [==============================] - 19s 18ms/step - loss: 2.0956 - mse: 200.5500 - val_loss: 2.4680 - val_mse: 84.2769 - lr: 7.7869e-04\n",
            "Epoch 85/256\n",
            "1098/1098 [==============================] - 17s 16ms/step - loss: 2.1019 - mse: 200.6650 - val_loss: 2.4898 - val_mse: 84.4106 - lr: 7.7869e-04\n",
            "Epoch 86/256\n",
            "1098/1098 [==============================] - 17s 16ms/step - loss: 2.0996 - mse: 200.5798 - val_loss: 2.4684 - val_mse: 84.0294 - lr: 7.7869e-04\n",
            "Epoch 87/256\n",
            " 568/1098 [==============>...............] - ETA: 7s - loss: 2.0793 - mse: 78.1064\n",
            "Epoch 87: saving model to /content/gdrive/MyDrive/e3nn/embed_rdf_pretrain_E_128_H_4_L_1_eDOS.h5\n",
            "1098/1098 [==============================] - 18s 16ms/step - loss: 2.0982 - mse: 200.6183 - val_loss: 2.4610 - val_mse: 83.7645 - lr: 7.7869e-04\n",
            "Epoch 88/256\n",
            "1098/1098 [==============================] - 17s 16ms/step - loss: 2.0948 - mse: 200.5162 - val_loss: 2.4775 - val_mse: 83.9539 - lr: 7.7869e-04\n",
            "Epoch 89/256\n",
            "1098/1098 [==============================] - 17s 15ms/step - loss: 2.0875 - mse: 200.2688 - val_loss: 2.4675 - val_mse: 84.1463 - lr: 7.7869e-04\n",
            "Epoch 90/256\n",
            "1098/1098 [==============================] - 17s 16ms/step - loss: 2.0898 - mse: 200.3316 - val_loss: 2.4790 - val_mse: 84.3230 - lr: 7.7869e-04\n",
            "Epoch 91/256\n",
            "1098/1098 [==============================] - 19s 18ms/step - loss: 2.0917 - mse: 200.2961 - val_loss: 2.4708 - val_mse: 84.1577 - lr: 7.7869e-04\n",
            "Epoch 92/256\n",
            "  81/1098 [=>............................] - ETA: 14s - loss: 1.9901 - mse: 73.8107\n",
            "Epoch 92: saving model to /content/gdrive/MyDrive/e3nn/embed_rdf_pretrain_E_128_H_4_L_1_eDOS.h5\n",
            "1098/1098 [==============================] - 19s 17ms/step - loss: 2.0875 - mse: 200.2242 - val_loss: 2.4786 - val_mse: 84.3071 - lr: 7.7869e-04\n",
            "Epoch 93/256\n",
            "1098/1098 [==============================] - 17s 16ms/step - loss: 2.0889 - mse: 200.2650 - val_loss: 2.4681 - val_mse: 84.1967 - lr: 7.7869e-04\n",
            "Epoch 94/256\n",
            "1098/1098 [==============================] - 17s 16ms/step - loss: 2.0781 - mse: 199.9916 - val_loss: 2.4696 - val_mse: 83.9396 - lr: 7.7869e-04\n",
            "Epoch 95/256\n",
            "1098/1098 [==============================] - 17s 16ms/step - loss: 2.0809 - mse: 199.9808 - val_loss: 2.4775 - val_mse: 84.1362 - lr: 7.7869e-04\n",
            "Epoch 96/256\n",
            " 688/1098 [=================>............] - ETA: 5s - loss: 2.0792 - mse: 273.1245\n",
            "Epoch 96: saving model to /content/gdrive/MyDrive/e3nn/embed_rdf_pretrain_E_128_H_4_L_1_eDOS.h5\n",
            "1098/1098 [==============================] - 18s 16ms/step - loss: 2.0810 - mse: 200.0014 - val_loss: 2.4769 - val_mse: 84.2668 - lr: 7.7869e-04\n",
            "Epoch 97/256\n",
            "1098/1098 [==============================] - 17s 15ms/step - loss: 2.0798 - mse: 199.9563 - val_loss: 2.4736 - val_mse: 84.3442 - lr: 7.7869e-04\n",
            "Epoch 98/256\n",
            "1098/1098 [==============================] - 19s 17ms/step - loss: 2.0801 - mse: 199.9316 - val_loss: 2.4783 - val_mse: 84.1853 - lr: 7.7869e-04\n",
            "Epoch 99/256\n",
            "1098/1098 [==============================] - 17s 15ms/step - loss: 2.0736 - mse: 199.8332 - val_loss: 2.4694 - val_mse: 84.2571 - lr: 7.7869e-04\n",
            "Epoch 100/256\n",
            "1098/1098 [==============================] - 17s 15ms/step - loss: 2.0647 - mse: 199.6203 - val_loss: 2.4591 - val_mse: 83.9314 - lr: 7.1639e-04\n",
            "Epoch 101/256\n",
            " 197/1098 [====>.........................] - ETA: 12s - loss: 2.0604 - mse: 82.6189\n",
            "Epoch 101: saving model to /content/gdrive/MyDrive/e3nn/embed_rdf_pretrain_E_128_H_4_L_1_eDOS.h5\n",
            "1098/1098 [==============================] - 17s 16ms/step - loss: 2.0691 - mse: 199.7272 - val_loss: 2.4899 - val_mse: 84.4552 - lr: 7.1639e-04\n",
            "Epoch 102/256\n",
            "1098/1098 [==============================] - 17s 15ms/step - loss: 2.0609 - mse: 199.4981 - val_loss: 2.4632 - val_mse: 83.9268 - lr: 7.1639e-04\n",
            "Epoch 103/256\n",
            "1098/1098 [==============================] - 17s 15ms/step - loss: 2.0669 - mse: 199.6337 - val_loss: 2.4747 - val_mse: 84.1756 - lr: 7.1639e-04\n",
            "Epoch 104/256\n",
            "1098/1098 [==============================] - 17s 15ms/step - loss: 2.0640 - mse: 199.5157 - val_loss: 2.4759 - val_mse: 84.2281 - lr: 7.1639e-04\n",
            "Epoch 105/256\n",
            " 806/1098 [=====================>........] - ETA: 4s - loss: 2.0447 - mse: 78.3559\n",
            "Epoch 105: saving model to /content/gdrive/MyDrive/e3nn/embed_rdf_pretrain_E_128_H_4_L_1_eDOS.h5\n",
            "1098/1098 [==============================] - 19s 18ms/step - loss: 2.0543 - mse: 199.2650 - val_loss: 2.4751 - val_mse: 84.2747 - lr: 7.1639e-04\n",
            "Epoch 106/256\n",
            "1098/1098 [==============================] - 17s 15ms/step - loss: 2.0552 - mse: 199.3038 - val_loss: 2.4702 - val_mse: 83.7444 - lr: 7.1639e-04\n",
            "Epoch 107/256\n",
            "1098/1098 [==============================] - 17s 15ms/step - loss: 2.0552 - mse: 199.2828 - val_loss: 2.4821 - val_mse: 83.9225 - lr: 7.1639e-04\n",
            "Epoch 108/256\n",
            "1098/1098 [==============================] - 17s 15ms/step - loss: 2.0613 - mse: 199.4370 - val_loss: 2.4828 - val_mse: 84.3105 - lr: 7.1639e-04\n",
            "Epoch 109/256\n",
            "1098/1098 [==============================] - 17s 15ms/step - loss: 2.0520 - mse: 199.2570 - val_loss: 2.4682 - val_mse: 83.8067 - lr: 7.1639e-04\n",
            "Epoch 110/256\n",
            " 315/1098 [=======>......................] - ETA: 10s - loss: 2.0608 - mse: 77.9521\n",
            "Epoch 110: saving model to /content/gdrive/MyDrive/e3nn/embed_rdf_pretrain_E_128_H_4_L_1_eDOS.h5\n",
            "1098/1098 [==============================] - 17s 16ms/step - loss: 2.0506 - mse: 199.1920 - val_loss: 2.4771 - val_mse: 83.9664 - lr: 7.1639e-04\n",
            "Epoch 111/256\n",
            "1098/1098 [==============================] - 16s 15ms/step - loss: 2.0476 - mse: 199.0812 - val_loss: 2.4877 - val_mse: 84.2516 - lr: 7.1639e-04\n",
            "Epoch 112/256\n",
            "1098/1098 [==============================] - 17s 15ms/step - loss: 2.0490 - mse: 199.2245 - val_loss: 2.4871 - val_mse: 84.4311 - lr: 7.1639e-04\n",
            "Epoch 113/256\n",
            "1098/1098 [==============================] - 19s 17ms/step - loss: 2.0465 - mse: 199.0398 - val_loss: 2.4886 - val_mse: 84.1201 - lr: 7.1639e-04\n",
            "Epoch 114/256\n",
            " 923/1098 [========================>.....] - ETA: 2s - loss: 2.0477 - mse: 223.6885\n",
            "Epoch 114: saving model to /content/gdrive/MyDrive/e3nn/embed_rdf_pretrain_E_128_H_4_L_1_eDOS.h5\n",
            "1098/1098 [==============================] - 18s 16ms/step - loss: 2.0461 - mse: 199.0528 - val_loss: 2.4734 - val_mse: 84.0123 - lr: 7.1639e-04\n",
            "Epoch 115/256\n",
            "1098/1098 [==============================] - 24s 22ms/step - loss: 2.0459 - mse: 199.0544 - val_loss: 2.4782 - val_mse: 84.1584 - lr: 7.1639e-04\n",
            "Epoch 116/256\n",
            "1098/1098 [==============================] - 17s 15ms/step - loss: 2.0460 - mse: 198.9808 - val_loss: 2.4931 - val_mse: 84.3311 - lr: 7.1639e-04\n",
            "Epoch 117/256\n",
            "1098/1098 [==============================] - 17s 15ms/step - loss: 2.0404 - mse: 198.8278 - val_loss: 2.4881 - val_mse: 84.2755 - lr: 7.1639e-04\n",
            "Epoch 118/256\n",
            "1098/1098 [==============================] - 17s 15ms/step - loss: 2.0379 - mse: 198.8165 - val_loss: 2.4924 - val_mse: 84.0662 - lr: 7.1639e-04\n",
            "Epoch 119/256\n",
            " 434/1098 [==========>...................] - ETA: 9s - loss: 2.0571 - mse: 78.3582\n",
            "Epoch 119: saving model to /content/gdrive/MyDrive/e3nn/embed_rdf_pretrain_E_128_H_4_L_1_eDOS.h5\n",
            "1098/1098 [==============================] - 19s 17ms/step - loss: 2.0423 - mse: 198.8837 - val_loss: 2.4860 - val_mse: 84.2585 - lr: 7.1639e-04\n",
            "Epoch 120/256\n",
            "1098/1098 [==============================] - 19s 17ms/step - loss: 2.0393 - mse: 198.8345 - val_loss: 2.4865 - val_mse: 84.1681 - lr: 7.1639e-04\n",
            "Epoch 121/256\n",
            "1098/1098 [==============================] - 17s 15ms/step - loss: 2.0444 - mse: 198.9624 - val_loss: 2.4935 - val_mse: 84.5152 - lr: 7.1639e-04\n",
            "Epoch 122/256\n",
            "1098/1098 [==============================] - 17s 16ms/step - loss: 2.0359 - mse: 198.7378 - val_loss: 2.4816 - val_mse: 84.1141 - lr: 7.1639e-04\n",
            "Epoch 123/256\n",
            "1040/1098 [===========================>..] - ETA: 0s - loss: 2.0312 - mse: 205.4615\n",
            "Epoch 123: saving model to /content/gdrive/MyDrive/e3nn/embed_rdf_pretrain_E_128_H_4_L_1_eDOS.h5\n",
            "1098/1098 [==============================] - 18s 16ms/step - loss: 2.0341 - mse: 198.6463 - val_loss: 2.4881 - val_mse: 84.3141 - lr: 7.1639e-04\n",
            "Epoch 124/256\n",
            "1098/1098 [==============================] - 17s 15ms/step - loss: 2.0368 - mse: 198.7625 - val_loss: 2.4936 - val_mse: 84.7917 - lr: 7.1639e-04\n",
            "Epoch 125/256\n",
            "1098/1098 [==============================] - 17s 15ms/step - loss: 2.0307 - mse: 198.5685 - val_loss: 2.4851 - val_mse: 84.2652 - lr: 6.5908e-04\n",
            "Epoch 126/256\n",
            "1098/1098 [==============================] - 17s 15ms/step - loss: 2.0210 - mse: 198.3453 - val_loss: 2.4781 - val_mse: 84.3320 - lr: 6.5908e-04\n",
            "Epoch 127/256\n",
            "1098/1098 [==============================] - 19s 17ms/step - loss: 2.0276 - mse: 198.4728 - val_loss: 2.4946 - val_mse: 84.4351 - lr: 6.5908e-04\n",
            "Epoch 128/256\n",
            " 553/1098 [==============>...............] - ETA: 8s - loss: 2.0237 - mse: 319.9171\n",
            "Epoch 128: saving model to /content/gdrive/MyDrive/e3nn/embed_rdf_pretrain_E_128_H_4_L_1_eDOS.h5\n",
            "1098/1098 [==============================] - 18s 17ms/step - loss: 2.0178 - mse: 198.2699 - val_loss: 2.4917 - val_mse: 84.3552 - lr: 6.5908e-04\n",
            "Epoch 129/256\n",
            "1098/1098 [==============================] - 17s 16ms/step - loss: 2.0220 - mse: 198.3354 - val_loss: 2.4911 - val_mse: 84.3017 - lr: 6.5908e-04\n",
            "Epoch 130/256\n",
            "1098/1098 [==============================] - 17s 16ms/step - loss: 2.0230 - mse: 198.4202 - val_loss: 2.4927 - val_mse: 84.2685 - lr: 6.5908e-04\n",
            "Epoch 131/256\n",
            "1098/1098 [==============================] - 17s 16ms/step - loss: 2.0186 - mse: 198.2676 - val_loss: 2.5048 - val_mse: 84.6006 - lr: 6.5908e-04\n",
            "Epoch 132/256\n",
            "1098/1098 [==============================] - 17s 16ms/step - loss: 2.0189 - mse: 198.2616 - val_loss: 2.5059 - val_mse: 84.1207 - lr: 6.5908e-04\n",
            "Epoch 133/256\n",
            "  63/1098 [>.............................] - ETA: 15s - loss: 2.0349 - mse: 76.6821\n",
            "Epoch 133: saving model to /content/gdrive/MyDrive/e3nn/embed_rdf_pretrain_E_128_H_4_L_1_eDOS.h5\n",
            "1098/1098 [==============================] - 18s 16ms/step - loss: 2.0154 - mse: 198.1644 - val_loss: 2.4897 - val_mse: 84.3043 - lr: 6.5908e-04\n",
            "Epoch 134/256\n",
            "1080/1098 [============================>.] - ETA: 0s - loss: 2.0163 - mse: 200.5057"
          ]
        },
        {
          "output_type": "error",
          "ename": "KeyboardInterrupt",
          "evalue": "ignored",
          "traceback": [
            "\u001b[0;31m---------------------------------------------------------------------------\u001b[0m",
            "\u001b[0;31mKeyboardInterrupt\u001b[0m                         Traceback (most recent call last)",
            "\u001b[0;32m<ipython-input-18-dca32e1cfd68>\u001b[0m in \u001b[0;36m<module>\u001b[0;34m\u001b[0m\n\u001b[1;32m     21\u001b[0m \u001b[0mcallbacks_list\u001b[0m \u001b[0;34m=\u001b[0m \u001b[0;34m[\u001b[0m\u001b[0mcheckpoint\u001b[0m\u001b[0;34m,\u001b[0m\u001b[0mcsv_logger\u001b[0m\u001b[0;34m,\u001b[0m\u001b[0mearlyStopping\u001b[0m\u001b[0;34m,\u001b[0m\u001b[0mtf\u001b[0m\u001b[0;34m.\u001b[0m\u001b[0mkeras\u001b[0m\u001b[0;34m.\u001b[0m\u001b[0mcallbacks\u001b[0m\u001b[0;34m.\u001b[0m\u001b[0mLearningRateScheduler\u001b[0m\u001b[0;34m(\u001b[0m\u001b[0mscheduler\u001b[0m\u001b[0;34m)\u001b[0m\u001b[0;34m]\u001b[0m\u001b[0;34m\u001b[0m\u001b[0;34m\u001b[0m\u001b[0m\n\u001b[1;32m     22\u001b[0m \u001b[0;34m\u001b[0m\u001b[0m\n\u001b[0;32m---> 23\u001b[0;31m hist = model.fit(x=[x1t,x3t,x4t],y = [ytrain],validation_data = ([x1v, x3v, x4v],[ytrainv]),\n\u001b[0m\u001b[1;32m     24\u001b[0m                  initial_epoch = initEp, epochs = epochs,batch_size = 32,callbacks = callbacks_list, verbose=1)\n",
            "\u001b[0;32m/usr/local/lib/python3.8/dist-packages/keras/utils/traceback_utils.py\u001b[0m in \u001b[0;36merror_handler\u001b[0;34m(*args, **kwargs)\u001b[0m\n\u001b[1;32m     62\u001b[0m     \u001b[0mfiltered_tb\u001b[0m \u001b[0;34m=\u001b[0m \u001b[0;32mNone\u001b[0m\u001b[0;34m\u001b[0m\u001b[0;34m\u001b[0m\u001b[0m\n\u001b[1;32m     63\u001b[0m     \u001b[0;32mtry\u001b[0m\u001b[0;34m:\u001b[0m\u001b[0;34m\u001b[0m\u001b[0;34m\u001b[0m\u001b[0m\n\u001b[0;32m---> 64\u001b[0;31m       \u001b[0;32mreturn\u001b[0m \u001b[0mfn\u001b[0m\u001b[0;34m(\u001b[0m\u001b[0;34m*\u001b[0m\u001b[0margs\u001b[0m\u001b[0;34m,\u001b[0m \u001b[0;34m**\u001b[0m\u001b[0mkwargs\u001b[0m\u001b[0;34m)\u001b[0m\u001b[0;34m\u001b[0m\u001b[0;34m\u001b[0m\u001b[0m\n\u001b[0m\u001b[1;32m     65\u001b[0m     \u001b[0;32mexcept\u001b[0m \u001b[0mException\u001b[0m \u001b[0;32mas\u001b[0m \u001b[0me\u001b[0m\u001b[0;34m:\u001b[0m  \u001b[0;31m# pylint: disable=broad-except\u001b[0m\u001b[0;34m\u001b[0m\u001b[0;34m\u001b[0m\u001b[0m\n\u001b[1;32m     66\u001b[0m       \u001b[0mfiltered_tb\u001b[0m \u001b[0;34m=\u001b[0m \u001b[0m_process_traceback_frames\u001b[0m\u001b[0;34m(\u001b[0m\u001b[0me\u001b[0m\u001b[0;34m.\u001b[0m\u001b[0m__traceback__\u001b[0m\u001b[0;34m)\u001b[0m\u001b[0;34m\u001b[0m\u001b[0;34m\u001b[0m\u001b[0m\n",
            "\u001b[0;32m/usr/local/lib/python3.8/dist-packages/keras/engine/training.py\u001b[0m in \u001b[0;36mfit\u001b[0;34m(self, x, y, batch_size, epochs, verbose, callbacks, validation_split, validation_data, shuffle, class_weight, sample_weight, initial_epoch, steps_per_epoch, validation_steps, validation_batch_size, validation_freq, max_queue_size, workers, use_multiprocessing)\u001b[0m\n\u001b[1;32m   1407\u001b[0m                 _r=1):\n\u001b[1;32m   1408\u001b[0m               \u001b[0mcallbacks\u001b[0m\u001b[0;34m.\u001b[0m\u001b[0mon_train_batch_begin\u001b[0m\u001b[0;34m(\u001b[0m\u001b[0mstep\u001b[0m\u001b[0;34m)\u001b[0m\u001b[0;34m\u001b[0m\u001b[0;34m\u001b[0m\u001b[0m\n\u001b[0;32m-> 1409\u001b[0;31m               \u001b[0mtmp_logs\u001b[0m \u001b[0;34m=\u001b[0m \u001b[0mself\u001b[0m\u001b[0;34m.\u001b[0m\u001b[0mtrain_function\u001b[0m\u001b[0;34m(\u001b[0m\u001b[0miterator\u001b[0m\u001b[0;34m)\u001b[0m\u001b[0;34m\u001b[0m\u001b[0;34m\u001b[0m\u001b[0m\n\u001b[0m\u001b[1;32m   1410\u001b[0m               \u001b[0;32mif\u001b[0m \u001b[0mdata_handler\u001b[0m\u001b[0;34m.\u001b[0m\u001b[0mshould_sync\u001b[0m\u001b[0;34m:\u001b[0m\u001b[0;34m\u001b[0m\u001b[0;34m\u001b[0m\u001b[0m\n\u001b[1;32m   1411\u001b[0m                 \u001b[0mcontext\u001b[0m\u001b[0;34m.\u001b[0m\u001b[0masync_wait\u001b[0m\u001b[0;34m(\u001b[0m\u001b[0;34m)\u001b[0m\u001b[0;34m\u001b[0m\u001b[0;34m\u001b[0m\u001b[0m\n",
            "\u001b[0;32m/usr/local/lib/python3.8/dist-packages/tensorflow/python/util/traceback_utils.py\u001b[0m in \u001b[0;36merror_handler\u001b[0;34m(*args, **kwargs)\u001b[0m\n\u001b[1;32m    148\u001b[0m     \u001b[0mfiltered_tb\u001b[0m \u001b[0;34m=\u001b[0m \u001b[0;32mNone\u001b[0m\u001b[0;34m\u001b[0m\u001b[0;34m\u001b[0m\u001b[0m\n\u001b[1;32m    149\u001b[0m     \u001b[0;32mtry\u001b[0m\u001b[0;34m:\u001b[0m\u001b[0;34m\u001b[0m\u001b[0;34m\u001b[0m\u001b[0m\n\u001b[0;32m--> 150\u001b[0;31m       \u001b[0;32mreturn\u001b[0m \u001b[0mfn\u001b[0m\u001b[0;34m(\u001b[0m\u001b[0;34m*\u001b[0m\u001b[0margs\u001b[0m\u001b[0;34m,\u001b[0m \u001b[0;34m**\u001b[0m\u001b[0mkwargs\u001b[0m\u001b[0;34m)\u001b[0m\u001b[0;34m\u001b[0m\u001b[0;34m\u001b[0m\u001b[0m\n\u001b[0m\u001b[1;32m    151\u001b[0m     \u001b[0;32mexcept\u001b[0m \u001b[0mException\u001b[0m \u001b[0;32mas\u001b[0m \u001b[0me\u001b[0m\u001b[0;34m:\u001b[0m\u001b[0;34m\u001b[0m\u001b[0;34m\u001b[0m\u001b[0m\n\u001b[1;32m    152\u001b[0m       \u001b[0mfiltered_tb\u001b[0m \u001b[0;34m=\u001b[0m \u001b[0m_process_traceback_frames\u001b[0m\u001b[0;34m(\u001b[0m\u001b[0me\u001b[0m\u001b[0;34m.\u001b[0m\u001b[0m__traceback__\u001b[0m\u001b[0;34m)\u001b[0m\u001b[0;34m\u001b[0m\u001b[0;34m\u001b[0m\u001b[0m\n",
            "\u001b[0;32m/usr/local/lib/python3.8/dist-packages/tensorflow/python/eager/def_function.py\u001b[0m in \u001b[0;36m__call__\u001b[0;34m(self, *args, **kwds)\u001b[0m\n\u001b[1;32m    913\u001b[0m \u001b[0;34m\u001b[0m\u001b[0m\n\u001b[1;32m    914\u001b[0m       \u001b[0;32mwith\u001b[0m \u001b[0mOptionalXlaContext\u001b[0m\u001b[0;34m(\u001b[0m\u001b[0mself\u001b[0m\u001b[0;34m.\u001b[0m\u001b[0m_jit_compile\u001b[0m\u001b[0;34m)\u001b[0m\u001b[0;34m:\u001b[0m\u001b[0;34m\u001b[0m\u001b[0;34m\u001b[0m\u001b[0m\n\u001b[0;32m--> 915\u001b[0;31m         \u001b[0mresult\u001b[0m \u001b[0;34m=\u001b[0m \u001b[0mself\u001b[0m\u001b[0;34m.\u001b[0m\u001b[0m_call\u001b[0m\u001b[0;34m(\u001b[0m\u001b[0;34m*\u001b[0m\u001b[0margs\u001b[0m\u001b[0;34m,\u001b[0m \u001b[0;34m**\u001b[0m\u001b[0mkwds\u001b[0m\u001b[0;34m)\u001b[0m\u001b[0;34m\u001b[0m\u001b[0;34m\u001b[0m\u001b[0m\n\u001b[0m\u001b[1;32m    916\u001b[0m \u001b[0;34m\u001b[0m\u001b[0m\n\u001b[1;32m    917\u001b[0m       \u001b[0mnew_tracing_count\u001b[0m \u001b[0;34m=\u001b[0m \u001b[0mself\u001b[0m\u001b[0;34m.\u001b[0m\u001b[0mexperimental_get_tracing_count\u001b[0m\u001b[0;34m(\u001b[0m\u001b[0;34m)\u001b[0m\u001b[0;34m\u001b[0m\u001b[0;34m\u001b[0m\u001b[0m\n",
            "\u001b[0;32m/usr/local/lib/python3.8/dist-packages/tensorflow/python/eager/def_function.py\u001b[0m in \u001b[0;36m_call\u001b[0;34m(self, *args, **kwds)\u001b[0m\n\u001b[1;32m    945\u001b[0m       \u001b[0;31m# In this case we have created variables on the first call, so we run the\u001b[0m\u001b[0;34m\u001b[0m\u001b[0;34m\u001b[0m\u001b[0;34m\u001b[0m\u001b[0m\n\u001b[1;32m    946\u001b[0m       \u001b[0;31m# defunned version which is guaranteed to never create variables.\u001b[0m\u001b[0;34m\u001b[0m\u001b[0;34m\u001b[0m\u001b[0;34m\u001b[0m\u001b[0m\n\u001b[0;32m--> 947\u001b[0;31m       \u001b[0;32mreturn\u001b[0m \u001b[0mself\u001b[0m\u001b[0;34m.\u001b[0m\u001b[0m_stateless_fn\u001b[0m\u001b[0;34m(\u001b[0m\u001b[0;34m*\u001b[0m\u001b[0margs\u001b[0m\u001b[0;34m,\u001b[0m \u001b[0;34m**\u001b[0m\u001b[0mkwds\u001b[0m\u001b[0;34m)\u001b[0m  \u001b[0;31m# pylint: disable=not-callable\u001b[0m\u001b[0;34m\u001b[0m\u001b[0;34m\u001b[0m\u001b[0m\n\u001b[0m\u001b[1;32m    948\u001b[0m     \u001b[0;32melif\u001b[0m \u001b[0mself\u001b[0m\u001b[0;34m.\u001b[0m\u001b[0m_stateful_fn\u001b[0m \u001b[0;32mis\u001b[0m \u001b[0;32mnot\u001b[0m \u001b[0;32mNone\u001b[0m\u001b[0;34m:\u001b[0m\u001b[0;34m\u001b[0m\u001b[0;34m\u001b[0m\u001b[0m\n\u001b[1;32m    949\u001b[0m       \u001b[0;31m# Release the lock early so that multiple threads can perform the call\u001b[0m\u001b[0;34m\u001b[0m\u001b[0;34m\u001b[0m\u001b[0;34m\u001b[0m\u001b[0m\n",
            "\u001b[0;32m/usr/local/lib/python3.8/dist-packages/tensorflow/python/eager/function.py\u001b[0m in \u001b[0;36m__call__\u001b[0;34m(self, *args, **kwargs)\u001b[0m\n\u001b[1;32m   2451\u001b[0m       (graph_function,\n\u001b[1;32m   2452\u001b[0m        filtered_flat_args) = self._maybe_define_function(args, kwargs)\n\u001b[0;32m-> 2453\u001b[0;31m     return graph_function._call_flat(\n\u001b[0m\u001b[1;32m   2454\u001b[0m         filtered_flat_args, captured_inputs=graph_function.captured_inputs)  # pylint: disable=protected-access\n\u001b[1;32m   2455\u001b[0m \u001b[0;34m\u001b[0m\u001b[0m\n",
            "\u001b[0;32m/usr/local/lib/python3.8/dist-packages/tensorflow/python/eager/function.py\u001b[0m in \u001b[0;36m_call_flat\u001b[0;34m(self, args, captured_inputs, cancellation_manager)\u001b[0m\n\u001b[1;32m   1858\u001b[0m         and executing_eagerly):\n\u001b[1;32m   1859\u001b[0m       \u001b[0;31m# No tape is watching; skip to running the function.\u001b[0m\u001b[0;34m\u001b[0m\u001b[0;34m\u001b[0m\u001b[0;34m\u001b[0m\u001b[0m\n\u001b[0;32m-> 1860\u001b[0;31m       return self._build_call_outputs(self._inference_function.call(\n\u001b[0m\u001b[1;32m   1861\u001b[0m           ctx, args, cancellation_manager=cancellation_manager))\n\u001b[1;32m   1862\u001b[0m     forward_backward = self._select_forward_and_backward_functions(\n",
            "\u001b[0;32m/usr/local/lib/python3.8/dist-packages/tensorflow/python/eager/function.py\u001b[0m in \u001b[0;36mcall\u001b[0;34m(self, ctx, args, cancellation_manager)\u001b[0m\n\u001b[1;32m    495\u001b[0m       \u001b[0;32mwith\u001b[0m \u001b[0m_InterpolateFunctionError\u001b[0m\u001b[0;34m(\u001b[0m\u001b[0mself\u001b[0m\u001b[0;34m)\u001b[0m\u001b[0;34m:\u001b[0m\u001b[0;34m\u001b[0m\u001b[0;34m\u001b[0m\u001b[0m\n\u001b[1;32m    496\u001b[0m         \u001b[0;32mif\u001b[0m \u001b[0mcancellation_manager\u001b[0m \u001b[0;32mis\u001b[0m \u001b[0;32mNone\u001b[0m\u001b[0;34m:\u001b[0m\u001b[0;34m\u001b[0m\u001b[0;34m\u001b[0m\u001b[0m\n\u001b[0;32m--> 497\u001b[0;31m           outputs = execute.execute(\n\u001b[0m\u001b[1;32m    498\u001b[0m               \u001b[0mstr\u001b[0m\u001b[0;34m(\u001b[0m\u001b[0mself\u001b[0m\u001b[0;34m.\u001b[0m\u001b[0msignature\u001b[0m\u001b[0;34m.\u001b[0m\u001b[0mname\u001b[0m\u001b[0;34m)\u001b[0m\u001b[0;34m,\u001b[0m\u001b[0;34m\u001b[0m\u001b[0;34m\u001b[0m\u001b[0m\n\u001b[1;32m    499\u001b[0m               \u001b[0mnum_outputs\u001b[0m\u001b[0;34m=\u001b[0m\u001b[0mself\u001b[0m\u001b[0;34m.\u001b[0m\u001b[0m_num_outputs\u001b[0m\u001b[0;34m,\u001b[0m\u001b[0;34m\u001b[0m\u001b[0;34m\u001b[0m\u001b[0m\n",
            "\u001b[0;32m/usr/local/lib/python3.8/dist-packages/tensorflow/python/eager/execute.py\u001b[0m in \u001b[0;36mquick_execute\u001b[0;34m(op_name, num_outputs, inputs, attrs, ctx, name)\u001b[0m\n\u001b[1;32m     52\u001b[0m   \u001b[0;32mtry\u001b[0m\u001b[0;34m:\u001b[0m\u001b[0;34m\u001b[0m\u001b[0;34m\u001b[0m\u001b[0m\n\u001b[1;32m     53\u001b[0m     \u001b[0mctx\u001b[0m\u001b[0;34m.\u001b[0m\u001b[0mensure_initialized\u001b[0m\u001b[0;34m(\u001b[0m\u001b[0;34m)\u001b[0m\u001b[0;34m\u001b[0m\u001b[0;34m\u001b[0m\u001b[0m\n\u001b[0;32m---> 54\u001b[0;31m     tensors = pywrap_tfe.TFE_Py_Execute(ctx._handle, device_name, op_name,\n\u001b[0m\u001b[1;32m     55\u001b[0m                                         inputs, attrs, num_outputs)\n\u001b[1;32m     56\u001b[0m   \u001b[0;32mexcept\u001b[0m \u001b[0mcore\u001b[0m\u001b[0;34m.\u001b[0m\u001b[0m_NotOkStatusException\u001b[0m \u001b[0;32mas\u001b[0m \u001b[0me\u001b[0m\u001b[0;34m:\u001b[0m\u001b[0;34m\u001b[0m\u001b[0;34m\u001b[0m\u001b[0m\n",
            "\u001b[0;31mKeyboardInterrupt\u001b[0m: "
          ]
        }
      ],
      "source": [
        "if os.path.isfile(mname+\"_log.csv\"):\n",
        "    df = pd.read_csv(mname+\"_log.csv\")\n",
        "    initEp = df['epoch'].to_numpy()[-1]+1\n",
        "    model.load_weights(mname+\".h5\")\n",
        "else:\n",
        "    initEp = 0\n",
        "\n",
        "def scheduler(epoch):\n",
        "    initial_lrate = config.LR\n",
        "    drop = 0.92\n",
        "    epochs_drop = 25\n",
        "    lr = initial_lrate * np.power(drop, np.floor((1+epoch)/epochs_drop))\n",
        "    if lr<0.0002:\n",
        "        lr = 0.0002\n",
        "    return lr\n",
        "\n",
        "epochs=4*config.BATCH_SIZE\n",
        "csv_logger = tf.keras.callbacks.CSVLogger(mname+\"_log.csv\", append=True)\n",
        "earlyStopping= tf.keras.callbacks.EarlyStopping(monitor='loss', patience=50, min_delta=0.01)\n",
        "checkpoint = tf.keras.callbacks.ModelCheckpoint(mname+\".h5\",verbose=2,monitor='val_loss', mode='min',save_freq=5000)\n",
        "callbacks_list = [checkpoint,csv_logger,earlyStopping,tf.keras.callbacks.LearningRateScheduler(scheduler)]\n",
        "\n",
        "hist = model.fit(x=[x1t,x3t,x4t],y = [ytrain],validation_data = ([x1v, x3v, x4v],[ytrainv]),\n",
        "                 initial_epoch = initEp, epochs = epochs,batch_size = 32,callbacks = callbacks_list, verbose=1)\n"
      ]
    },
    {
      "cell_type": "code",
      "source": [
        "model.load_weights(mname+\".h5\")\n",
        "preds = model.predict([x1,x3,dbedos['x4']],batch_size = 256)\n",
        "\n",
        "dbresults={}\n",
        "dbresults['x4'] = dbedos['x4']\n",
        "dbresults['y'] = dbedos['y']\n",
        "dbresults['preds'] = preds\n",
        "dbresults['train_idx'] = trainidx\n",
        "dbresults['validate_idx'] = validx \n",
        "dbresults['test_idx'] = testidx\n",
        "dbresults['formula'] = dbedos['formula']\n",
        "dbresults['ids'] = dbedos['ids']\n",
        "\n",
        "with open(mname+'_results.pkl', 'wb') as f:\n",
        "    pickle.dump(dbresults, f)\n"
      ],
      "metadata": {
        "colab": {
          "base_uri": "https://localhost:8080/"
        },
        "id": "BBTzMoSDBtg_",
        "outputId": "5337d645-268d-4728-ef22-fc744af6fe06"
      },
      "id": "BBTzMoSDBtg_",
      "execution_count": null,
      "outputs": [
        {
          "output_type": "stream",
          "name": "stdout",
          "text": [
            "221/221 [==============================] - 10s 20ms/step\n"
          ]
        }
      ]
    },
    {
      "cell_type": "code",
      "execution_count": null,
      "id": "07e3579a",
      "metadata": {
        "id": "07e3579a"
      },
      "outputs": [],
      "source": [
        "model.save(mname+\".h5\")"
      ]
    },
    {
      "cell_type": "code",
      "execution_count": null,
      "id": "2c9e8670",
      "metadata": {
        "id": "2c9e8670",
        "outputId": "f9f7796e-5604-42be-c6d4-643b5587c874",
        "colab": {
          "base_uri": "https://localhost:8080/",
          "height": 165
        }
      },
      "outputs": [
        {
          "output_type": "error",
          "ename": "NameError",
          "evalue": "ignored",
          "traceback": [
            "\u001b[0;31m---------------------------------------------------------------------------\u001b[0m",
            "\u001b[0;31mNameError\u001b[0m                                 Traceback (most recent call last)",
            "\u001b[0;32m<ipython-input-16-bff608b041e0>\u001b[0m in \u001b[0;36m<module>\u001b[0;34m\u001b[0m\n\u001b[0;32m----> 1\u001b[0;31m \u001b[0mplt\u001b[0m\u001b[0;34m.\u001b[0m\u001b[0mplot\u001b[0m\u001b[0;34m(\u001b[0m\u001b[0mhist\u001b[0m\u001b[0;34m.\u001b[0m\u001b[0mhistory\u001b[0m\u001b[0;34m[\u001b[0m\u001b[0;34m'loss'\u001b[0m\u001b[0;34m]\u001b[0m\u001b[0;34m,\u001b[0m\u001b[0mlinewidth\u001b[0m\u001b[0;34m=\u001b[0m\u001b[0;36m2\u001b[0m\u001b[0;34m)\u001b[0m\u001b[0;34m\u001b[0m\u001b[0;34m\u001b[0m\u001b[0m\n\u001b[0m",
            "\u001b[0;31mNameError\u001b[0m: name 'hist' is not defined"
          ]
        }
      ],
      "source": [
        "plt.plot(hist.history['loss'],linewidth=2)"
      ]
    },
    {
      "cell_type": "raw",
      "id": "aa2490d0",
      "metadata": {
        "id": "aa2490d0"
      },
      "source": [
        "%%time\n",
        "count=0\n",
        "num=100\n",
        "p = np.random.permutation(x_train0.shape[0])\n",
        "for i1 in p[:num]:\n",
        "    sample_tokens=elemVectorize(types[i1:i1+1])\n",
        "    prediction=model.predict([x_train0[i1:i1+1],x_train1[i1:i1+1],sample_tokens],verbose=0)\n",
        "    masked_index = np.where(sample_tokens == mask_token_id)\n",
        "    masked_index = masked_index[1]\n",
        "    mask_prediction = prediction[0][masked_index]\n",
        "    top_indice = mask_prediction[0].argsort()[-1:][::-1]\n",
        "    values = mask_prediction[0][top_indice]\n",
        "    count+=np.sum(convert_ids_to_tokens(top_indice[0])==types[i1][masked_index[0]])\n",
        "print('Score: ', count/num)"
      ]
    },
    {
      "cell_type": "code",
      "execution_count": null,
      "id": "f7ef2801",
      "metadata": {
        "id": "f7ef2801"
      },
      "outputs": [],
      "source": [
        "db_test = loadData('/mnt/c/Users/User/DataScience/chemML/mat2spec/mat2spec_ordered20k.pkl')\n",
        "x_train0_test,x_train1_test = norm(db_test['x1']),norm(db_test['x2'])\n",
        "types_test = db_test['types']"
      ]
    },
    {
      "cell_type": "code",
      "execution_count": null,
      "id": "076ab7d8",
      "metadata": {
        "id": "076ab7d8"
      },
      "outputs": [],
      "source": [
        "x_train0_test = tf.keras.preprocessing.sequence.pad_sequences(x_train0_test,dtype='float',padding= 'post',maxlen=config.MAX_LEN )\n",
        "x_train1_test = tf.keras.preprocessing.sequence.pad_sequences(x_train1_test,dtype='float',padding= 'post',maxlen=config.MAX_LEN )"
      ]
    },
    {
      "cell_type": "code",
      "execution_count": null,
      "id": "651be94c",
      "metadata": {
        "id": "651be94c"
      },
      "outputs": [],
      "source": [
        "%%time\n",
        "count_test=0\n",
        "num=1000\n",
        "p = np.random.permutation(x_train0_test.shape[0])\n",
        "correlation=np.zeros((2,num))\n",
        "for i0,i1 in enumerate(p[:num]):\n",
        "    sample_tokens=elemVectorize(types_test[i1:i1+1])\n",
        "    prediction=model.predict([x_train0_test[i1:i1+1],x_train1_test[i1:i1+1],sample_tokens],verbose=0)\n",
        "    masked_index = np.where(sample_tokens == mask_token_id)\n",
        "    masked_index = masked_index[1]\n",
        "    mask_prediction = prediction[0][masked_index]\n",
        "    top_indice = mask_prediction[0].argsort()[-1:][::-1]\n",
        "    values = mask_prediction[0][top_indice]\n",
        "    count_test+=np.sum(convert_ids_to_tokens(top_indice[0])==types_test[i1][masked_index[0]])\n",
        "    correlation[0,i0]=top_indice[0]\n",
        "    correlation[1,i0]=element2id[types_test[i1][masked_index[0]]]\n",
        "    #print(\"pred: \",convert_ids_to_tokens(top_indice[0]),\"orig: \",types_test[i1][masked_index[0]])\n",
        "print('Bidirectional_Score: ', count_test/num)"
      ]
    },
    {
      "cell_type": "code",
      "execution_count": null,
      "id": "bdaa3c04",
      "metadata": {
        "id": "bdaa3c04"
      },
      "outputs": [],
      "source": [
        "%%time\n",
        "count_test=0\n",
        "num=1000\n",
        "p = np.random.permutation(x_train0_test.shape[0])\n",
        "correlation=np.zeros((2,num))\n",
        "for i0,i1 in enumerate(p[:num]):\n",
        "    sample_tokens=elemVectorize(types_test[i1:i1+1])\n",
        "    prediction=model.predict([x_train0_test[i1:i1+1],x_train1_test[i1:i1+1],sample_tokens],verbose=0)\n",
        "    masked_index = np.where(sample_tokens == mask_token_id)\n",
        "    masked_index = masked_index[1]\n",
        "    mask_prediction = prediction[0][masked_index]\n",
        "    top_indice = mask_prediction[0].argsort()[-1:][::-1]\n",
        "    values = mask_prediction[0][top_indice]\n",
        "    count_test+=np.sum(convert_ids_to_tokens(top_indice[0])==types_test[i1][masked_index[0]])\n",
        "    correlation[0,i0]=top_indice[0]\n",
        "    correlation[1,i0]=element2id[types_test[i1][masked_index[0]]]\n",
        "    #print(\"pred: \",convert_ids_to_tokens(top_indice[0]),\"orig: \",types_test[i1][masked_index[0]])\n",
        "print('Score: ', count_test/num)"
      ]
    },
    {
      "cell_type": "raw",
      "id": "5ca1acd6",
      "metadata": {
        "id": "5ca1acd6"
      },
      "source": [
        "E_512_LSTM - Score:  0.8708\n",
        "E_128_Bidirectional_LSTM - Score:  0.8866 - 16-4 cells\n",
        "E_256_Bidirectional_LSTM - Score:  0.882 - 16-4 cells\n",
        "E_256_Bidirectional_LSTM - Score:  0.885 - 32-16 cells\n",
        "E_512_Bidirectional_LSTM - Score:  0.851 - 16-4 cells\n",
        "E_512_Bidirectional_LSTM - Score:  0.874 - 32-16 cells\n",
        "E_512_Bidirectional_LSTM_end - Score:  0.855 - 48 cells\n",
        "'/mnt/c/Users/User/DataScience/chemML/elEmBERT/typesPred/medium_lstmV5_E_512_H_8_L_1' - 0.878\n",
        "E_128_Bidirectional_LSTM_2layers - Score:  0.8961 - 32-16 cells\n",
        "E_128_Bidirectional_LSTM_4layers - Score:  0.91  - 32-16 cells"
      ]
    },
    {
      "cell_type": "code",
      "execution_count": null,
      "id": "086f2836",
      "metadata": {
        "id": "086f2836"
      },
      "outputs": [],
      "source": [
        "plt.scatter(correlation[0,:],correlation[1,:])"
      ]
    },
    {
      "cell_type": "raw",
      "id": "6b8d185c",
      "metadata": {
        "id": "6b8d185c"
      },
      "source": [
        "%%time\n",
        "# Load data for masked language model\n",
        "count_test=0\n",
        "p = np.random.permutation(x_train0_test.shape[0])\n",
        "for i1 in p[:num]:\n",
        "    sample_tokens_test=elemVectorize(types_test[i1:i1+1])\n",
        "    prediction=model.predict([x_train0_test[i1:i1+1],x_train1_test[i1:i1+1],sample_tokens_test],verbose=0)\n",
        "    masked_index = np.where(sample_tokens_test == mask_token_id)\n",
        "    masked_index = masked_index[1]\n",
        "    mask_prediction = prediction[0][masked_index]\n",
        "    top_indice = mask_prediction[0].argsort()[-1:][::-1]\n",
        "    values = mask_prediction[0][top_indice]\n",
        "    count_test+=np.sum(convert_ids_to_tokens(top_indice[0])==types[i1][masked_index[0]])\n",
        "print('Test score: ', count_test/num)"
      ]
    },
    {
      "cell_type": "code",
      "execution_count": null,
      "id": "92615354",
      "metadata": {
        "id": "92615354"
      },
      "outputs": [],
      "source": [
        "mask_prediction[0].argsort()[-1:][::-1]"
      ]
    },
    {
      "cell_type": "code",
      "execution_count": null,
      "id": "a868a214",
      "metadata": {
        "id": "a868a214"
      },
      "outputs": [],
      "source": [
        "fig = plt.figure(figsize=(7,5))\n",
        "plt.rcParams.update({'font.size': 14})\n",
        "plt.rcParams[\"font.family\"] = \"Times New Roman\"\n",
        "plt.plot(hist.history['loss'],linewidth=2)\n",
        "plt.legend(([\"Score: \"+str(count/num)+'; Test score: '+str(count_test/num)]))\n",
        "plt.title(\"bert_Element_mlm_\"+str(config.EMBED_DIM)+config.MNAME)\n",
        "plt.xlabel('epochs')\n",
        "plt.ylabel('Loss')\n",
        "plt.savefig(path+\"bert_Element_mlm_\"+str(config.EMBED_DIM)+config.MNAME+'_loss.png',format='png',\n",
        "            dpi=800,bbox_inches='tight',pil_kwargs={\"compression\": \"tiff_lzw\"})"
      ]
    },
    {
      "cell_type": "code",
      "execution_count": null,
      "id": "4837afc8",
      "metadata": {
        "id": "4837afc8"
      },
      "outputs": [],
      "source": []
    },
    {
      "cell_type": "code",
      "execution_count": null,
      "id": "98173749",
      "metadata": {
        "id": "98173749"
      },
      "outputs": [],
      "source": [
        "x_train0.shape"
      ]
    },
    {
      "cell_type": "code",
      "execution_count": null,
      "id": "d0b21107",
      "metadata": {
        "scrolled": true,
        "id": "d0b21107"
      },
      "outputs": [],
      "source": [
        "u=np.random.randint(1,len(types)-1)\n",
        "u1=u-1\n",
        "sample_tokens=elemVectorize(types[u1:u])\n",
        "prediction=model.predict([x_train0[u1:u],x_train1[u1:u],sample_tokens])\n",
        "\n",
        "k=5\n",
        "\n",
        "masked_index = np.where(sample_tokens == mask_token_id)\n",
        "masked_index = masked_index[1]\n",
        "mask_prediction = prediction[0][masked_index]\n",
        "\n",
        "top_indices = mask_prediction[0].argsort()[-k:][::-1]\n",
        "values = mask_prediction[0][top_indices]\n",
        "for i in range(len(top_indices)):\n",
        "    p = top_indices[i]\n",
        "    v = values[i]\n",
        "    tokens = np.copy(sample_tokens[0])\n",
        "    tokens[masked_index[0]] = p\n",
        "    result = {        \n",
        "#        \"input_text\": decode(sample_tokens[0]),\n",
        "#        \"prediction\": decode(tokens),\n",
        "        \"probability\": v,\n",
        "        \"predicted mask token\": convert_ids_to_tokens(p),\n",
        "        \"original token\": types[u1][masked_index[0]]\n",
        "    }\n",
        "    print(result)\n",
        "    \n",
        "    #print(\"probability\",v,\"predicted_mask_token\",convert_ids_to_tokens(p),\"orig_token\",list(types[u][masked_index])[0])"
      ]
    },
    {
      "cell_type": "code",
      "execution_count": null,
      "id": "a04a9bc5",
      "metadata": {
        "id": "a04a9bc5"
      },
      "outputs": [],
      "source": [
        "convert_ids_to_tokens(p)"
      ]
    },
    {
      "cell_type": "raw",
      "id": "6ac62271",
      "metadata": {
        "id": "6ac62271"
      },
      "source": [
        "# Load data for masked language model\n",
        "db = loadData(path+'mat2spec_20k.pickle')\n",
        "# Load data for masked language model\n",
        "db = loadData(DataPickleName)\n",
        "x_train0,x_train1,x_masked_train,y_masked_labels,sample_weights,=db['x1'],db['x2'],db['x3'],db['y'],db['w']\n",
        "types = db['types']\n",
        "vocab = db['vocab']\n",
        "element2id = dict(zip(vocab, np.arange(len(vocab))))\n",
        "element2id = defaultdict(lambda: 1, element2id)\n",
        "id2element = {y: x for x, y in element2id.items()}"
      ]
    },
    {
      "cell_type": "raw",
      "id": "b0e4a854",
      "metadata": {
        "id": "b0e4a854"
      },
      "source": [
        "count=0\n",
        "num=1000\n",
        "p = np.random.permutation(datM.shape[0])\n",
        "for i1 in p[:num]:\n",
        "    sample_tokens=elemVectorize(types_test[i1:i1+1])\n",
        "    prediction=model.predict([x_train0_test[i1:i1+1],x_train1_test[i1:i1+1],sample_tokens_test],verbose=0)\n",
        "    masked_index = np.where(sample_tokens == mask_token_id)\n",
        "    masked_index = masked_index[1]\n",
        "    mask_prediction = prediction[0][masked_index]\n",
        "    top_indice = mask_prediction[0].argsort()[-1:][::-1]\n",
        "    values = mask_prediction[0][top_indice]\n",
        "    count+=np.sum(convert_ids_to_tokens(top_indice[0])==list(types_test[i1][masked_index])[0])\n",
        "print('Score: ', count/num)"
      ]
    },
    {
      "cell_type": "raw",
      "id": "5b0356a3",
      "metadata": {
        "id": "5b0356a3"
      },
      "source": [
        "weights = model.get_layer('embedding').get_weights()[0]\n",
        "vocab = vectorize_layer.get_vocabulary()"
      ]
    },
    {
      "cell_type": "code",
      "execution_count": null,
      "id": "c8e06bb6",
      "metadata": {
        "id": "c8e06bb6"
      },
      "outputs": [],
      "source": [
        "hidden_features = model.predict([x_train0,x_train1,x_masked_train])"
      ]
    },
    {
      "cell_type": "code",
      "execution_count": null,
      "id": "756838e5",
      "metadata": {
        "id": "756838e5"
      },
      "outputs": [],
      "source": [
        "hidden_features0=hidden_features.reshape(hidden_features.shape[0],hidden_features.shape[1]*hidden_features.shape[2])"
      ]
    },
    {
      "cell_type": "code",
      "execution_count": null,
      "id": "5db52f5e",
      "metadata": {
        "id": "5db52f5e"
      },
      "outputs": [],
      "source": [
        "tsne = TSNE(n_components=3)\n",
        "X_tsne = tsne.fit_transform(hidden_features0) ## Reduced for computational issues\n",
        "colors_map = np.argmax(y_train, axis=1)"
      ]
    },
    {
      "cell_type": "code",
      "execution_count": null,
      "id": "7018ddb3",
      "metadata": {
        "scrolled": false,
        "id": "7018ddb3"
      },
      "outputs": [],
      "source": [
        "%matplotlib notebook\n",
        "\n",
        "import matplotlib.pyplot as plt\n",
        "from mpl_toolkits.mplot3d import axes3d   \n",
        "\n",
        "fig = plt.figure(figsize=(10,10))\n",
        "ax = fig.add_subplot(111, projection='3d')\n",
        "colors = np.array([x for x in 'b-g-r-c-m-y-k-purple-coral-lime'.split('-')])\n",
        "colors_map0 = colors_map\n",
        "plt.figure(figsize=(10,10))\n",
        "for cl in np.unique(colors_map0):\n",
        "    indices = np.where(colors_map0==cl)\n",
        "    ax.scatter(X_tsne[indices,0], X_tsne[indices, 1],X_tsne[indices, 2], label=cl)\n",
        "#plt.legend()\n",
        "#plt.show()\n",
        "ax.grid(False)"
      ]
    },
    {
      "cell_type": "code",
      "execution_count": null,
      "id": "3b7047f2",
      "metadata": {
        "id": "3b7047f2"
      },
      "outputs": [],
      "source": [
        "np.unique(colors_map0)"
      ]
    },
    {
      "cell_type": "code",
      "execution_count": null,
      "id": "4fe04c57",
      "metadata": {
        "id": "4fe04c57"
      },
      "outputs": [],
      "source": [
        "plt.scatter(trans_data[:,0][0:mid], trans_data[:,1][0:mid], trans_data[:,2][0:mid], c= 'r', s = 100, marker='+')\n",
        "plt.scatter(trans_data[:,0][mid:], trans_data[:,1][mid:], trans_data[:,2][mid:], c= 'b', s = 100, marker='.')"
      ]
    },
    {
      "cell_type": "code",
      "execution_count": null,
      "id": "586cc16e",
      "metadata": {
        "id": "586cc16e"
      },
      "outputs": [],
      "source": [
        "fig = plt.figure(figsize=(10,10))\n",
        "ax = fig.add_subplot(111, projection='3d')\n",
        "ax.scatter(X_tsne[indices,0], X_tsne[indices, 1],X_tsne[indices, 2], c=colors[cl], label=cl)\n",
        "ax.grid(False)"
      ]
    },
    {
      "cell_type": "code",
      "execution_count": null,
      "id": "1bf121d1",
      "metadata": {
        "scrolled": true,
        "id": "1bf121d1"
      },
      "outputs": [],
      "source": [
        "import tensorflow as tf\n",
        "\n",
        "# Write\n",
        "a = tf.zeros((100, 512), tf.int32)\n",
        "ds = tf.data.Dataset.from_tensor_slices((a, a, a, a[:, 0])).batch(32)\n",
        "for i, _ in enumerate(ds.element_spec):\n",
        "    ds_i = ds.map(lambda *args: args[i]).map(tf.io.serialize_tensor)\n",
        "    writer = tf.data.experimental.TFRecordWriter(f'mydata.{i}.tfrecord')\n",
        "    writer.write(ds_i)\n",
        "\n",
        "# Read\n",
        "NUM_PARTS = 4\n",
        "parts = []\n",
        "def read_map_fn(x):\n",
        "    return tf.io.parse_tensor(x, tf.int32)\n",
        "for i in range(NUM_PARTS):\n",
        "    parts.append(tf.data.TFRecordDataset(f'mydata.{i}.tfrecord').map(read_map_fn))\n",
        "ds = tf.data.Dataset.zip(tuple(parts))\n",
        "print(ds)"
      ]
    },
    {
      "cell_type": "code",
      "execution_count": null,
      "id": "e780f6ca",
      "metadata": {
        "id": "e780f6ca"
      },
      "outputs": [],
      "source": [
        "tf.keras.backend.clear_session()"
      ]
    },
    {
      "cell_type": "code",
      "execution_count": null,
      "id": "e930f6ac",
      "metadata": {
        "id": "e930f6ac"
      },
      "outputs": [],
      "source": [
        "tf.data.experimental.save(tf.data.Dataset.from_tensor_slices(\n",
        "    tf.concat([x_train10,x_train11,x_train12], 0, name='concat')).batch(32),path+'mydata_train.tfrecord')\n",
        "\n"
      ]
    },
    {
      "cell_type": "code",
      "execution_count": null,
      "id": "4aa39942",
      "metadata": {
        "id": "4aa39942"
      },
      "outputs": [],
      "source": [
        "#mlm_ds = tf.data.Dataset.from_tensor_slices(((x_train0,x_train1,x_masked_train), y_masked_labels, sample_weights))\n",
        "\n",
        "#mlm_ds = mlm_ds.shuffle(1000).batch(config.BATCH_SIZE)"
      ]
    },
    {
      "cell_type": "code",
      "execution_count": null,
      "id": "761d368f",
      "metadata": {
        "id": "761d368f"
      },
      "outputs": [],
      "source": [
        "\"\"\"\n",
        "Permutation Invariant Neural Network Layer\n",
        "================================================================================\n",
        "Core functions and classes.\n",
        "\"\"\"\n",
        "\n",
        "import keras\n",
        "from keras import backend as K\n",
        "from tensorflow.keras.layers import Layer, InputSpec\n",
        "from keras.layers import Dense, Conv2D, Lambda\n",
        "from keras.models import Sequential\n",
        "import numpy as np\n",
        "import tensorflow as tf\n",
        "\n",
        "\n",
        "def PermutationInvariant(input_shape, layer_sizes, tuple_dim = 2, reduce_fun = \"mean\"):\n",
        "    \"\"\"\n",
        "    Implements a permutation invariant layer.\n",
        "    Each batch in our data consists of `input_shape[0]` observations\n",
        "    each with `input_shape[1]` features.\n",
        "    Args:\n",
        "    input_shape -- A pair of `int` - (number of observations in one batch x\n",
        "        number of features of each observation). The batch dimension is not included.\n",
        "    layer_sizes -- A `list` of `int`. Sizes of layers in the dense neural network applied\n",
        "        to each tuple of observations.\n",
        "    tuple_dim -- A `int`, how many observations to put in one tuple.\n",
        "    reduce_fun -- A `string`, type of function to \"average\" over all tuples.\n",
        "    Returns:\n",
        "    g -- A `Sequential` keras container - the permutation invariant layer.\n",
        "        It consists of one tupple layer that creates all possible `tuple_dim`-tuples\n",
        "        of observations. On each tuple is applied the same dense neural network\n",
        "        and then some symmetric pooling function is applied across all of them\n",
        "        (for example mean or maximum).\n",
        "    \"\"\"\n",
        "    g = Sequential()\n",
        "\n",
        "    ## Tuple layer\n",
        "    g.add(Tuples(tuple_dim, input_shape = input_shape))  ## out shape: batch_size x rows x cols\n",
        "\n",
        "    ## Dense neural net -- implemented with conv layers\n",
        "    g.add(Lambda(lambda x : K.expand_dims(x, axis = 2))) ## out shape: batch_size x rows x 1 x cols\n",
        "    for layer_size in layer_sizes:\n",
        "        g.add(Conv2D(filters = layer_size, kernel_size = (1,1), data_format = \"channels_last\")) ## out_shape:  batch_size x rows x 1 x layer_size\n",
        "    g.add(Lambda(lambda x : K.squeeze(x, axis = 2))) ## lout_shape: batch_size x rows x cols\n",
        "\n",
        "    ## Pooling layer\n",
        "    if reduce_fun == \"mean\":\n",
        "        lambda_layer = Lambda(lambda x : K.mean(x, axis = 1))\n",
        "    elif reduce_fun == \"max\":\n",
        "        lambda_layer = Lambda(lambda x : K.max(x, axis = 1))\n",
        "    else:\n",
        "        raise ValueError(\"Invalid value for argument `reduce_fun` provided. \")\n",
        "    g.add(lambda_layer) ## out shape: batch_size x cols\n",
        "\n",
        "    return g\n",
        "\n",
        "\n",
        "class Tuples(Layer):\n",
        "    \"\"\"\n",
        "    Creates all possible tuples of rows of 2D tensor.\n",
        "    In the case of tuple_dim = 2, from one input batch:\n",
        "        x_1,\n",
        "        x_2,\n",
        "        ...\n",
        "        x_n,\n",
        "    where x_i are rows of the tensor, it creates 2D output tensor:\n",
        "        x_1 | x_1\n",
        "        x_1 | x_2\n",
        "        ...\n",
        "        x_1 | x_n\n",
        "        x_2 | x_1\n",
        "        x_2 | x_2\n",
        "        ...\n",
        "        x_2 | x_n\n",
        "        ...\n",
        "        x_n | x_n\n",
        "    Args:\n",
        "    tuple_dim -- A `int`. Dimension of one tuple (i.e. how many rows from the input\n",
        "    tensor to combine to create a row in output tensor)\n",
        "    input_shape -- A `tuple` of `int`. In the most frequent case where our data\n",
        "        has shape (batch_size x num_rows x num_cols) this should be (num_rows x num_cols).\n",
        "    \"\"\"\n",
        "\n",
        "    def __init__(self, tuple_dim = 2, **kwargs):\n",
        "        self.tuple_dim = tuple_dim\n",
        "        super(Tuples, self).__init__(**kwargs)\n",
        "\n",
        "    def create_indices(self, n, k = 2):\n",
        "        \"\"\"\n",
        "        Creates all integer valued coordinate k-tuples in k dimensional hypercube with edge size n.\n",
        "        for example n = 4, k = 2\n",
        "        returns [[0, 0], [0, 1], [0, 2], [0, 3],\n",
        "                 [1, 0], [1, 1], [1, 2], [1, 3],\n",
        "                 ...\n",
        "                 [3, 0], [3, 1], [3, 2], [3, 3]]\n",
        "        Args:\n",
        "        n -- A `int`, edge size of the hypercube.\n",
        "        k -- A `int`, dimension of the hypercube.\n",
        "        Returns:\n",
        "        indices_n_k -- A `list` of `list` of `int`. Each inner list represents coordinates of one integer point\n",
        "            in the hypercube.\n",
        "        \"\"\"\n",
        "        if k == 0:\n",
        "            indices_n_k = [[]]\n",
        "        else:\n",
        "            indices_n_k_minus_1 = self.create_indices(n, k-1)\n",
        "            indices_n_k = [[i] + indices_n_k_minus_1[c] for i in range(n) for c in range(n**(k-1))]\n",
        "\n",
        "        return indices_n_k\n",
        "\n",
        "    def build(self, input_shape):\n",
        "        # Create indexing tuple\n",
        "        self.gathering_indices = self.create_indices(input_shape[-2], self.tuple_dim)\n",
        "        super(Tuples, self).build(input_shape)  # Be sure to call this somewhere!\n",
        "\n",
        "\n",
        "    def call(self, x):\n",
        "        stack_of_tuples = K.map_fn(\n",
        "            fn = lambda z :\n",
        "                K.concatenate(\n",
        "                    [K.reshape(\n",
        "                        K.gather(z, i),\n",
        "                        shape = (1,-1)\n",
        "                     )\n",
        "                     for i in self.gathering_indices\n",
        "                    ],\n",
        "                    axis = 0\n",
        "                ),\n",
        "            elems = x\n",
        "        )\n",
        "        return stack_of_tuples\n",
        "\n",
        "\n",
        "    def compute_output_shape(self, input_shape):\n",
        "        output_shape = list(input_shape)\n",
        "        output_shape[-1] = output_shape[-1] * self.tuple_dim\n",
        "        output_shape[-2] = output_shape[-2] ** self.tuple_dim\n",
        "        return tuple(output_shape)\n",
        "\n",
        "\n",
        "if __name__ == \"__main__\":\n",
        "    tuple_dim = 2\n",
        "    inp_shape = (5,3,2)\n",
        "\n",
        "    ############################################################################\n",
        "    ## TESTING Tuples LAYER\n",
        "\n",
        "    ## Create graph\n",
        "    ## Input data, 32 experiments in batch, 7 observations in each experiment, 5 feature columns\n",
        "    tf.compat.v1.disable_eager_execution()\n",
        "    data = tf.compat.v1.placeholder(shape = inp_shape, dtype = tf.float32)\n",
        "    tuples_layer = Tuples(tuple_dim = tuple_dim, input_shape = inp_shape[1:])\n",
        "    data_tup = tuples_layer(data)\n",
        "\n",
        "    ## Run for concrete example\n",
        "    sess = tf.Session()\n",
        "    init = tf.global_variables_initializer()\n",
        "    sess.run(init)\n",
        "    np.random.seed(0)\n",
        "    feed = {data : np.random.randn(*inp_shape)}\n",
        "    data_eval, data_tup_eval = sess.run([data, data_tup], feed)\n",
        "\n",
        "    print(\"-------------------------------------------------------------------\")\n",
        "    print(\"A) Testing Tuples Layer:\")\n",
        "    print(\"Tuple dimension is: \", tuple_dim)\n",
        "    print(\"Data shape is -- (batch size x num rows x num cols): \", data.shape)\n",
        "    print(\"Transformed data shape is -- (batch size x num rows ** tuple size, num cols * tuple size): \", data_tup.shape)\n",
        "    print(\"Data value is: \", data_eval)\n",
        "    print(\"Transformed data value is:\", data_tup_eval)\n",
        "    ##\n",
        "    ############################################################################\n",
        "\n",
        "\n",
        "    ############################################################################\n",
        "    ## TESTING PermutationInvariant\n",
        "    layer_sizes = [5, 9, 8, 6]\n",
        "    perm_inv = PermutationInvariant(input_shape = inp_shape[1:],\n",
        "                                    layer_sizes = layer_sizes,\n",
        "                                    tuple_dim = tuple_dim,\n",
        "                                    reduce_fun = \"mean\")\n",
        "\n",
        "    data_perm_inv = perm_inv(data)\n",
        "\n",
        "    print(\"-------------------------------------------------------------------\")\n",
        "    print(\"B) Testing permutation_invariant function:\")\n",
        "    print(\"Data is the same as in A).\")\n",
        "    print(\"Shape of permutation invariant layer output: \", data_perm_inv.shape)\n",
        "    ##\n",
        "    ############################################################################"
      ]
    },
    {
      "cell_type": "code",
      "execution_count": null,
      "id": "1a850738",
      "metadata": {
        "id": "1a850738"
      },
      "outputs": [],
      "source": []
    }
  ],
  "metadata": {
    "accelerator": "GPU",
    "colab": {
      "provenance": []
    },
    "gpuClass": "standard",
    "kernelspec": {
      "display_name": "Python 3 (ipykernel)",
      "language": "python",
      "name": "python3"
    },
    "language_info": {
      "codemirror_mode": {
        "name": "ipython",
        "version": 3
      },
      "file_extension": ".py",
      "mimetype": "text/x-python",
      "name": "python",
      "nbconvert_exporter": "python",
      "pygments_lexer": "ipython3",
      "version": "3.8.10"
    }
  },
  "nbformat": 4,
  "nbformat_minor": 5
}