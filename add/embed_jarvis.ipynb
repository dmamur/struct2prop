{
  "cells": [
    {
      "cell_type": "markdown",
      "metadata": {
        "id": "view-in-github",
        "colab_type": "text"
      },
      "source": [
        "<a href=\"https://colab.research.google.com/github/dmamur/struct2prop/blob/main/add/embed_jarvis.ipynb\" target=\"_parent\"><img src=\"https://colab.research.google.com/assets/colab-badge.svg\" alt=\"Open In Colab\"/></a>"
      ]
    },
    {
      "cell_type": "code",
      "execution_count": 2,
      "id": "a7b1fb1b",
      "metadata": {
        "id": "a7b1fb1b",
        "scrolled": true,
        "colab": {
          "base_uri": "https://localhost:8080/"
        },
        "outputId": "4f25adc5-7a7c-4eaf-e02c-08124e8b9f75"
      },
      "outputs": [
        {
          "output_type": "stream",
          "name": "stdout",
          "text": [
            "Requirement already satisfied: ase in /usr/local/lib/python3.10/dist-packages (3.22.1)\n",
            "Requirement already satisfied: matplotlib>=3.1.0 in /usr/local/lib/python3.10/dist-packages (from ase) (3.7.1)\n",
            "Requirement already satisfied: numpy>=1.15.0 in /usr/local/lib/python3.10/dist-packages (from ase) (1.25.2)\n",
            "Requirement already satisfied: scipy>=1.1.0 in /usr/local/lib/python3.10/dist-packages (from ase) (1.11.4)\n",
            "Requirement already satisfied: contourpy>=1.0.1 in /usr/local/lib/python3.10/dist-packages (from matplotlib>=3.1.0->ase) (1.2.0)\n",
            "Requirement already satisfied: cycler>=0.10 in /usr/local/lib/python3.10/dist-packages (from matplotlib>=3.1.0->ase) (0.12.1)\n",
            "Requirement already satisfied: fonttools>=4.22.0 in /usr/local/lib/python3.10/dist-packages (from matplotlib>=3.1.0->ase) (4.49.0)\n",
            "Requirement already satisfied: kiwisolver>=1.0.1 in /usr/local/lib/python3.10/dist-packages (from matplotlib>=3.1.0->ase) (1.4.5)\n",
            "Requirement already satisfied: packaging>=20.0 in /usr/local/lib/python3.10/dist-packages (from matplotlib>=3.1.0->ase) (24.0)\n",
            "Requirement already satisfied: pillow>=6.2.0 in /usr/local/lib/python3.10/dist-packages (from matplotlib>=3.1.0->ase) (9.4.0)\n",
            "Requirement already satisfied: pyparsing>=2.3.1 in /usr/local/lib/python3.10/dist-packages (from matplotlib>=3.1.0->ase) (3.1.2)\n",
            "Requirement already satisfied: python-dateutil>=2.7 in /usr/local/lib/python3.10/dist-packages (from matplotlib>=3.1.0->ase) (2.8.2)\n",
            "Requirement already satisfied: six>=1.5 in /usr/local/lib/python3.10/dist-packages (from python-dateutil>=2.7->matplotlib>=3.1.0->ase) (1.16.0)\n"
          ]
        }
      ],
      "source": [
        "!pip install ase\n",
        "import pickle,re, glob,os,random,json\n",
        "import numpy as np\n",
        "import pandas as pd\n",
        "import tensorflow as tf\n",
        "import matplotlib.pyplot as plt\n",
        "from tensorflow import keras\n",
        "from keras.models import Sequential, Model\n",
        "from keras.layers import Embedding,Dense,Dropout,Input,Concatenate,Flatten,Bidirectional,LSTM,Reshape\n",
        "from tensorflow.keras.models import load_model\n",
        "from tensorflow.keras.utils import plot_model\n",
        "import keras.backend as K\n",
        "from collections import defaultdict\n",
        "from scipy.spatial.distance import cdist\n",
        "from ase.io import read\n",
        "from ase import Atoms\n",
        "from scipy.ndimage import gaussian_filter1d\n",
        "from ase.neighborlist import neighbor_list\n",
        "from sklearn.preprocessing import MinMaxScaler\n",
        "scaler = MinMaxScaler()\n",
        "\n",
        "def getpdf(atoms):\n",
        "    r = np.arange(0,10,0.1)\n",
        "    v = np.concatenate([[1],4*np.pi/3*(r[1:]**3 - r[:-1]**3)])\n",
        "    i, d = neighbor_list('id', atoms, 10.0, self_interaction=False)\n",
        "    pdfatoms=[]\n",
        "    for k,l in enumerate(atoms):\n",
        "        y = np.zeros(100)\n",
        "        dist = np.round(d[i==k]*10)\n",
        "        a,b=np.unique(dist, return_counts=True)\n",
        "        np.put(y,a.astype(int)-1,b)\n",
        "        pdfatoms.append(gaussian_filter1d(y/v,1))\n",
        "    return np.asarray(pdfatoms)\n",
        "\n",
        "def getTypesXYZ(file):\n",
        "    xyz=[]\n",
        "    types=[]\n",
        "    lattice=file['structure']['lattice']['matrix']\n",
        "    for n in file['structure']['sites']:\n",
        "        types.append(n['label'])\n",
        "        xyz.append(n['xyz'])\n",
        "        #print(n['label'],n['xyz'])\n",
        "    return types,lattice,np.asarray(xyz)\n"
      ]
    },
    {
      "cell_type": "code",
      "source": [
        "!git clone https://github.com/dmamur/struct2prop.git"
      ],
      "metadata": {
        "colab": {
          "base_uri": "https://localhost:8080/"
        },
        "id": "zgmyMBD2uJtw",
        "outputId": "8a992310-4f4a-45ff-c269-1d279802b59b"
      },
      "id": "zgmyMBD2uJtw",
      "execution_count": 3,
      "outputs": [
        {
          "output_type": "stream",
          "name": "stdout",
          "text": [
            "fatal: destination path 'struct2prop' already exists and is not an empty directory.\n"
          ]
        }
      ]
    },
    {
      "cell_type": "code",
      "execution_count": 4,
      "id": "2c15c928",
      "metadata": {
        "id": "2c15c928"
      },
      "outputs": [],
      "source": [
        "class Config:\n",
        "    MAX_LEN = 256\n",
        "    BATCH_SIZE = 64\n",
        "    LR = 0.001\n",
        "    VOCAB_SIZE = 128\n",
        "    EMBED_DIM = 128\n",
        "    MNAME = 'embed_sto_'\n",
        "config = Config()\n",
        "path=\"/content/struct2prop/models\"\n",
        "mname=path+config.MNAME+'E_'+str(config.EMBED_DIM)\n",
        "tf.random.set_seed(42)\n",
        "pickle_file_path = \"/content/trainData_jarvis.pkl\""
      ]
    },
    {
      "cell_type": "markdown",
      "id": "86baf7df",
      "metadata": {
        "id": "86baf7df"
      },
      "source": [
        "# Load data from Figshare"
      ]
    },
    {
      "cell_type": "code",
      "source": [
        "%%time\n",
        "# Check if the pickle file already existscx v\n",
        "if not os.path.isfile(pickle_file_path):\n",
        "    if not os.path.isfile('/content/edos-up_pdos-elast_interp-8-18-2021.json.zip'):\n",
        "    # Download and extract data\n",
        "      !wget https://figshare.com/ndownloader/files/29216859 -O edos-up_pdos-elast_interp-8-18-2021.json.zip\n",
        "      ! unzip -q edos-up_pdos-elast_interp-8-18-2021.json.zip\n",
        "    Cell, Types, Xyz, Label, rdfs, dosV, ids, formula = [], [], [], [], [], [], [], []\n",
        "    # Process each file\n",
        "    with open('/content/edos-up_pdos-elast_interp-8-18-2021.json','r') as f:\n",
        "        data3d=json.load(f)\n",
        "    df=pd.DataFrame(data3d)\n",
        "    print('DataLen: ', len(df['atoms']))\n",
        "    for i,j in enumerate(df['atoms']):\n",
        "        atoms=Atoms(symbols=j['elements'],positions=j['coords'],cell=j['lattice_mat'],pbc=True)\n",
        "        formula.append(atoms.get_chemical_formula())\n",
        "        Types.append(atoms.get_chemical_symbols())\n",
        "        ids.append(df['jid'][i])\n",
        "        Xyz.append(atoms.positions)\n",
        "        Cell.append(atoms.cell)\n",
        "        rdfs.append(getpdf(atoms))\n",
        "        if ((i % 1000)==0):\n",
        "          print('Structure: ',i)\n",
        "    # Create a dictionary to store the data\n",
        "    db = {\n",
        "        'types': Types,\n",
        "        'formula': formula,\n",
        "        'pdf': rdfs,\n",
        "        'Cell': Cell,\n",
        "        'xyz': Xyz,\n",
        "        'ids': ids\n",
        "    }\n",
        "\n",
        "    # Save the dictionary as a pickle file\n",
        "    with open(pickle_file_path, \"wb\") as f:\n",
        "        pickle.dump(db, f)"
      ],
      "metadata": {
        "id": "NQNmAwijtL5s",
        "colab": {
          "base_uri": "https://localhost:8080/"
        },
        "outputId": "486b6415-6ac6-496b-e6b0-a54fc630a75a"
      },
      "id": "NQNmAwijtL5s",
      "execution_count": 6,
      "outputs": [
        {
          "output_type": "stream",
          "name": "stdout",
          "text": [
            "Structure:  0\n",
            "Structure:  1000\n",
            "Structure:  2000\n",
            "Structure:  3000\n",
            "Structure:  4000\n",
            "Structure:  5000\n",
            "Structure:  6000\n",
            "Structure:  7000\n",
            "Structure:  8000\n",
            "Structure:  9000\n",
            "Structure:  10000\n",
            "Structure:  11000\n",
            "Structure:  12000\n",
            "Structure:  13000\n",
            "Structure:  14000\n",
            "Structure:  15000\n",
            "Structure:  16000\n",
            "Structure:  17000\n",
            "Structure:  18000\n",
            "Structure:  19000\n",
            "Structure:  20000\n",
            "Structure:  21000\n",
            "Structure:  22000\n",
            "Structure:  23000\n",
            "Structure:  24000\n",
            "Structure:  25000\n",
            "Structure:  26000\n",
            "Structure:  27000\n",
            "Structure:  28000\n",
            "Structure:  29000\n",
            "Structure:  30000\n",
            "Structure:  31000\n",
            "Structure:  32000\n",
            "Structure:  33000\n",
            "Structure:  34000\n",
            "Structure:  35000\n",
            "Structure:  36000\n",
            "Structure:  37000\n",
            "Structure:  38000\n",
            "Structure:  39000\n",
            "Structure:  40000\n",
            "Structure:  41000\n",
            "Structure:  42000\n",
            "Structure:  43000\n",
            "Structure:  44000\n",
            "Structure:  45000\n",
            "Structure:  46000\n",
            "Structure:  47000\n",
            "Structure:  48000\n",
            "Structure:  49000\n",
            "Structure:  50000\n",
            "Structure:  51000\n",
            "Structure:  52000\n",
            "Structure:  53000\n",
            "Structure:  54000\n",
            "Structure:  55000\n",
            "CPU times: user 1h 21min 1s, sys: 41min 36s, total: 2h 2min 37s\n",
            "Wall time: 1h 44min 48s\n"
          ]
        }
      ]
    },
    {
      "cell_type": "code",
      "execution_count": 5,
      "id": "5fa12f0c",
      "metadata": {
        "id": "5fa12f0c"
      },
      "outputs": [],
      "source": [
        "with open(pickle_file_path, \"rb\") as f:\n",
        "    db = pickle.load(f)\n",
        "\n",
        "types = db['types']\n",
        "pdf = db['pdf']\n",
        "ids = db['ids']"
      ]
    },
    {
      "cell_type": "code",
      "execution_count": 6,
      "id": "7e8954ed",
      "metadata": {
        "id": "7e8954ed",
        "colab": {
          "base_uri": "https://localhost:8080/"
        },
        "outputId": "6f89a9fb-3e0e-4c26-d20f-fb0577248a9d"
      },
      "outputs": [
        {
          "output_type": "stream",
          "name": "stdout",
          "text": [
            "94\n"
          ]
        }
      ],
      "source": [
        "# Load dictionary\n",
        "with open('/content/struct2prop/data/el2id.pkl', 'rb') as f:\n",
        "    el2id = pickle.load(f)\n",
        "element2id = el2id['el2id']\n",
        "config.VOCAB_SIZE = len(element2id)\n",
        "print(config.VOCAB_SIZE)"
      ]
    },
    {
      "cell_type": "code",
      "source": [
        "lens = [len(i) for i in types]\n",
        "print(max(lens))\n",
        "types[0]"
      ],
      "metadata": {
        "id": "CjMbG2OpkKZD",
        "colab": {
          "base_uri": "https://localhost:8080/"
        },
        "outputId": "d4d8cfa7-429e-499b-8f19-7f1453c6df6e"
      },
      "id": "CjMbG2OpkKZD",
      "execution_count": 7,
      "outputs": [
        {
          "output_type": "stream",
          "name": "stdout",
          "text": [
            "140\n"
          ]
        },
        {
          "output_type": "execute_result",
          "data": {
            "text/plain": [
              "['Ti', 'Ti', 'Cu', 'Cu', 'Si', 'Si', 'As', 'As']"
            ]
          },
          "metadata": {},
          "execution_count": 7
        }
      ]
    },
    {
      "cell_type": "code",
      "execution_count": 8,
      "id": "ba8465c2",
      "metadata": {
        "id": "ba8465c2"
      },
      "outputs": [],
      "source": [
        "# Convert element labels to numerical IDs\n",
        "typesNumerical = [[element2id[element] for element in row] for row in types]\n",
        "\n",
        "# Pad sequences for pdf (assuming pdf is a list of arrays)\n",
        "x1 = tf.keras.preprocessing.sequence.pad_sequences(pdf, dtype='float32', padding='post', truncating='post', maxlen=config.MAX_LEN)\n",
        "\n",
        "# Pad sequences for typesNumerical\n",
        "x3 = tf.keras.preprocessing.sequence.pad_sequences(typesNumerical, dtype='int32', padding='post', truncating='post', maxlen=config.MAX_LEN)\n"
      ]
    },
    {
      "cell_type": "code",
      "source": [
        "with open('/content/edos-up_pdos-elast_interp-8-18-2021.json','r') as f:\n",
        "        data3d=json.load(f)\n",
        "df=pd.DataFrame(data3d)\n",
        "y = np.asarray([i for i in df['edos_up'].to_numpy()])"
      ],
      "metadata": {
        "id": "JPP46FToizsO"
      },
      "id": "JPP46FToizsO",
      "execution_count": 11,
      "outputs": []
    },
    {
      "cell_type": "code",
      "source": [
        "y  = tf.keras.preprocessing.sequence.pad_sequences(y,dtype='float32',padding= 'post')\n",
        "p = np.random.RandomState(seed=73).permutation(y.shape[0])\n",
        "n = len(p)\n",
        "trainidx = p[:int(n*0.8)]\n",
        "validx = p[int(n*0.8):int(n*0.9)]\n",
        "testidx = p[int(n*0.9):]"
      ],
      "metadata": {
        "id": "nRaXAT213_uB"
      },
      "id": "nRaXAT213_uB",
      "execution_count": 12,
      "outputs": []
    },
    {
      "cell_type": "markdown",
      "id": "9W_HmiqsDXJf",
      "metadata": {
        "id": "9W_HmiqsDXJf"
      },
      "source": [
        "# Predict eDOS"
      ]
    },
    {
      "cell_type": "code",
      "execution_count": 13,
      "id": "8e79c14a",
      "metadata": {
        "id": "8e79c14a"
      },
      "outputs": [],
      "source": [
        "# Input layer for x1\n",
        "inputA = Input(shape=x1.shape[1:], name='x1')\n",
        "\n",
        "# Input layer for types (assuming types have integer values)\n",
        "inputC = Input((config.MAX_LEN,), dtype=tf.int32, name='types')\n",
        "\n",
        "# Input layer for eDOS energies\n",
        "\n",
        "# Output layer neuron count\n",
        "outNeuronNum = y.shape[1]\n",
        "\n",
        "# Input layer for outNeuronNum\n",
        "inputD = Input(shape=outNeuronNum)\n",
        "\n",
        "# LSTM layer for x1\n",
        "x = Bidirectional(LSTM(8, name='x1_lstm', return_sequences=True), name='x1_blstm')(inputA)\n",
        "x = Model(inputs=inputA, outputs=x)\n",
        "\n",
        "# Embedding layer for types\n",
        "z = Embedding(config.VOCAB_SIZE, config.EMBED_DIM, mask_zero=True, name=\"element_embdgs\")(inputC)\n",
        "z = Model(inputs=inputC, outputs=z)\n",
        "\n",
        "\n",
        "# Concatenate the output of x and z\n",
        "combined = Concatenate()([x.output,z.output])\n",
        "\n",
        "# LSTM layer on the concatenated output\n",
        "l = LSTM(256)(combined)\n",
        "\n",
        "# Dense layer for the final output\n",
        "e = Dense(outNeuronNum, activation=\"relu\", use_bias=True, name='out_edos')(l)\n",
        "\n",
        "# Create the final model\n",
        "model = Model(inputs=[x.input, z.input], outputs=[e])\n"
      ]
    },
    {
      "cell_type": "code",
      "execution_count": 14,
      "id": "b95d888d",
      "metadata": {
        "scrolled": true,
        "id": "b95d888d",
        "colab": {
          "base_uri": "https://localhost:8080/",
          "height": 533
        },
        "outputId": "0a6fbda2-dfa1-4362-9796-eddc11537c89"
      },
      "outputs": [
        {
          "output_type": "execute_result",
          "data": {
            "image/png": "[encoded data removed]",
            "text/plain": [
              "<IPython.core.display.Image object>"
            ]
          },
          "metadata": {},
          "execution_count": 14
        }
      ],
      "source": [
        "plot_model(model, show_shapes=True, show_layer_names=True)"
      ]
    },
    {
      "cell_type": "code",
      "execution_count": 15,
      "id": "200d2033",
      "metadata": {
        "id": "200d2033",
        "colab": {
          "base_uri": "https://localhost:8080/"
        },
        "outputId": "c3a1a19d-c891-4a33-ca70-7d408c550892"
      },
      "outputs": [
        {
          "output_type": "stream",
          "name": "stdout",
          "text": [
            "Model: \"model_2\"\n",
            "__________________________________________________________________________________________________\n",
            " Layer (type)                Output Shape                 Param #   Connected to                  \n",
            "==================================================================================================\n",
            " x1 (InputLayer)             [(None, 256, 100)]           0         []                            \n",
            "                                                                                                  \n",
            " types (InputLayer)          [(None, 256)]                0         []                            \n",
            "                                                                                                  \n",
            " x1_blstm (Bidirectional)    (None, 256, 16)              6976      ['x1[0][0]']                  \n",
            "                                                                                                  \n",
            " element_embdgs (Embedding)  (None, 256, 128)             12032     ['types[0][0]']               \n",
            "                                                                                                  \n",
            " concatenate (Concatenate)   (None, 256, 144)             0         ['x1_blstm[0][0]',            \n",
            "                                                                     'element_embdgs[0][0]']      \n",
            "                                                                                                  \n",
            " lstm (LSTM)                 (None, 256)                  410624    ['concatenate[0][0]']         \n",
            "                                                                                                  \n",
            " out_edos (Dense)            (None, 300)                  77100     ['lstm[0][0]']                \n",
            "                                                                                                  \n",
            "==================================================================================================\n",
            "Total params: 506732 (1.93 MB)\n",
            "Trainable params: 506732 (1.93 MB)\n",
            "Non-trainable params: 0 (0.00 Byte)\n",
            "__________________________________________________________________________________________________\n"
          ]
        }
      ],
      "source": [
        "model.summary()"
      ]
    },
    {
      "cell_type": "code",
      "execution_count": 16,
      "id": "dc5dfdd1",
      "metadata": {
        "id": "dc5dfdd1"
      },
      "outputs": [],
      "source": [
        "model.compile(loss ='mae',\n",
        "              optimizer= keras.optimizers.Adam(learning_rate=config.LR),\n",
        "              metrics='mse', run_eagerly=True)"
      ]
    },
    {
      "cell_type": "code",
      "execution_count": null,
      "id": "eeab9e7a",
      "metadata": {
        "id": "eeab9e7a"
      },
      "outputs": [],
      "source": [
        "def scheduler(epoch):\n",
        "    initial_lrate = config.LR\n",
        "    drop = 0.92\n",
        "    epochs_drop = 8\n",
        "    lr = initial_lrate * np.power(drop, np.floor((1+epoch)/epochs_drop))\n",
        "\n",
        "    return max(lr, 0.0001)\n",
        "\n",
        "if os.path.isfile(mname+\"_log.csv\"):\n",
        "    df = pd.read_csv(mname+\"_log.csv\")\n",
        "    initEp = df['epoch'].to_numpy()[-1]+1\n",
        "    model.load_weights(mname+\".h5\")\n",
        "else:\n",
        "    initEp = 0\n",
        "\n",
        "\n",
        "# Define callback functions\n",
        "csv_logger = tf.keras.callbacks.CSVLogger(mname + \"_log.csv\", append=True)\n",
        "early_stopping = tf.keras.callbacks.EarlyStopping(monitor='loss', patience=50, min_delta=0.01)\n",
        "checkpoint = tf.keras.callbacks.ModelCheckpoint(mname + \".h5\", verbose=2, monitor='val_loss', mode='min', save_freq=5000)\n",
        "lr_scheduler = tf.keras.callbacks.LearningRateScheduler(scheduler)\n",
        "\n",
        "# Combine all callbacks into a list\n",
        "callbacks_list = [checkpoint, csv_logger, early_stopping, lr_scheduler]\n",
        "\n",
        "# Training configuration\n",
        "epochs = 4 * config.BATCH_SIZE\n",
        "\n",
        "# Train the model\n",
        "hist = model.fit(x=[x1[trainidx], x3[trainidx]], y=[y[trainidx]],\n",
        "                 validation_data=([x1[validx], x3[validx]], [y[validx]]),\n",
        "                 initial_epoch=initEp, epochs=epochs, batch_size=config.BATCH_SIZE, callbacks=callbacks_list, verbose=1)\n"
      ]
    },
    {
      "cell_type": "code",
      "source": [
        "# Make predictions\n",
        "preds = model.predict([x1, x3], batch_size=16)\n",
        "\n",
        "# Create results dictionary\n",
        "dbresults = {\n",
        "    'y':  y,#scaler.inverse_transform(y),\n",
        "    'preds': preds,#scaler.inverse_transform(preds),\n",
        "    'train_idx': trainidx,\n",
        "    'validate_idx': validx,\n",
        "    'test_idx': testidx,\n",
        "    'ids': ids\n",
        "}\n",
        "\n",
        "# Save results to a pickle file\n",
        "with open(f'{mname}_results.pkl', 'wb') as f:\n",
        "    pickle.dump(dbresults, f)\n"
      ],
      "metadata": {
        "id": "BBTzMoSDBtg_"
      },
      "id": "BBTzMoSDBtg_",
      "execution_count": null,
      "outputs": []
    },
    {
      "cell_type": "code",
      "source": [
        "from sklearn.metrics import mean_squared_error,mean_absolute_error,median_absolute_error\n",
        "ytest    = dbresults['y'][testidx]\n",
        "x4t      = dbresults['x4'][testidx]\n",
        "predtest = dbresults['preds'][testidx]\n",
        "mset = np.asarray([mean_squared_error(i,j) for i,j in zip(ytest,predtest)])\n",
        "maet = np.asarray([mean_absolute_error(i,j) for i,j in zip(ytest,predtest)])\n",
        "mseTt=np.mean(mset)\n",
        "maeTt=np.mean(maet)\n",
        "print('MSE_test: ',mseTt,'MAE_test: ',maeTt)\n",
        "#formula = [dbresults['formula'][i] for i in testidx]\n",
        "#ids = [dbresults['ids'][i] for i in testidx]\n",
        "ind=np.random.randint(len(ytest))\n",
        "p = np.random.permutation(np.where(mset>0.)[0])\n",
        "ind=p[0]#np.random.randint(len(ytrain))\n",
        "y_true = ytest[ind]\n",
        "y_pred = predtest[ind]\n",
        "plt.plot(x4t[ind],y_true,label='original')\n",
        "plt.plot(x4t[ind],gaussian_filter1d(y_pred,1),label='predicted')\n",
        "#plt.plot(x4t[ind],gaussian_filter1d(y_true,1))\n",
        "print('mean_squared_error: ',mean_squared_error(y_true,y_pred))\n",
        "print('mean_absolute_error: ',mean_absolute_error(y_true,y_pred))\n",
        "#plt.title(formula[ind].translate(sub), fontsize=16)\n",
        "plt.legend();"
      ],
      "metadata": {
        "id": "hJyfoolJ3dhO"
      },
      "id": "hJyfoolJ3dhO",
      "execution_count": null,
      "outputs": []
    },
    {
      "cell_type": "code",
      "source": [],
      "metadata": {
        "id": "3fl7O9Ki9p5M"
      },
      "id": "3fl7O9Ki9p5M",
      "execution_count": null,
      "outputs": []
    }
  ],
  "metadata": {
    "accelerator": "GPU",
    "colab": {
      "provenance": [],
      "gpuType": "T4",
      "include_colab_link": true
    },
    "kernelspec": {
      "display_name": "Python 3",
      "name": "python3"
    },
    "language_info": {
      "codemirror_mode": {
        "name": "ipython",
        "version": 3
      },
      "file_extension": ".py",
      "mimetype": "text/x-python",
      "name": "python",
      "nbconvert_exporter": "python",
      "pygments_lexer": "ipython3",
      "version": "3.8.10"
    }
  },
  "nbformat": 4,
  "nbformat_minor": 5
}