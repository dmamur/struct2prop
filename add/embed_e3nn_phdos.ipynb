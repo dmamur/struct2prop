{
  "cells": [
    {
      "cell_type": "markdown",
      "metadata": {
        "id": "view-in-github",
        "colab_type": "text"
      },
      "source": [
        "<a href=\"https://colab.research.google.com/github/dmamur/struct2prop/blob/main/add/embed_e3nn_phdos.ipynb\" target=\"_parent\"><img src=\"https://colab.research.google.com/assets/colab-badge.svg\" alt=\"Open In Colab\"/></a>"
      ]
    },
    {
      "cell_type": "code",
      "execution_count": null,
      "id": "a7b1fb1b",
      "metadata": {
        "id": "a7b1fb1b",
        "scrolled": true
      },
      "outputs": [],
      "source": [
        "import pickle,re, glob,os,random\n",
        "import numpy as np\n",
        "import pandas as pd\n",
        "import tensorflow as tf\n",
        "import matplotlib.pyplot as plt\n",
        "from tensorflow import keras\n",
        "from keras.models import Sequential, Model\n",
        "from keras.layers import Embedding,Dense,Dropout,Input,Concatenate,Flatten,Bidirectional,LSTM,Reshape\n",
        "from tensorflow.keras.models import load_model\n",
        "from tensorflow.keras.utils import plot_model\n",
        "import keras.backend as K\n",
        "from collections import defaultdict"
      ]
    },
    {
      "cell_type": "code",
      "source": [
        "!git clone https://github.com/dmamur/struct2prop.git\n",
        "!git clone https://github.com/ninarina12/phononDoS_tutorial.git\n",
        "%cd phononDoS_tutorial"
      ],
      "metadata": {
        "colab": {
          "base_uri": "https://localhost:8080/"
        },
        "id": "zgmyMBD2uJtw",
        "outputId": "5a62a8f2-8c18-4bdc-b360-65b0e9301b15"
      },
      "id": "zgmyMBD2uJtw",
      "execution_count": null,
      "outputs": [
        {
          "output_type": "stream",
          "name": "stdout",
          "text": [
            "Cloning into 'struct2prop'...\n",
            "remote: Enumerating objects: 104, done.\u001b[K\n",
            "remote: Counting objects: 100% (30/30), done.\u001b[K\n",
            "remote: Compressing objects: 100% (27/27), done.\u001b[K\n",
            "remote: Total 104 (delta 13), reused 2 (delta 2), pack-reused 74\u001b[K\n",
            "Receiving objects: 100% (104/104), 7.52 MiB | 10.37 MiB/s, done.\n",
            "Resolving deltas: 100% (35/35), done.\n",
            "Cloning into 'phononDoS_tutorial'...\n",
            "remote: Enumerating objects: 307, done.\u001b[K\n",
            "remote: Counting objects: 100% (13/13), done.\u001b[K\n",
            "remote: Compressing objects: 100% (11/11), done.\u001b[K\n",
            "remote: Total 307 (delta 4), reused 7 (delta 2), pack-reused 294\u001b[K\n",
            "Receiving objects: 100% (307/307), 83.18 MiB | 13.15 MiB/s, done.\n",
            "Resolving deltas: 100% (157/157), done.\n",
            "/content/phononDoS_tutorial\n"
          ]
        }
      ]
    },
    {
      "cell_type": "code",
      "execution_count": null,
      "id": "2c15c928",
      "metadata": {
        "id": "2c15c928"
      },
      "outputs": [],
      "source": [
        "class Config:\n",
        "    MAX_LEN = 128\n",
        "    BATCH_SIZE = 1\n",
        "    LR = 0.001\n",
        "    VOCAB_SIZE = 128\n",
        "    EMBED_DIM = 128\n",
        "    MNAME = 'embed_aunps_'\n",
        "config = Config()\n",
        "path=\"/content/struct2prop/models\"\n",
        "mname=path+config.MNAME+'E_'+str(config.EMBED_DIM)\n",
        "tf.random.set_seed(42)"
      ]
    },
    {
      "cell_type": "code",
      "source": [
        "!pip install ase"
      ],
      "metadata": {
        "colab": {
          "base_uri": "https://localhost:8080/"
        },
        "id": "YnU1NZY4GvMr",
        "outputId": "a5fbe9bb-1a43-421c-9fb1-b539f0b8ccb5"
      },
      "id": "YnU1NZY4GvMr",
      "execution_count": null,
      "outputs": [
        {
          "output_type": "stream",
          "name": "stdout",
          "text": [
            "Collecting ase\n",
            "  Downloading ase-3.22.1-py3-none-any.whl (2.2 MB)\n",
            "\u001b[2K     \u001b[90m━━━━━━━━━━━━━━━━━━━━━━━━━━━━━━━━━━━━━━━━\u001b[0m \u001b[32m2.2/2.2 MB\u001b[0m \u001b[31m15.0 MB/s\u001b[0m eta \u001b[36m0:00:00\u001b[0m\n",
            "\u001b[?25hRequirement already satisfied: matplotlib>=3.1.0 in /usr/local/lib/python3.10/dist-packages (from ase) (3.7.1)\n",
            "Requirement already satisfied: numpy>=1.15.0 in /usr/local/lib/python3.10/dist-packages (from ase) (1.23.5)\n",
            "Requirement already satisfied: scipy>=1.1.0 in /usr/local/lib/python3.10/dist-packages (from ase) (1.10.1)\n",
            "Requirement already satisfied: contourpy>=1.0.1 in /usr/local/lib/python3.10/dist-packages (from matplotlib>=3.1.0->ase) (1.1.0)\n",
            "Requirement already satisfied: cycler>=0.10 in /usr/local/lib/python3.10/dist-packages (from matplotlib>=3.1.0->ase) (0.11.0)\n",
            "Requirement already satisfied: fonttools>=4.22.0 in /usr/local/lib/python3.10/dist-packages (from matplotlib>=3.1.0->ase) (4.42.1)\n",
            "Requirement already satisfied: kiwisolver>=1.0.1 in /usr/local/lib/python3.10/dist-packages (from matplotlib>=3.1.0->ase) (1.4.5)\n",
            "Requirement already satisfied: packaging>=20.0 in /usr/local/lib/python3.10/dist-packages (from matplotlib>=3.1.0->ase) (23.1)\n",
            "Requirement already satisfied: pillow>=6.2.0 in /usr/local/lib/python3.10/dist-packages (from matplotlib>=3.1.0->ase) (9.4.0)\n",
            "Requirement already satisfied: pyparsing>=2.3.1 in /usr/local/lib/python3.10/dist-packages (from matplotlib>=3.1.0->ase) (3.1.1)\n",
            "Requirement already satisfied: python-dateutil>=2.7 in /usr/local/lib/python3.10/dist-packages (from matplotlib>=3.1.0->ase) (2.8.2)\n",
            "Requirement already satisfied: six>=1.5 in /usr/local/lib/python3.10/dist-packages (from python-dateutil>=2.7->matplotlib>=3.1.0->ase) (1.16.0)\n",
            "Installing collected packages: ase\n",
            "Successfully installed ase-3.22.1\n"
          ]
        }
      ]
    },
    {
      "cell_type": "markdown",
      "id": "86baf7df",
      "metadata": {
        "id": "86baf7df"
      },
      "source": [
        "# Load data from CIF"
      ]
    },
    {
      "cell_type": "code",
      "execution_count": null,
      "id": "5fa12f0c",
      "metadata": {
        "id": "5fa12f0c"
      },
      "outputs": [],
      "source": [
        "from ase.io import read\n",
        "from ase import Atoms\n",
        "from scipy.ndimage import gaussian_filter1d\n",
        "from ase.neighborlist import neighbor_list\n",
        "def getpdf(atoms,x,v):\n",
        "    i, d = neighbor_list('id', atoms, 10.0, self_interaction=False)\n",
        "    pdfatoms=[]\n",
        "    for k,l in enumerate(atoms):\n",
        "        y = np.zeros(100)\n",
        "        dist = np.round(d[i==k]*10)\n",
        "        a,b=np.unique(dist, return_counts=True)\n",
        "        np.put(y,a.astype(int)-1,b)\n",
        "        pdfatoms.append(gaussian_filter1d(y/v,1))\n",
        "    return np.asarray(pdfatoms)"
      ]
    },
    {
      "cell_type": "code",
      "source": [
        "# load data\n",
        "df = pd.read_csv('data/data.csv')\n",
        "df.head()"
      ],
      "metadata": {
        "colab": {
          "base_uri": "https://localhost:8080/",
          "height": 293
        },
        "id": "sY7ptR6Nur53",
        "outputId": "25ea7241-9bbe-4810-99dc-3e236d48055f"
      },
      "id": "sY7ptR6Nur53",
      "execution_count": null,
      "outputs": [
        {
          "output_type": "execute_result",
          "data": {
            "text/plain": [
              "        mp_id                                          structure  \\\n",
              "0     mp-1000  {'numbers': [56, 52], 'positions': [[0.0, 0.0,...   \n",
              "1  mp-1002124  {'numbers': [72, 6], 'positions': [[0.0, 0.0, ...   \n",
              "2  mp-1002164  {'numbers': [32, 6], 'positions': [[0.0, 0.0, ...   \n",
              "3    mp-10044  {'numbers': [5, 33], 'positions': [[4.44089209...   \n",
              "4  mp-1008223  {'numbers': [20, 34], 'positions': [[0.0, 0.0,...   \n",
              "\n",
              "                                              phfreq  \\\n",
              "0  [0.0, 20.0, 40.0, 60.0, 80.0, 100.0, 120.0, 14...   \n",
              "1  [0.0, 20.0, 40.0, 60.0, 80.0, 100.0, 120.0, 14...   \n",
              "2  [0.0, 20.0, 40.0, 60.0, 80.0, 100.0, 120.0, 14...   \n",
              "3  [0.0, 20.0, 40.0, 60.0, 80.0, 100.0, 120.0, 14...   \n",
              "4  [0.0, 20.0, 40.0, 60.0, 80.0, 100.0, 120.0, 14...   \n",
              "\n",
              "                                               phdos  \\\n",
              "0  [0.0, 0.1603814665137704, 0.366293016390463, 0...   \n",
              "1  [0.02337731725373556, 0.030910686260937723, 0....   \n",
              "2  [0.0, 0.0017221473876927959, 0.005981246148731...   \n",
              "3  [0.0, 0.002277293012378372, 0.0078646582782471...   \n",
              "4  [0.0, 0.258870972416879, 0.5505201512544314, 0...   \n",
              "\n",
              "                                                pdos  \n",
              "0  {'Ba': [0.0, 0.17004785173719497, 0.4321591874...  \n",
              "1  {'Hf': [0.026541048236378005, 0.03587084551615...  \n",
              "2  {'Ge': [0.0, 0.00316167053214679, 0.0109190651...  \n",
              "3  {'B': [0.0, 0.00029269193672558846, 0.00105324...  \n",
              "4  {'Ca': [0.0, 0.11150000312651394, 0.2215562000...  "
            ],
            "text/html": [
              "\n",
              "  <div id=\"df-55121147-7249-4e01-bd6d-3ab0256d954c\" class=\"colab-df-container\">\n",
              "    <div>\n",
              "<style scoped>\n",
              "    .dataframe tbody tr th:only-of-type {\n",
              "        vertical-align: middle;\n",
              "    }\n",
              "\n",
              "    .dataframe tbody tr th {\n",
              "        vertical-align: top;\n",
              "    }\n",
              "\n",
              "    .dataframe thead th {\n",
              "        text-align: right;\n",
              "    }\n",
              "</style>\n",
              "<table border=\"1\" class=\"dataframe\">\n",
              "  <thead>\n",
              "    <tr style=\"text-align: right;\">\n",
              "      <th></th>\n",
              "      <th>mp_id</th>\n",
              "      <th>structure</th>\n",
              "      <th>phfreq</th>\n",
              "      <th>phdos</th>\n",
              "      <th>pdos</th>\n",
              "    </tr>\n",
              "  </thead>\n",
              "  <tbody>\n",
              "    <tr>\n",
              "      <th>0</th>\n",
              "      <td>mp-1000</td>\n",
              "      <td>{'numbers': [56, 52], 'positions': [[0.0, 0.0,...</td>\n",
              "      <td>[0.0, 20.0, 40.0, 60.0, 80.0, 100.0, 120.0, 14...</td>\n",
              "      <td>[0.0, 0.1603814665137704, 0.366293016390463, 0...</td>\n",
              "      <td>{'Ba': [0.0, 0.17004785173719497, 0.4321591874...</td>\n",
              "    </tr>\n",
              "    <tr>\n",
              "      <th>1</th>\n",
              "      <td>mp-1002124</td>\n",
              "      <td>{'numbers': [72, 6], 'positions': [[0.0, 0.0, ...</td>\n",
              "      <td>[0.0, 20.0, 40.0, 60.0, 80.0, 100.0, 120.0, 14...</td>\n",
              "      <td>[0.02337731725373556, 0.030910686260937723, 0....</td>\n",
              "      <td>{'Hf': [0.026541048236378005, 0.03587084551615...</td>\n",
              "    </tr>\n",
              "    <tr>\n",
              "      <th>2</th>\n",
              "      <td>mp-1002164</td>\n",
              "      <td>{'numbers': [32, 6], 'positions': [[0.0, 0.0, ...</td>\n",
              "      <td>[0.0, 20.0, 40.0, 60.0, 80.0, 100.0, 120.0, 14...</td>\n",
              "      <td>[0.0, 0.0017221473876927959, 0.005981246148731...</td>\n",
              "      <td>{'Ge': [0.0, 0.00316167053214679, 0.0109190651...</td>\n",
              "    </tr>\n",
              "    <tr>\n",
              "      <th>3</th>\n",
              "      <td>mp-10044</td>\n",
              "      <td>{'numbers': [5, 33], 'positions': [[4.44089209...</td>\n",
              "      <td>[0.0, 20.0, 40.0, 60.0, 80.0, 100.0, 120.0, 14...</td>\n",
              "      <td>[0.0, 0.002277293012378372, 0.0078646582782471...</td>\n",
              "      <td>{'B': [0.0, 0.00029269193672558846, 0.00105324...</td>\n",
              "    </tr>\n",
              "    <tr>\n",
              "      <th>4</th>\n",
              "      <td>mp-1008223</td>\n",
              "      <td>{'numbers': [20, 34], 'positions': [[0.0, 0.0,...</td>\n",
              "      <td>[0.0, 20.0, 40.0, 60.0, 80.0, 100.0, 120.0, 14...</td>\n",
              "      <td>[0.0, 0.258870972416879, 0.5505201512544314, 0...</td>\n",
              "      <td>{'Ca': [0.0, 0.11150000312651394, 0.2215562000...</td>\n",
              "    </tr>\n",
              "  </tbody>\n",
              "</table>\n",
              "</div>\n",
              "    <div class=\"colab-df-buttons\">\n",
              "\n",
              "  <div class=\"colab-df-container\">\n",
              "    <button class=\"colab-df-convert\" onclick=\"convertToInteractive('df-55121147-7249-4e01-bd6d-3ab0256d954c')\"\n",
              "            title=\"Convert this dataframe to an interactive table.\"\n",
              "            style=\"display:none;\">\n",
              "\n",
              "  <svg xmlns=\"http://www.w3.org/2000/svg\" height=\"24px\" viewBox=\"0 -960 960 960\">\n",
              "    <path d=\"M120-120v-720h720v720H120Zm60-500h600v-160H180v160Zm220 220h160v-160H400v160Zm0 220h160v-160H400v160ZM180-400h160v-160H180v160Zm440 0h160v-160H620v160ZM180-180h160v-160H180v160Zm440 0h160v-160H620v160Z\"/>\n",
              "  </svg>\n",
              "    </button>\n",
              "\n",
              "  <style>\n",
              "    .colab-df-container {\n",
              "      display:flex;\n",
              "      gap: 12px;\n",
              "    }\n",
              "\n",
              "    .colab-df-convert {\n",
              "      background-color: #E8F0FE;\n",
              "      border: none;\n",
              "      border-radius: 50%;\n",
              "      cursor: pointer;\n",
              "      display: none;\n",
              "      fill: #1967D2;\n",
              "      height: 32px;\n",
              "      padding: 0 0 0 0;\n",
              "      width: 32px;\n",
              "    }\n",
              "\n",
              "    .colab-df-convert:hover {\n",
              "      background-color: #E2EBFA;\n",
              "      box-shadow: 0px 1px 2px rgba(60, 64, 67, 0.3), 0px 1px 3px 1px rgba(60, 64, 67, 0.15);\n",
              "      fill: #174EA6;\n",
              "    }\n",
              "\n",
              "    .colab-df-buttons div {\n",
              "      margin-bottom: 4px;\n",
              "    }\n",
              "\n",
              "    [theme=dark] .colab-df-convert {\n",
              "      background-color: #3B4455;\n",
              "      fill: #D2E3FC;\n",
              "    }\n",
              "\n",
              "    [theme=dark] .colab-df-convert:hover {\n",
              "      background-color: #434B5C;\n",
              "      box-shadow: 0px 1px 3px 1px rgba(0, 0, 0, 0.15);\n",
              "      filter: drop-shadow(0px 1px 2px rgba(0, 0, 0, 0.3));\n",
              "      fill: #FFFFFF;\n",
              "    }\n",
              "  </style>\n",
              "\n",
              "    <script>\n",
              "      const buttonEl =\n",
              "        document.querySelector('#df-55121147-7249-4e01-bd6d-3ab0256d954c button.colab-df-convert');\n",
              "      buttonEl.style.display =\n",
              "        google.colab.kernel.accessAllowed ? 'block' : 'none';\n",
              "\n",
              "      async function convertToInteractive(key) {\n",
              "        const element = document.querySelector('#df-55121147-7249-4e01-bd6d-3ab0256d954c');\n",
              "        const dataTable =\n",
              "          await google.colab.kernel.invokeFunction('convertToInteractive',\n",
              "                                                    [key], {});\n",
              "        if (!dataTable) return;\n",
              "\n",
              "        const docLinkHtml = 'Like what you see? Visit the ' +\n",
              "          '<a target=\"_blank\" href=https://colab.research.google.com/notebooks/data_table.ipynb>data table notebook</a>'\n",
              "          + ' to learn more about interactive tables.';\n",
              "        element.innerHTML = '';\n",
              "        dataTable['output_type'] = 'display_data';\n",
              "        await google.colab.output.renderOutput(dataTable, element);\n",
              "        const docLink = document.createElement('div');\n",
              "        docLink.innerHTML = docLinkHtml;\n",
              "        element.appendChild(docLink);\n",
              "      }\n",
              "    </script>\n",
              "  </div>\n",
              "\n",
              "\n",
              "<div id=\"df-050bd211-38df-4274-a29b-a6a02c47f178\">\n",
              "  <button class=\"colab-df-quickchart\" onclick=\"quickchart('df-050bd211-38df-4274-a29b-a6a02c47f178')\"\n",
              "            title=\"Suggest charts.\"\n",
              "            style=\"display:none;\">\n",
              "\n",
              "<svg xmlns=\"http://www.w3.org/2000/svg\" height=\"24px\"viewBox=\"0 0 24 24\"\n",
              "     width=\"24px\">\n",
              "    <g>\n",
              "        <path d=\"M19 3H5c-1.1 0-2 .9-2 2v14c0 1.1.9 2 2 2h14c1.1 0 2-.9 2-2V5c0-1.1-.9-2-2-2zM9 17H7v-7h2v7zm4 0h-2V7h2v10zm4 0h-2v-4h2v4z\"/>\n",
              "    </g>\n",
              "</svg>\n",
              "  </button>\n",
              "\n",
              "<style>\n",
              "  .colab-df-quickchart {\n",
              "      --bg-color: #E8F0FE;\n",
              "      --fill-color: #1967D2;\n",
              "      --hover-bg-color: #E2EBFA;\n",
              "      --hover-fill-color: #174EA6;\n",
              "      --disabled-fill-color: #AAA;\n",
              "      --disabled-bg-color: #DDD;\n",
              "  }\n",
              "\n",
              "  [theme=dark] .colab-df-quickchart {\n",
              "      --bg-color: #3B4455;\n",
              "      --fill-color: #D2E3FC;\n",
              "      --hover-bg-color: #434B5C;\n",
              "      --hover-fill-color: #FFFFFF;\n",
              "      --disabled-bg-color: #3B4455;\n",
              "      --disabled-fill-color: #666;\n",
              "  }\n",
              "\n",
              "  .colab-df-quickchart {\n",
              "    background-color: var(--bg-color);\n",
              "    border: none;\n",
              "    border-radius: 50%;\n",
              "    cursor: pointer;\n",
              "    display: none;\n",
              "    fill: var(--fill-color);\n",
              "    height: 32px;\n",
              "    padding: 0;\n",
              "    width: 32px;\n",
              "  }\n",
              "\n",
              "  .colab-df-quickchart:hover {\n",
              "    background-color: var(--hover-bg-color);\n",
              "    box-shadow: 0 1px 2px rgba(60, 64, 67, 0.3), 0 1px 3px 1px rgba(60, 64, 67, 0.15);\n",
              "    fill: var(--button-hover-fill-color);\n",
              "  }\n",
              "\n",
              "  .colab-df-quickchart-complete:disabled,\n",
              "  .colab-df-quickchart-complete:disabled:hover {\n",
              "    background-color: var(--disabled-bg-color);\n",
              "    fill: var(--disabled-fill-color);\n",
              "    box-shadow: none;\n",
              "  }\n",
              "\n",
              "  .colab-df-spinner {\n",
              "    border: 2px solid var(--fill-color);\n",
              "    border-color: transparent;\n",
              "    border-bottom-color: var(--fill-color);\n",
              "    animation:\n",
              "      spin 1s steps(1) infinite;\n",
              "  }\n",
              "\n",
              "  @keyframes spin {\n",
              "    0% {\n",
              "      border-color: transparent;\n",
              "      border-bottom-color: var(--fill-color);\n",
              "      border-left-color: var(--fill-color);\n",
              "    }\n",
              "    20% {\n",
              "      border-color: transparent;\n",
              "      border-left-color: var(--fill-color);\n",
              "      border-top-color: var(--fill-color);\n",
              "    }\n",
              "    30% {\n",
              "      border-color: transparent;\n",
              "      border-left-color: var(--fill-color);\n",
              "      border-top-color: var(--fill-color);\n",
              "      border-right-color: var(--fill-color);\n",
              "    }\n",
              "    40% {\n",
              "      border-color: transparent;\n",
              "      border-right-color: var(--fill-color);\n",
              "      border-top-color: var(--fill-color);\n",
              "    }\n",
              "    60% {\n",
              "      border-color: transparent;\n",
              "      border-right-color: var(--fill-color);\n",
              "    }\n",
              "    80% {\n",
              "      border-color: transparent;\n",
              "      border-right-color: var(--fill-color);\n",
              "      border-bottom-color: var(--fill-color);\n",
              "    }\n",
              "    90% {\n",
              "      border-color: transparent;\n",
              "      border-bottom-color: var(--fill-color);\n",
              "    }\n",
              "  }\n",
              "</style>\n",
              "\n",
              "  <script>\n",
              "    async function quickchart(key) {\n",
              "      const quickchartButtonEl =\n",
              "        document.querySelector('#' + key + ' button');\n",
              "      quickchartButtonEl.disabled = true;  // To prevent multiple clicks.\n",
              "      quickchartButtonEl.classList.add('colab-df-spinner');\n",
              "      try {\n",
              "        const charts = await google.colab.kernel.invokeFunction(\n",
              "            'suggestCharts', [key], {});\n",
              "      } catch (error) {\n",
              "        console.error('Error during call to suggestCharts:', error);\n",
              "      }\n",
              "      quickchartButtonEl.classList.remove('colab-df-spinner');\n",
              "      quickchartButtonEl.classList.add('colab-df-quickchart-complete');\n",
              "    }\n",
              "    (() => {\n",
              "      let quickchartButtonEl =\n",
              "        document.querySelector('#df-050bd211-38df-4274-a29b-a6a02c47f178 button');\n",
              "      quickchartButtonEl.style.display =\n",
              "        google.colab.kernel.accessAllowed ? 'block' : 'none';\n",
              "    })();\n",
              "  </script>\n",
              "</div>\n",
              "    </div>\n",
              "  </div>\n"
            ]
          },
          "metadata": {},
          "execution_count": 6
        }
      ]
    },
    {
      "cell_type": "code",
      "source": [
        "df['phdos'] = df['phdos'].apply(eval).apply(np.array)\n",
        "df['phfreq'] = df['phfreq'].apply(eval).apply(np.array)"
      ],
      "metadata": {
        "id": "vX8t1pcQ2WKt"
      },
      "id": "vX8t1pcQ2WKt",
      "execution_count": null,
      "outputs": []
    },
    {
      "cell_type": "code",
      "source": [
        "r = np.arange(0,10,0.1)\n",
        "v = np.concatenate([[1],4*np.pi/3*(r[1:]**3 - r[:-1]**3)])\n",
        "types,formula,ids,pdf,phdos = [],[],[],[],[]\n",
        "for index, row in df.iterrows():\n",
        "  atoms=Atoms.fromdict(eval(row['structure']))\n",
        "  formula.append(atoms.get_chemical_formula())\n",
        "  types.append(atoms.get_chemical_symbols())\n",
        "  pdf.append(getpdf(atoms,r,v))\n",
        "ids=df['mp_id'].to_list()"
      ],
      "metadata": {
        "id": "wIBJ_gowtkvv"
      },
      "id": "wIBJ_gowtkvv",
      "execution_count": null,
      "outputs": []
    },
    {
      "cell_type": "code",
      "execution_count": null,
      "id": "7e8954ed",
      "metadata": {
        "id": "7e8954ed",
        "colab": {
          "base_uri": "https://localhost:8080/"
        },
        "outputId": "240cee39-4c90-48fb-b436-d2c0600015b3"
      },
      "outputs": [
        {
          "output_type": "stream",
          "name": "stdout",
          "text": [
            "94\n"
          ]
        }
      ],
      "source": [
        "# Load data for masked language model\n",
        "with open('/content/struct2prop/data/el2id.pkl', 'rb') as f:\n",
        "    el2id = pickle.load(f)\n",
        "element2id = el2id['el2id']\n",
        "config.VOCAB_SIZE = len(element2id)\n",
        "print(config.VOCAB_SIZE)"
      ]
    },
    {
      "cell_type": "code",
      "execution_count": null,
      "id": "ba8465c2",
      "metadata": {
        "id": "ba8465c2"
      },
      "outputs": [],
      "source": [
        "typesNumerical=[]\n",
        "for i in types:\n",
        "    typesNumerical.append([element2id[j] for j in i])\n",
        "\n",
        "x1 = tf.keras.preprocessing.sequence.pad_sequences(pdf,dtype='float32',padding= 'post',maxlen=config.MAX_LEN )\n",
        "x1[np.isnan(x1)]=0\n",
        "x3 = tf.keras.preprocessing.sequence.pad_sequences(typesNumerical,dtype='int32',padding= 'post',maxlen=config.MAX_LEN)"
      ]
    },
    {
      "cell_type": "code",
      "source": [
        "y  = tf.keras.preprocessing.sequence.pad_sequences(df['phdos'].to_numpy(),dtype='float32',padding= 'post')\n",
        "p = np.random.RandomState(seed=73).permutation(y.shape[0])\n",
        "n = len(p)\n",
        "trainidx = p[:int(n*0.8)]\n",
        "validx = p[int(n*0.8):int(n*0.9)]\n",
        "testidx = p[int(n*0.9):]\n",
        "\n",
        "x1v, x3v,ytrainv   =  x1[validx],  x3[validx],  y[validx]\n",
        "x1t,  x3t, ytrain =  x1[trainidx],x3[trainidx],y[trainidx]"
      ],
      "metadata": {
        "id": "nRaXAT213_uB"
      },
      "id": "nRaXAT213_uB",
      "execution_count": null,
      "outputs": []
    },
    {
      "cell_type": "markdown",
      "id": "9W_HmiqsDXJf",
      "metadata": {
        "id": "9W_HmiqsDXJf"
      },
      "source": [
        "# Predict PhDOS\n",
        "I shall use x_train2 as y_train but after replacing 20% of atoms with 0"
      ]
    },
    {
      "cell_type": "code",
      "execution_count": null,
      "id": "8e79c14a",
      "metadata": {
        "id": "8e79c14a"
      },
      "outputs": [],
      "source": [
        "inputA = Input(shape=x1t.shape[1:],name='x1')\n",
        "inputC = Input((config.MAX_LEN), dtype=tf.int32,name='types')\n",
        "outNeuronNum = y.shape[1]\n",
        "inputD = Input(shape=outNeuronNum,)\n",
        "\n",
        "x = Bidirectional(LSTM(8,name='x1_lstm',return_sequences=True),name='x1_blstm')(inputA)\n",
        "x = Model(inputs=inputA, outputs=x)\n",
        "\n",
        "z =  Embedding(config.VOCAB_SIZE, config.EMBED_DIM, mask_zero=True,name=\"element_embdgs\")(inputC)\n",
        "z = Model(inputs=inputC, outputs=z)\n",
        "\n",
        "combined = Concatenate()([x.output,z.output])\n",
        "\n",
        "l = LSTM(256)(combined)\n",
        "\n",
        "e = Dense(outNeuronNum, activation=\"relu\",use_bias=True,name='out_edos')(l)\n",
        "model = Model(inputs=[x.input, z.input], outputs=[e])\n",
        "\n",
        "mname = mname+'_phDOS'\n"
      ]
    },
    {
      "cell_type": "code",
      "execution_count": null,
      "id": "b95d888d",
      "metadata": {
        "scrolled": true,
        "colab": {
          "base_uri": "https://localhost:8080/",
          "height": 533
        },
        "id": "b95d888d",
        "outputId": "0656a36e-b6b8-4822-9c9b-d92e11bcead7"
      },
      "outputs": [
        {
          "output_type": "execute_result",
          "data": {
            "image/png": "[encoded data removed]",
            "text/plain": [
              "<IPython.core.display.Image object>"
            ]
          },
          "metadata": {},
          "execution_count": 13
        }
      ],
      "source": [
        "plot_model(model, show_shapes=True, show_layer_names=True)"
      ]
    },
    {
      "cell_type": "code",
      "execution_count": null,
      "id": "200d2033",
      "metadata": {
        "colab": {
          "base_uri": "https://localhost:8080/"
        },
        "id": "200d2033",
        "outputId": "4f86c300-7932-4e42-b1cb-e37ec0739e33"
      },
      "outputs": [
        {
          "output_type": "stream",
          "name": "stdout",
          "text": [
            "Model: \"model_2\"\n",
            "__________________________________________________________________________________________________\n",
            " Layer (type)                Output Shape                 Param #   Connected to                  \n",
            "==================================================================================================\n",
            " x1 (InputLayer)             [(None, 128, 100)]           0         []                            \n",
            "                                                                                                  \n",
            " types (InputLayer)          [(None, 128)]                0         []                            \n",
            "                                                                                                  \n",
            " x1_blstm (Bidirectional)    (None, 128, 16)              6976      ['x1[0][0]']                  \n",
            "                                                                                                  \n",
            " element_embdgs (Embedding)  (None, 128, 128)             12032     ['types[0][0]']               \n",
            "                                                                                                  \n",
            " concatenate (Concatenate)   (None, 128, 144)             0         ['x1_blstm[0][0]',            \n",
            "                                                                     'element_embdgs[0][0]']      \n",
            "                                                                                                  \n",
            " lstm (LSTM)                 (None, 256)                  410624    ['concatenate[0][0]']         \n",
            "                                                                                                  \n",
            " out_edos (Dense)            (None, 51)                   13107     ['lstm[0][0]']                \n",
            "                                                                                                  \n",
            "==================================================================================================\n",
            "Total params: 442739 (1.69 MB)\n",
            "Trainable params: 442739 (1.69 MB)\n",
            "Non-trainable params: 0 (0.00 Byte)\n",
            "__________________________________________________________________________________________________\n"
          ]
        }
      ],
      "source": [
        "model.summary()"
      ]
    },
    {
      "cell_type": "code",
      "execution_count": null,
      "id": "dc5dfdd1",
      "metadata": {
        "id": "dc5dfdd1"
      },
      "outputs": [],
      "source": [
        "model.compile(loss ='mae',\n",
        "              optimizer= keras.optimizers.Adam(learning_rate=config.LR),\n",
        "              metrics='mse')"
      ]
    },
    {
      "cell_type": "code",
      "execution_count": null,
      "id": "eeab9e7a",
      "metadata": {
        "id": "eeab9e7a",
        "colab": {
          "base_uri": "https://localhost:8080/"
        },
        "outputId": "93d95c78-f3ac-4907-93ab-331ec311e7f6"
      },
      "outputs": [
        {
          "output_type": "stream",
          "name": "stdout",
          "text": [
            "Epoch 1/30\n",
            "39/39 [==============================] - 31s 177ms/step - loss: 0.1413 - mse: 0.0679 - val_loss: 0.1153 - val_mse: 0.0477 - lr: 0.0010\n",
            "Epoch 2/30\n",
            "39/39 [==============================] - 1s 26ms/step - loss: 0.1141 - mse: 0.0442 - val_loss: 0.1046 - val_mse: 0.0386 - lr: 9.2000e-04\n",
            "Epoch 3/30\n",
            "39/39 [==============================] - 2s 42ms/step - loss: 0.1060 - mse: 0.0385 - val_loss: 0.0998 - val_mse: 0.0350 - lr: 9.2000e-04\n",
            "Epoch 4/30\n",
            "39/39 [==============================] - 1s 30ms/step - loss: 0.1010 - mse: 0.0352 - val_loss: 0.0966 - val_mse: 0.0341 - lr: 8.4640e-04\n",
            "Epoch 5/30\n",
            "39/39 [==============================] - 1s 25ms/step - loss: 0.0986 - mse: 0.0337 - val_loss: 0.0932 - val_mse: 0.0319 - lr: 8.4640e-04\n",
            "Epoch 6/30\n",
            "39/39 [==============================] - 1s 23ms/step - loss: 0.0957 - mse: 0.0322 - val_loss: 0.0922 - val_mse: 0.0308 - lr: 7.7869e-04\n",
            "Epoch 7/30\n",
            "39/39 [==============================] - 1s 17ms/step - loss: 0.0937 - mse: 0.0309 - val_loss: 0.0900 - val_mse: 0.0301 - lr: 7.7869e-04\n",
            "Epoch 8/30\n",
            "39/39 [==============================] - 1s 19ms/step - loss: 0.0930 - mse: 0.0309 - val_loss: 0.0898 - val_mse: 0.0296 - lr: 7.1639e-04\n",
            "Epoch 9/30\n",
            "39/39 [==============================] - 1s 19ms/step - loss: 0.0919 - mse: 0.0301 - val_loss: 0.0887 - val_mse: 0.0297 - lr: 7.1639e-04\n",
            "Epoch 10/30\n",
            "39/39 [==============================] - 1s 18ms/step - loss: 0.0903 - mse: 0.0292 - val_loss: 0.0878 - val_mse: 0.0290 - lr: 6.5908e-04\n",
            "Epoch 11/30\n",
            "39/39 [==============================] - 1s 17ms/step - loss: 0.0896 - mse: 0.0289 - val_loss: 0.0875 - val_mse: 0.0293 - lr: 6.5908e-04\n",
            "Epoch 12/30\n",
            "39/39 [==============================] - 1s 23ms/step - loss: 0.0883 - mse: 0.0284 - val_loss: 0.0862 - val_mse: 0.0281 - lr: 6.0636e-04\n",
            "Epoch 13/30\n",
            "39/39 [==============================] - 1s 18ms/step - loss: 0.0876 - mse: 0.0279 - val_loss: 0.0856 - val_mse: 0.0277 - lr: 6.0636e-04\n",
            "Epoch 14/30\n",
            "39/39 [==============================] - 1s 22ms/step - loss: 0.0868 - mse: 0.0275 - val_loss: 0.0864 - val_mse: 0.0282 - lr: 5.5785e-04\n",
            "Epoch 15/30\n",
            "39/39 [==============================] - 1s 17ms/step - loss: 0.0862 - mse: 0.0272 - val_loss: 0.0850 - val_mse: 0.0275 - lr: 5.5785e-04\n",
            "Epoch 16/30\n",
            "39/39 [==============================] - 1s 22ms/step - loss: 0.0854 - mse: 0.0269 - val_loss: 0.0854 - val_mse: 0.0271 - lr: 5.1322e-04\n",
            "Epoch 17/30\n",
            "39/39 [==============================] - 1s 18ms/step - loss: 0.0842 - mse: 0.0262 - val_loss: 0.0847 - val_mse: 0.0269 - lr: 5.1322e-04\n",
            "Epoch 18/30\n",
            "39/39 [==============================] - 1s 20ms/step - loss: 0.0849 - mse: 0.0267 - val_loss: 0.0846 - val_mse: 0.0269 - lr: 4.7216e-04\n",
            "Epoch 19/30\n",
            "39/39 [==============================] - 1s 29ms/step - loss: 0.0833 - mse: 0.0256 - val_loss: 0.0846 - val_mse: 0.0271 - lr: 4.7216e-04\n",
            "Epoch 20/30\n",
            "39/39 [==============================] - 1s 30ms/step - loss: 0.0822 - mse: 0.0252 - val_loss: 0.0844 - val_mse: 0.0271 - lr: 4.3439e-04\n",
            "Epoch 21/30\n",
            "39/39 [==============================] - 1s 26ms/step - loss: 0.0820 - mse: 0.0250 - val_loss: 0.0835 - val_mse: 0.0265 - lr: 4.3439e-04\n",
            "Epoch 22/30\n",
            "39/39 [==============================] - 1s 18ms/step - loss: 0.0812 - mse: 0.0248 - val_loss: 0.0837 - val_mse: 0.0268 - lr: 3.9964e-04\n",
            "Epoch 23/30\n",
            "39/39 [==============================] - 1s 19ms/step - loss: 0.0814 - mse: 0.0248 - val_loss: 0.0833 - val_mse: 0.0264 - lr: 3.9964e-04\n",
            "Epoch 24/30\n",
            "39/39 [==============================] - 1s 18ms/step - loss: 0.0800 - mse: 0.0242 - val_loss: 0.0835 - val_mse: 0.0263 - lr: 3.6767e-04\n",
            "Epoch 25/30\n",
            "39/39 [==============================] - 1s 19ms/step - loss: 0.0795 - mse: 0.0241 - val_loss: 0.0834 - val_mse: 0.0265 - lr: 3.6767e-04\n",
            "Epoch 26/30\n",
            "39/39 [==============================] - 1s 17ms/step - loss: 0.0813 - mse: 0.0248 - val_loss: 0.0823 - val_mse: 0.0259 - lr: 3.3825e-04\n",
            "Epoch 27/30\n",
            "39/39 [==============================] - 1s 18ms/step - loss: 0.0793 - mse: 0.0239 - val_loss: 0.0819 - val_mse: 0.0257 - lr: 3.3825e-04\n",
            "Epoch 28/30\n",
            "39/39 [==============================] - 1s 18ms/step - loss: 0.0784 - mse: 0.0235 - val_loss: 0.0825 - val_mse: 0.0257 - lr: 3.1119e-04\n",
            "Epoch 29/30\n",
            "39/39 [==============================] - 1s 18ms/step - loss: 0.0782 - mse: 0.0233 - val_loss: 0.0818 - val_mse: 0.0252 - lr: 3.1119e-04\n",
            "Epoch 30/30\n",
            "39/39 [==============================] - 1s 19ms/step - loss: 0.0769 - mse: 0.0228 - val_loss: 0.0820 - val_mse: 0.0255 - lr: 2.8630e-04\n"
          ]
        }
      ],
      "source": [
        "def scheduler(epoch):\n",
        "    initial_lrate = config.LR\n",
        "    drop = 0.92\n",
        "    epochs_drop = 2\n",
        "    lr = initial_lrate * np.power(drop, np.floor((1+epoch)/epochs_drop))\n",
        "    if lr<0.0001:\n",
        "        lr = 0.0001\n",
        "    return lr\n",
        "\n",
        "epochs=30*config.BATCH_SIZE\n",
        "csv_logger = tf.keras.callbacks.CSVLogger(mname+\"_log.csv\", append=True)\n",
        "earlyStopping= tf.keras.callbacks.EarlyStopping(monitor='loss', patience=50, min_delta=0.01)\n",
        "checkpoint = tf.keras.callbacks.ModelCheckpoint(mname+\".h5\",verbose=2,monitor='val_loss', mode='min',save_freq=5000)\n",
        "callbacks_list = [checkpoint,csv_logger,earlyStopping,tf.keras.callbacks.LearningRateScheduler(scheduler)]\n",
        "\n",
        "hist = model.fit(x=[x1t,x3t],y = [ytrain],validation_data = ([x1v, x3v],[ytrainv]),\n",
        "                 initial_epoch = 0, epochs = epochs,batch_size = 32,callbacks = callbacks_list, verbose=1)\n"
      ]
    },
    {
      "cell_type": "code",
      "source": [
        "preds = model.predict([x1,x3],batch_size = 32)\n",
        "\n",
        "dbresults={}\n",
        "dbresults['x4'] = df['phfreq'].to_numpy()\n",
        "dbresults['y'] = y\n",
        "dbresults['preds'] = preds\n",
        "dbresults['train_idx'] = trainidx\n",
        "dbresults['validate_idx'] = validx\n",
        "dbresults['test_idx'] = testidx\n",
        "dbresults['formula'] = formula\n",
        "dbresults['ids'] = ids\n",
        "\n",
        "with open(mname+'_results.pkl', 'wb') as f:\n",
        "    pickle.dump(dbresults, f)\n"
      ],
      "metadata": {
        "colab": {
          "base_uri": "https://localhost:8080/"
        },
        "id": "BBTzMoSDBtg_",
        "outputId": "7fea14ed-ebba-4775-e3e6-63c38b56e336"
      },
      "id": "BBTzMoSDBtg_",
      "execution_count": null,
      "outputs": [
        {
          "output_type": "stream",
          "name": "stdout",
          "text": [
            "48/48 [==============================] - 3s 9ms/step\n"
          ]
        }
      ]
    },
    {
      "cell_type": "code",
      "source": [
        "from sklearn.metrics import mean_squared_error,mean_absolute_error,median_absolute_error\n",
        "ytest    = dbresults['y'][testidx]\n",
        "x4t      = dbresults['x4'][testidx]\n",
        "predtest = dbresults['preds'][testidx]\n",
        "mset = np.asarray([mean_squared_error(i,j) for i,j in zip(ytest,predtest)])\n",
        "maet = np.asarray([mean_absolute_error(i,j) for i,j in zip(ytest,predtest)])\n",
        "mseTt=np.mean(mset)\n",
        "maeTt=np.mean(maet)\n",
        "print('MSE_test: ',mseTt,'MAE_test: ',maeTt)\n",
        "#formula = [dbresults['formula'][i] for i in testidx]\n",
        "#ids = [dbresults['ids'][i] for i in testidx]\n",
        "ind=np.random.randint(len(ytest))\n",
        "p = np.random.permutation(np.where(mset>0.)[0])\n",
        "ind=p[0]#np.random.randint(len(ytrain))\n",
        "y_true = ytest[ind]\n",
        "y_pred = predtest[ind]\n",
        "plt.plot(x4t[ind],y_true,label='original')\n",
        "plt.plot(x4t[ind],gaussian_filter1d(y_pred,1),label='predicted')\n",
        "#plt.plot(x4t[ind],gaussian_filter1d(y_true,1))\n",
        "print('mean_squared_error: ',mean_squared_error(y_true,y_pred))\n",
        "print('mean_absolute_error: ',mean_absolute_error(y_true,y_pred))\n",
        "#plt.title(formula[ind].translate(sub), fontsize=16)\n",
        "plt.legend();"
      ],
      "metadata": {
        "colab": {
          "base_uri": "https://localhost:8080/",
          "height": 482
        },
        "id": "hJyfoolJ3dhO",
        "outputId": "5da9d5eb-e4bd-490d-848e-19b56bef5328"
      },
      "id": "hJyfoolJ3dhO",
      "execution_count": null,
      "outputs": [
        {
          "output_type": "stream",
          "name": "stdout",
          "text": [
            "MSE_test:  0.027115703 MAE_test:  0.08697912\n",
            "mean_squared_error:  0.015213101\n",
            "mean_absolute_error:  0.06756615\n"
          ]
        },
        {
          "output_type": "display_data",
          "data": {
            "text/plain": [
              "<Figure size 640x480 with 1 Axes>"
            ],
            "image/png": "[encoded data removed]"
          },
          "metadata": {}
        }
      ]
    },
    {
      "cell_type": "code",
      "source": [],
      "metadata": {
        "id": "NdPPqcdYcjNJ"
      },
      "id": "NdPPqcdYcjNJ",
      "execution_count": null,
      "outputs": []
    }
  ],
  "metadata": {
    "accelerator": "GPU",
    "colab": {
      "provenance": [],
      "include_colab_link": true
    },
    "gpuClass": "standard",
    "kernelspec": {
      "display_name": "Python 3 (ipykernel)",
      "language": "python",
      "name": "python3"
    },
    "language_info": {
      "codemirror_mode": {
        "name": "ipython",
        "version": 3
      },
      "file_extension": ".py",
      "mimetype": "text/x-python",
      "name": "python",
      "nbconvert_exporter": "python",
      "pygments_lexer": "ipython3",
      "version": "3.8.10"
    }
  },
  "nbformat": 4,
  "nbformat_minor": 5
}